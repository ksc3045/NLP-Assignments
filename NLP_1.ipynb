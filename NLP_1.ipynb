{
  "cells": [
    {
      "cell_type": "markdown",
      "metadata": {
        "id": "view-in-github",
        "colab_type": "text"
      },
      "source": [
        "<a href=\"https://colab.research.google.com/github/ksc3045/NLP-Assignments/blob/main/NLP_1.ipynb\" target=\"_parent\"><img src=\"https://colab.research.google.com/assets/colab-badge.svg\" alt=\"Open In Colab\"/></a>"
      ]
    },
    {
      "cell_type": "markdown",
      "metadata": {
        "id": "TtTsKOJ52rrX"
      },
      "source": [
        "# **NLP in practice: Spam filtering**"
      ]
    },
    {
      "cell_type": "markdown",
      "source": [
        "## **Machine learning pipeline**"
      ],
      "metadata": {
        "id": "DXOBSrJuTkhn"
      }
    },
    {
      "cell_type": "code",
      "source": [
        "from google.colab import drive\n",
        "drive.mount('/content/drive')\n",
        "%cd /content/drive/MyDrive/Academic/2025/January - 25/NLP/Lectures/Spam vs Ham\n",
        "%ls"
      ],
      "metadata": {
        "colab": {
          "base_uri": "https://localhost:8080/"
        },
        "id": "pAL7G7jr47x6",
        "outputId": "fe6b0476-448d-4a6b-bc6f-e9f88277bcfc"
      },
      "execution_count": null,
      "outputs": [
        {
          "output_type": "stream",
          "name": "stdout",
          "text": [
            "Drive already mounted at /content/drive; to attempt to forcibly remount, call drive.mount(\"/content/drive\", force_remount=True).\n",
            "/content/drive/MyDrive/Academic/2025/January - 25/NLP/Lectures/Spam vs Ham\n",
            "Chapter2.ipynb  \u001b[0m\u001b[01;34menron1\u001b[0m/  enron1.zip\n"
          ]
        }
      ]
    },
    {
      "cell_type": "markdown",
      "metadata": {
        "id": "_t2l6Sy62rrY"
      },
      "source": [
        "Read in spam and ham file lists:"
      ]
    },
    {
      "cell_type": "code",
      "execution_count": null,
      "metadata": {
        "id": "_-jsp7bk2rrY"
      },
      "outputs": [],
      "source": [
        "import os   # Using os functionality, list all the files in the specified folder.\n",
        "import codecs # helps with different text encodings.\n",
        "\n",
        "def read_in(folder):\n",
        "    files = os.listdir(folder)\n",
        "    a_list = []\n",
        "    for a_file in files:      # Iterate through the files in the folder.\n",
        "        if not a_file.startswith(\".\"):    # Skip hidden files\n",
        "            # Read the contents of each file.\n",
        "            f = codecs.open(folder + a_file, \"r\", encoding = \"ISO-8859-1\", errors=\"ignore\")\n",
        "            # Add the content of each file to the list data structure.\n",
        "            a_list.append(f.read())\n",
        "            f.close() # Close the file after you read the contents.\n",
        "    return a_list   # Return Python list that contains the contents of the files from the specified folder."
      ]
    },
    {
      "cell_type": "markdown",
      "metadata": {
        "id": "BWzLQ4ox2rrZ"
      },
      "source": [
        "Initialise lists and print out length – this should return 1500 for `enron1/spam` and 3672 for `enron1/ham`:"
      ]
    },
    {
      "cell_type": "code",
      "execution_count": null,
      "metadata": {
        "colab": {
          "base_uri": "https://localhost:8080/"
        },
        "id": "_lzfVVLx2rrZ",
        "outputId": "ce4de935-7999-4f0d-e1db-3bf7eddc4d35"
      },
      "outputs": [
        {
          "output_type": "stream",
          "name": "stdout",
          "text": [
            "1500\n",
            "Subject: holiday voucher #608324 tropical travel package\r\n",
            "You are receiving this email because you opted in at one of our\r\n",
            "Associates. Please do not reply to this email as this address does not\r\n",
            "Accept mail. To remove yourself from this list and not receive\r\n",
            "Future offersplease click\r\n",
            "Here, or send a request (including email address) to:\r\n",
            "Voucher fulfillmentl 001 cypress creek road, suite 316 fort\r\n",
            "Lauderdale, fl 33309\n",
            "3672\n",
            "Subject: sitara position\n",
            "Please use the position manager home button.\n",
            "When using the sitara position manager, and you drill down to view details\n",
            "Or change the dates, the position manager keeps\n",
            "All your views running in the background. This feature allows you to use the\n",
            "Back and forward buttons to keep your views running.\n",
            "On the downside, if you keep these views running but do not really intend to\n",
            "Go back to look at them, the system and your pc are working harder\n",
            "To keep all the old views active and updated.\n",
            "The home button sends you back to your default view - the first view you had\n",
            "Up when you hit apply. By clicking this button, your\n",
            "Position manager will clear out the old views the next time you drill in.\n",
            "This is the only way to clear out the old views that you no longer need.\n",
            "If you do not use the home key, and keep drilling in and changing the dates,\n",
            "The position manager is still keeping all the your views for\n",
            "The day running in the backgound.\n",
            "What we have found is by the end of the day, a user that does not clear out\n",
            "The old views can have well over 30 views open, which is like having\n",
            "30 position managers up on your pc. When that user closes down, the position\n",
            "Gets locked up for a while as it tries to clear out all the old views.\n",
            "We will be making some changes soon to that should resolve this issue as far\n",
            "As the sitara machine is concerned; however, your pc may still be\n",
            "Slow with excessive unneccessary views open. We could make a change to\n",
            "Limit the number of active views you can have open, but at this time\n",
            "I am not sure that is necessary; regardless, in the mean time, please\n",
            "Remember to use your home button.\n",
            "Other helpful hints -\n",
            "Did you know you can shrink you tool bar? Tools options - uncheck show tool\n",
            "Bar text labels -\n",
            "Did you know you can split your position screen to have pipes on top and\n",
            "Zones and meters below? Tools options - show drill down second panel -\n",
            "If you have an omicron position porfolio - your min/max button shows you\n",
            "Actual - and min/max for your day swing deals.\n",
            "Same works for nom flex portfolio.\n"
          ]
        }
      ],
      "source": [
        "spam_list = read_in(\"enron1/spam/\")\n",
        "print(len(spam_list))\n",
        "# Print out the contents of the first entry (i.e., the first file in each correspondent subfolder).\n",
        "print(spam_list[0])\n",
        "\n",
        "ham_list = read_in(\"enron1/ham/\")\n",
        "print(len(ham_list))\n",
        "# Print out the contents of the first entry (i.e., the first file in each correspondent subfolder).\n",
        "print(ham_list[0])"
      ]
    },
    {
      "cell_type": "code",
      "execution_count": null,
      "metadata": {
        "colab": {
          "base_uri": "https://localhost:8080/"
        },
        "id": "guiKT1DH2rrZ",
        "outputId": "ea5c478d-ac7a-47e1-b15a-52c5a3cfc825"
      },
      "outputs": [
        {
          "output_type": "stream",
          "name": "stdout",
          "text": [
            "Dataset size = 5172 emails\n"
          ]
        }
      ],
      "source": [
        "import random\n",
        "\n",
        "all_emails = [(email_content, \"spam\") for email_content in spam_list]\n",
        "all_emails += [(email_content, \"ham\") for email_content in ham_list]\n",
        "random.seed(42)\n",
        "random.shuffle(all_emails)\n",
        "print (f\"Dataset size = {str(len(all_emails))} emails\")"
      ]
    },
    {
      "cell_type": "markdown",
      "source": [
        "### Step 2: Split the text into words\n",
        "\n",
        "Preprocess the texts by tokenising them and removing the stopwords"
      ],
      "metadata": {
        "id": "wFJxTSD7ZCND"
      }
    },
    {
      "cell_type": "code",
      "source": [
        "# This code is important otherwise NLTK library was producing errors\n",
        "nltk.download('punkt_tab')"
      ],
      "metadata": {
        "colab": {
          "base_uri": "https://localhost:8080/"
        },
        "id": "UEB1wipROZxV",
        "outputId": "8b17fb24-c549-453f-aa60-0aff0c6d8905"
      },
      "execution_count": null,
      "outputs": [
        {
          "output_type": "stream",
          "name": "stderr",
          "text": [
            "[nltk_data] Downloading package punkt_tab to /root/nltk_data...\n",
            "[nltk_data]   Unzipping tokenizers/punkt_tab.zip.\n"
          ]
        },
        {
          "output_type": "execute_result",
          "data": {
            "text/plain": [
              "True"
            ]
          },
          "metadata": {},
          "execution_count": 16
        }
      ]
    },
    {
      "cell_type": "code",
      "execution_count": null,
      "metadata": {
        "scrolled": false,
        "id": "WHRDApKi2rra"
      },
      "outputs": [],
      "source": [
        "import nltk\n",
        "from nltk import word_tokenize\n",
        "\n",
        "def get_features(text):\n",
        "    features = {}\n",
        "    word_list = [word for word in word_tokenize(text.lower())]\n",
        "    for word in word_list:\n",
        "        features[word] = True\n",
        "    return features\n",
        "\n",
        "all_features = [(get_features(email), label) for (email, label) in all_emails]\n",
        "\n",
        "print(get_features(\"Participate In Our New Lottery NOW!\"))\n",
        "print(len(all_features))\n",
        "print(len(all_features[0][0]))\n",
        "print(len(all_features[99][0]))"
      ]
    },
    {
      "cell_type": "markdown",
      "source": [
        "### Step 3: Extract and normalize the features\n",
        "\n"
      ],
      "metadata": {
        "id": "U3d43gW-aM3J"
      }
    },
    {
      "cell_type": "markdown",
      "source": [
        "### Step 4: Train a classifier\n",
        "\n",
        "\n"
      ],
      "metadata": {
        "id": "uFCAvEmHa7yK"
      }
    },
    {
      "cell_type": "markdown",
      "metadata": {
        "id": "AF-1j8Zl2rra"
      },
      "source": [
        "Apply Naive Bayes classifier:"
      ]
    },
    {
      "cell_type": "code",
      "execution_count": null,
      "metadata": {
        "id": "u5wZNa4p2rra",
        "collapsed": true
      },
      "outputs": [],
      "source": [
        "from nltk import NaiveBayesClassifier, classify\n",
        "\n",
        "def train(features, proportion):\n",
        "    train_size = int(len(features) * proportion)\n",
        "    # initialise the training and test sets\n",
        "    train_set, test_set = features[:train_size], features[train_size:]\n",
        "    print (f\"Training set size = {str(len(train_set))} emails\")\n",
        "    print (f\"Test set size = {str(len(test_set))} emails\")\n",
        "    # train the classifier\n",
        "    classifier = NaiveBayesClassifier.train(train_set)\n",
        "    return train_set, test_set, classifier\n",
        "\n",
        "train_set, test_set, classifier = train(all_features, 0.8)"
      ]
    },
    {
      "cell_type": "markdown",
      "metadata": {
        "id": "R3NlG47X2rra"
      },
      "source": [
        "### Step 5: Evaluate the classifier"
      ]
    },
    {
      "cell_type": "code",
      "execution_count": null,
      "metadata": {
        "id": "oDFIPBmZ2rra"
      },
      "outputs": [],
      "source": [
        "def evaluate(train_set, test_set, classifier):\n",
        "    # check how the classifier performs on the training and test sets\n",
        "    print (f\"Accuracy on the training set = {str(classify.accuracy(classifier, train_set))}\")\n",
        "    print (f\"Accuracy on the test set = {str(classify.accuracy(classifier, test_set))}\")\n",
        "    # check which words are most informative for the classifier\n",
        "    classifier.show_most_informative_features(50)\n",
        "\n",
        "evaluate(train_set, test_set, classifier)"
      ]
    },
    {
      "cell_type": "markdown",
      "metadata": {
        "id": "qQ5nANxU2rra"
      },
      "source": [
        "Explore the contexts of use:"
      ]
    },
    {
      "cell_type": "code",
      "execution_count": null,
      "metadata": {
        "id": "f5Iv6RyK2rra"
      },
      "outputs": [],
      "source": [
        "from nltk.text import Text\n",
        "\n",
        "def concordance(data_list, search_word):\n",
        "    for email in data_list:\n",
        "        word_list = [word for word in word_tokenize(email.lower())]\n",
        "        text_list = Text(word_list)\n",
        "        if search_word in word_list:\n",
        "            text_list.concordance(search_word)\n",
        "\n",
        "\n",
        "print (\"STOCKS in HAM:\")\n",
        "concordance(ham_list, \"stocks\")\n",
        "print (\"\\n\\nSTOCKS in SPAM:\")\n",
        "concordance(spam_list, \"stocks\")"
      ]
    },
    {
      "cell_type": "markdown",
      "metadata": {
        "id": "D_G0oN5I2rrb"
      },
      "source": [
        "Input some of your own messages:"
      ]
    },
    {
      "cell_type": "code",
      "execution_count": null,
      "metadata": {
        "id": "aB9CCJqp2rrb",
        "colab": {
          "base_uri": "https://localhost:8080/"
        },
        "outputId": "6d2994ce-24fe-4fc0-8fe4-8be52cb01731"
      },
      "outputs": [
        {
          "output_type": "stream",
          "name": "stdout",
          "text": [
            "Accuracy on the training set = 0.9659173313995649\n",
            "Accuracy on the test set = 1.0\n",
            "Most Informative Features\n",
            "                    2004 = True             spam : ham    =    130.9 : 1.0\n",
            "            prescription = True             spam : ham    =    121.3 : 1.0\n",
            "                     nom = True              ham : spam   =    121.1 : 1.0\n",
            "                    pain = True             spam : ham    =     97.2 : 1.0\n",
            "                  farmer = True              ham : spam   =     86.7 : 1.0\n",
            "                     sex = True             spam : ham    =     85.9 : 1.0\n",
            "                    spam = True             spam : ham    =     85.9 : 1.0\n",
            "                    2001 = True              ham : spam   =     77.9 : 1.0\n",
            "                     ect = True              ham : spam   =     75.0 : 1.0\n",
            "                  weight = True             spam : ham    =     74.7 : 1.0\n",
            "                  differ = True             spam : ham    =     69.9 : 1.0\n",
            "              nomination = True              ham : spam   =     68.8 : 1.0\n",
            "                      ex = True             spam : ham    =     68.3 : 1.0\n",
            "                creative = True             spam : ham    =     66.7 : 1.0\n",
            "                featured = True             spam : ham    =     66.7 : 1.0\n",
            "             medications = True             spam : ham    =     66.7 : 1.0\n",
            "                   adobe = True             spam : ham    =     61.8 : 1.0\n",
            "                    2005 = True             spam : ham    =     57.3 : 1.0\n",
            "                congress = True             spam : ham    =     57.0 : 1.0\n",
            "                  sexual = True             spam : ham    =     57.0 : 1.0\n",
            "                    sony = True             spam : ham    =     57.0 : 1.0\n",
            "             legislation = True             spam : ham    =     53.8 : 1.0\n",
            "                     pro = True             spam : ham    =     53.8 : 1.0\n",
            "                   cisco = True             spam : ham    =     52.2 : 1.0\n",
            "                inherent = True             spam : ham    =     52.2 : 1.0\n",
            "                   cheap = True             spam : ham    =     50.6 : 1.0\n",
            "                    draw = True             spam : ham    =     49.0 : 1.0\n",
            "                      cc = True              ham : spam   =     48.8 : 1.0\n",
            "                  health = True             spam : ham    =     47.7 : 1.0\n",
            "                  unique = True             spam : ham    =     47.4 : 1.0\n",
            "                     tap = True              ham : spam   =     45.8 : 1.0\n",
            "                 doctors = True             spam : ham    =     45.8 : 1.0\n",
            "                   penis = True             spam : ham    =     45.8 : 1.0\n",
            "                 foresee = True             spam : ham    =     44.2 : 1.0\n",
            "                 advises = True             spam : ham    =     42.6 : 1.0\n",
            "                  symbol = True             spam : ham    =     41.0 : 1.0\n",
            "              compliance = True             spam : ham    =     40.3 : 1.0\n",
            "                   steve = True              ham : spam   =     40.3 : 1.0\n",
            "                 generic = True             spam : ham    =     40.0 : 1.0\n",
            "                    lisa = True              ham : spam   =     39.4 : 1.0\n",
            "                   susan = True              ham : spam   =     39.2 : 1.0\n",
            "                 charset = True             spam : ham    =     37.7 : 1.0\n",
            "                     fat = True             spam : ham    =     37.7 : 1.0\n",
            "                powerful = True             spam : ham    =     37.7 : 1.0\n",
            "                   risks = True             spam : ham    =     37.1 : 1.0\n",
            "                       u = True             spam : ham    =     36.8 : 1.0\n",
            "                     ibm = True             spam : ham    =     36.1 : 1.0\n",
            "                      se = True             spam : ham    =     36.1 : 1.0\n",
            "                     bob = True              ham : spam   =     35.9 : 1.0\n",
            "               clearance = True             spam : ham    =     35.2 : 1.0\n"
          ]
        }
      ],
      "source": [
        "test_spam_list = [\"Participate in our new lottery!\", \"Try out this new medicine\"]\n",
        "test_ham_list = [\"See the minutes from the last meeting attached\",\n",
        "                 \"Investors are coming to our office on Monday\"]\n",
        "\n",
        "test_emails = [(email_content, \"spam\") for email_content in test_spam_list]\n",
        "test_emails += [(email_content, \"ham\") for email_content in test_ham_list]\n",
        "\n",
        "new_test_set = [(get_features(email), label) for (email, label) in test_emails]\n",
        "\n",
        "evaluate(train_set, new_test_set, classifier)"
      ]
    },
    {
      "cell_type": "markdown",
      "metadata": {
        "id": "5bWj93ja2rrb"
      },
      "source": [
        "See how they get classified:"
      ]
    },
    {
      "cell_type": "code",
      "execution_count": null,
      "metadata": {
        "id": "GqiHT7K62rrb",
        "colab": {
          "base_uri": "https://localhost:8080/"
        },
        "outputId": "69f913df-de87-4030-9cb2-4fd7f9d9320a"
      },
      "outputs": [
        {
          "output_type": "stream",
          "name": "stdout",
          "text": [
            "Participate in our new lottery!\n",
            "spam\n",
            "Try out this new medicine\n",
            "spam\n",
            "See the minutes from the last meeting attached\n",
            "ham\n",
            "Investors are coming to our office on Monday\n",
            "ham\n"
          ]
        }
      ],
      "source": [
        "for email in test_spam_list:\n",
        "    print (email)\n",
        "    print (classifier.classify(get_features(email)))\n",
        "for email in test_ham_list:\n",
        "    print (email)\n",
        "    print (classifier.classify(get_features(email)))"
      ]
    },
    {
      "cell_type": "markdown",
      "metadata": {
        "id": "1DOwXAK22rrb"
      },
      "source": [
        "Run in an interactive manner:"
      ]
    },
    {
      "cell_type": "code",
      "execution_count": null,
      "metadata": {
        "id": "IZQhBR802rrb",
        "colab": {
          "base_uri": "https://localhost:8080/"
        },
        "outputId": "914608c3-1fec-4a03-a6ab-306b6b58d3db"
      },
      "outputs": [
        {
          "name": "stdout",
          "output_type": "stream",
          "text": [
            "Type in your email here (or press 'Enter'): \n"
          ]
        }
      ],
      "source": [
        "while True:\n",
        "    email = input(\"Type in your email here (or press 'Enter'): \")\n",
        "    if len(email)==0:\n",
        "        break\n",
        "    else:\n",
        "        prediction = classifier.classify(get_features(email))\n",
        "        print (f\"This email is likely {prediction}\\n\")"
      ]
    },
    {
      "cell_type": "markdown",
      "metadata": {
        "id": "U9JkmwYj2rrb"
      },
      "source": [
        "Run on a different dataset:"
      ]
    },
    {
      "cell_type": "markdown",
      "metadata": {
        "id": "qDG_vDp92rrb"
      },
      "source": [
        "# Assignment:\n",
        "\n",
        "Apply the classifier to a different test set, e.g. the emails from `enron2/`. As before, you need to read in the data, extract textual content, extract the features and evaluate the classifier.\n",
        "\n",
        "One of such publicly available collections is Enron email dataset. (You can read more about the dataset at www.cs.cmu.edu/~enron/, and download the subsets of the data at http://mng.bz/WxYg. The subsets and data collection process are described in more detail at http://www2.aueb.gr/users/ion/docs/ceas2006_paper.pdf.)\n",
        "\n",
        "This is a dataset of emails, including both ham (extracted from the original Enron dataset using personal messages of three Enron employees) and spam emails.\n",
        "\n",
        "What do the results tell you?"
      ]
    },
    {
      "cell_type": "code",
      "execution_count": null,
      "metadata": {
        "id": "kwPtfoka2rrb",
        "colab": {
          "base_uri": "https://localhost:8080/"
        },
        "outputId": "071198f8-1ae7-4ec7-d0d8-1b825a149db8"
      },
      "outputs": [
        {
          "output_type": "stream",
          "name": "stdout",
          "text": [
            "1496\n",
            "Subject: the credit law is on your side jm! Get perfect credit now!\r\n",
            "I will show you how you can quickly and easily improve your credit to a perfect rating!\r\n",
            "Click here now for full free details!\r\n",
            "\n",
            "4361\n",
            "Subject: credit model status update\n",
            "Bill,\n",
            "I am forwarding a memo from vincent tang about the new credit model.\n",
            "English may be imperfect but the message is clear.\n",
            "Vince\n",
            "- - - - - - - - - - - - - - - - - - - - - - forwarded by vince j kaminski/hou/ect on 02/10/2000\n",
            "02: 31 pm - - - - - - - - - - - - - - - - - - - - - - - - - - -\n",
            "Vincent tang\n",
            "02/08/2000 02: 43 pm\n",
            "To: vince j kaminski/hou/ect@ ect, grant masson/hou/ect@ ect, tanya\n",
            "Tamarchenko/hou/ect@ ect\n",
            "Cc:\n",
            "Subject: credit model status update\n",
            "Accuracy on the training set = 0.9659173313995649\n",
            "Accuracy on the test set = 0.7766774799385351\n",
            "Most Informative Features\n",
            "                    2004 = True             spam : ham    =    130.9 : 1.0\n",
            "            prescription = True             spam : ham    =    121.3 : 1.0\n",
            "                     nom = True              ham : spam   =    121.1 : 1.0\n",
            "                    pain = True             spam : ham    =     97.2 : 1.0\n",
            "                  farmer = True              ham : spam   =     86.7 : 1.0\n",
            "                     sex = True             spam : ham    =     85.9 : 1.0\n",
            "                    spam = True             spam : ham    =     85.9 : 1.0\n",
            "                    2001 = True              ham : spam   =     77.9 : 1.0\n",
            "                     ect = True              ham : spam   =     75.0 : 1.0\n",
            "                  weight = True             spam : ham    =     74.7 : 1.0\n",
            "                  differ = True             spam : ham    =     69.9 : 1.0\n",
            "              nomination = True              ham : spam   =     68.8 : 1.0\n",
            "                      ex = True             spam : ham    =     68.3 : 1.0\n",
            "                creative = True             spam : ham    =     66.7 : 1.0\n",
            "                featured = True             spam : ham    =     66.7 : 1.0\n",
            "             medications = True             spam : ham    =     66.7 : 1.0\n",
            "                   adobe = True             spam : ham    =     61.8 : 1.0\n",
            "                    2005 = True             spam : ham    =     57.3 : 1.0\n",
            "                congress = True             spam : ham    =     57.0 : 1.0\n",
            "                  sexual = True             spam : ham    =     57.0 : 1.0\n",
            "                    sony = True             spam : ham    =     57.0 : 1.0\n",
            "             legislation = True             spam : ham    =     53.8 : 1.0\n",
            "                     pro = True             spam : ham    =     53.8 : 1.0\n",
            "                   cisco = True             spam : ham    =     52.2 : 1.0\n",
            "                inherent = True             spam : ham    =     52.2 : 1.0\n",
            "                   cheap = True             spam : ham    =     50.6 : 1.0\n",
            "                    draw = True             spam : ham    =     49.0 : 1.0\n",
            "                      cc = True              ham : spam   =     48.8 : 1.0\n",
            "                  health = True             spam : ham    =     47.7 : 1.0\n",
            "                  unique = True             spam : ham    =     47.4 : 1.0\n",
            "                     tap = True              ham : spam   =     45.8 : 1.0\n",
            "                 doctors = True             spam : ham    =     45.8 : 1.0\n",
            "                   penis = True             spam : ham    =     45.8 : 1.0\n",
            "                 foresee = True             spam : ham    =     44.2 : 1.0\n",
            "                 advises = True             spam : ham    =     42.6 : 1.0\n",
            "                  symbol = True             spam : ham    =     41.0 : 1.0\n",
            "              compliance = True             spam : ham    =     40.3 : 1.0\n",
            "                   steve = True              ham : spam   =     40.3 : 1.0\n",
            "                 generic = True             spam : ham    =     40.0 : 1.0\n",
            "                    lisa = True              ham : spam   =     39.4 : 1.0\n",
            "                   susan = True              ham : spam   =     39.2 : 1.0\n",
            "                 charset = True             spam : ham    =     37.7 : 1.0\n",
            "                     fat = True             spam : ham    =     37.7 : 1.0\n",
            "                powerful = True             spam : ham    =     37.7 : 1.0\n",
            "                   risks = True             spam : ham    =     37.1 : 1.0\n",
            "                       u = True             spam : ham    =     36.8 : 1.0\n",
            "                     ibm = True             spam : ham    =     36.1 : 1.0\n",
            "                      se = True             spam : ham    =     36.1 : 1.0\n",
            "                     bob = True              ham : spam   =     35.9 : 1.0\n",
            "               clearance = True             spam : ham    =     35.2 : 1.0\n"
          ]
        }
      ],
      "source": [
        "test_spam_list = read_in(\"enron2/spam/\")\n",
        "print(len(test_spam_list))\n",
        "print(test_spam_list[0])\n",
        "test_ham_list = read_in(\"enron2/ham/\")\n",
        "print(len(test_ham_list))\n",
        "print(test_ham_list[0])\n",
        "\n",
        "test_emails = [(email_content, \"spam\") for email_content in test_spam_list]\n",
        "test_emails += [(email_content, \"ham\") for email_content in test_ham_list]\n",
        "random.shuffle(test_emails)\n",
        "\n",
        "new_test_set = [(get_features(email), label) for (email, label) in test_emails]\n",
        "\n",
        "evaluate(train_set, new_test_set, classifier)"
      ]
    },
    {
      "cell_type": "markdown",
      "metadata": {
        "id": "dahqL1VW2rrb"
      },
      "source": [
        "Combine the two datasets:"
      ]
    },
    {
      "cell_type": "code",
      "execution_count": null,
      "metadata": {
        "id": "TJYU29bO2rrc",
        "colab": {
          "base_uri": "https://localhost:8080/"
        },
        "outputId": "a6983227-5f45-4712-b01a-d4397629a735"
      },
      "outputs": [
        {
          "output_type": "stream",
          "name": "stdout",
          "text": [
            "2996\n",
            "8033\n",
            "11029\n",
            "Training set size = 8823 emails\n",
            "Test set size = 2206 emails\n",
            "Accuracy on the training set = 0.9820922588688654\n",
            "Accuracy on the test set = 0.9730237322861534\n",
            "Most Informative Features\n",
            "                   meter = True              ham : spam   =    264.5 : 1.0\n",
            "                    2004 = True             spam : ham    =    245.7 : 1.0\n",
            "                   vince = True              ham : spam   =    200.8 : 1.0\n",
            "                     nom = True              ham : spam   =    196.3 : 1.0\n",
            "                     sex = True             spam : ham    =    195.1 : 1.0\n",
            "                     ect = True              ham : spam   =    175.5 : 1.0\n",
            "            prescription = True             spam : ham    =    169.2 : 1.0\n",
            "                    spam = True             spam : ham    =    145.8 : 1.0\n",
            "               forwarded = True              ham : spam   =    135.7 : 1.0\n",
            "                     fyi = True              ham : spam   =    133.9 : 1.0\n",
            "              nomination = True              ham : spam   =    113.0 : 1.0\n",
            "                   corel = True             spam : ham    =    104.4 : 1.0\n",
            "                  dealer = True             spam : ham    =    104.4 : 1.0\n",
            "                 readers = True             spam : ham    =     96.6 : 1.0\n",
            "                  sexual = True             spam : ham    =     95.3 : 1.0\n",
            "                      cc = True              ham : spam   =     89.1 : 1.0\n",
            "                     pat = True              ham : spam   =     87.2 : 1.0\n",
            "                 shirley = True              ham : spam   =     83.8 : 1.0\n",
            "                    2005 = True             spam : ham    =     81.5 : 1.0\n",
            "              materially = True             spam : ham    =     79.7 : 1.0\n",
            "                     853 = True              ham : spam   =     79.4 : 1.0\n",
            "             medications = True             spam : ham    =     78.4 : 1.0\n",
            "                identity = True             spam : ham    =     75.8 : 1.0\n",
            "                   plain = True             spam : ham    =     74.5 : 1.0\n",
            "                     713 = True              ham : spam   =     74.1 : 1.0\n",
            "                  secret = True             spam : ham    =     73.2 : 1.0\n",
            "                   logos = True             spam : ham    =     72.7 : 1.0\n",
            "                   boost = True             spam : ham    =     70.4 : 1.0\n",
            "                   penis = True             spam : ham    =     69.4 : 1.0\n",
            "                 removal = True             spam : ham    =     69.4 : 1.0\n",
            "                      wi = True             spam : ham    =     69.4 : 1.0\n",
            "                 beliefs = True             spam : ham    =     68.1 : 1.0\n",
            "                 foresee = True             spam : ham    =     66.8 : 1.0\n",
            "                    pain = True             spam : ham    =     65.7 : 1.0\n",
            "                  studio = True             spam : ham    =     65.0 : 1.0\n",
            "               specially = True             spam : ham    =     64.2 : 1.0\n",
            "                   epson = True             spam : ham    =     61.6 : 1.0\n",
            "                featured = True             spam : ham    =     60.8 : 1.0\n",
            "            completeness = True             spam : ham    =     60.3 : 1.0\n",
            "                   lasts = True             spam : ham    =     57.7 : 1.0\n",
            "                   adult = True             spam : ham    =     55.1 : 1.0\n",
            "                 explode = True             spam : ham    =     55.1 : 1.0\n",
            "                thousand = True             spam : ham    =     53.8 : 1.0\n",
            "              scheduling = True              ham : spam   =     53.7 : 1.0\n",
            "                     apc = True             spam : ham    =     52.5 : 1.0\n",
            "                 lenders = True             spam : ham    =     52.5 : 1.0\n",
            "                   shops = True             spam : ham    =     51.2 : 1.0\n",
            "                     uae = True             spam : ham    =     51.2 : 1.0\n",
            "                inherent = True             spam : ham    =     50.9 : 1.0\n",
            "                  differ = True             spam : ham    =     50.8 : 1.0\n"
          ]
        }
      ],
      "source": [
        "spam_list = read_in(\"enron1/spam/\") + read_in(\"enron2/spam/\")\n",
        "print(len(spam_list))\n",
        "ham_list = read_in(\"enron1/ham/\") + read_in(\"enron2/ham/\")\n",
        "print(len(ham_list))\n",
        "\n",
        "all_emails = [(email_content, \"spam\") for email_content in spam_list]\n",
        "all_emails += [(email_content, \"ham\") for email_content in ham_list]\n",
        "random.shuffle(test_emails)\n",
        "\n",
        "all_features = [(get_features(email), label) for (email, label) in all_emails]\n",
        "print(len(all_features))\n",
        "\n",
        "train_set, test_set, classifier = train(all_features, 0.8)\n",
        "evaluate(train_set, new_test_set, classifier)"
      ]
    }
  ],
  "metadata": {
    "kernelspec": {
      "display_name": "Python 3",
      "language": "python",
      "name": "python3"
    },
    "language_info": {
      "codemirror_mode": {
        "name": "ipython",
        "version": 3
      },
      "file_extension": ".py",
      "mimetype": "text/x-python",
      "name": "python",
      "nbconvert_exporter": "python",
      "pygments_lexer": "ipython3",
      "version": "3.7.6"
    },
    "colab": {
      "provenance": [],
      "include_colab_link": true
    }
  },
  "nbformat": 4,
  "nbformat_minor": 0
}
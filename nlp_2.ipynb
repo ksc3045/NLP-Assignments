{
  "nbformat": 4,
  "nbformat_minor": 0,
  "metadata": {
    "colab": {
      "provenance": [],
      "authorship_tag": "ABX9TyPjCqCf0j38bvwZjxQog06u",
      "include_colab_link": true
    },
    "kernelspec": {
      "name": "python3",
      "display_name": "Python 3"
    },
    "language_info": {
      "name": "python"
    }
  },
  "cells": [
    {
      "cell_type": "markdown",
      "metadata": {
        "id": "view-in-github",
        "colab_type": "text"
      },
      "source": [
        "<a href=\"https://colab.research.google.com/github/ksc3045/NLP-Assignments/blob/main/nlp_2.ipynb\" target=\"_parent\"><img src=\"https://colab.research.google.com/assets/colab-badge.svg\" alt=\"Open In Colab\"/></a>"
      ]
    },
    {
      "cell_type": "markdown",
      "source": [
        "# Tokenization using re module"
      ],
      "metadata": {
        "id": "4aKuyaKEfIFi"
      }
    },
    {
      "cell_type": "code",
      "source": [
        "# The following code is written to display the overflowing output in wrapped\n",
        "# out manner. All long-line outputs will be wrapped to the next line and we\n",
        "# won't need to scroll left-right to see the output.\n",
        "\n",
        "from IPython.display import HTML, display\n",
        "\n",
        "def set_css():\n",
        "  display(HTML('''\n",
        "  <style>\n",
        "    pre {\n",
        "        white-space: pre-wrap;\n",
        "    }\n",
        "  </style>\n",
        "  '''))\n",
        "get_ipython().events.register('pre_run_cell', set_css)"
      ],
      "metadata": {
        "id": "-d5OHoMUTmbq"
      },
      "execution_count": 13,
      "outputs": []
    },
    {
      "cell_type": "markdown",
      "source": [
        "## importing regular expression module"
      ],
      "metadata": {
        "id": "tyX2WY9Ie-Go"
      }
    },
    {
      "cell_type": "code",
      "source": [
        "import re\n"
      ],
      "metadata": {
        "id": "AH5LI6G3e9wg"
      },
      "execution_count": 9,
      "outputs": []
    },
    {
      "cell_type": "code",
      "source": [
        "import requests\n",
        "from bs4 import BeautifulSoup"
      ],
      "metadata": {
        "id": "1KKxhvPETU1Y"
      },
      "execution_count": 4,
      "outputs": []
    },
    {
      "cell_type": "markdown",
      "source": [
        "###html_text taken from **Gutenberg** website of a book named **From the heart of a friend**"
      ],
      "metadata": {
        "id": "96ZHnkpdS7Z_"
      }
    },
    {
      "cell_type": "markdown",
      "source": [
        "### html_text taken from gutenberg website using beautiful soup"
      ],
      "metadata": {
        "id": "Po_liYjjS7aA"
      }
    },
    {
      "cell_type": "code",
      "source": [
        "def get_html_text(url):\n",
        "  response = requests.get(url)\n",
        "  response.encoding = \"utf-8\"\n",
        "  html_content=response.text\n",
        "  print(response.text[:10000])\n",
        "  return html_content\n"
      ],
      "metadata": {
        "id": "gDXJv8V8LA14"
      },
      "execution_count": 5,
      "outputs": []
    },
    {
      "cell_type": "code",
      "source": [
        "url=\"https://www.gutenberg.org/cache/epub/75263/pg75263-images.html\""
      ],
      "metadata": {
        "id": "5RsvfeiJL_Q0"
      },
      "execution_count": 6,
      "outputs": []
    },
    {
      "cell_type": "code",
      "source": [
        "text=get_html_text(url)\n"
      ],
      "metadata": {
        "colab": {
          "base_uri": "https://localhost:8080/"
        },
        "id": "HqveYKmWMEaz",
        "outputId": "15163ed5-66db-42cf-9a0f-14ce1565d955"
      },
      "execution_count": 7,
      "outputs": [
        {
          "output_type": "stream",
          "name": "stdout",
          "text": [
            "<!DOCTYPE html>\r\n",
            "<html lang=\"en\"><head>\r\n",
            "    <meta charset=\"utf-8\"><style>\r\n",
            "#pg-header div, #pg-footer div {\r\n",
            "    all: initial;\r\n",
            "    display: block;\r\n",
            "    margin-top: 1em;\r\n",
            "    margin-bottom: 1em;\r\n",
            "    margin-left: 2em;\r\n",
            "}\r\n",
            "#pg-footer div.agate {\r\n",
            "    font-size: 90%;\r\n",
            "    margin-top: 0;\r\n",
            "    margin-bottom: 0;\r\n",
            "    text-align: center;\r\n",
            "}\r\n",
            "#pg-footer li {\r\n",
            "    all: initial;\r\n",
            "    display: block;\r\n",
            "    margin-top: 1em;\r\n",
            "    margin-bottom: 1em;\r\n",
            "    text-indent: -0.6em;\r\n",
            "}\r\n",
            "#pg-footer div.secthead {\r\n",
            "    font-size: 110%;\r\n",
            "    font-weight: bold;\r\n",
            "}\r\n",
            "#pg-footer #project-gutenberg-license {\r\n",
            "    font-size: 110%;\r\n",
            "    margin-top: 0;\r\n",
            "    margin-bottom: 0;\r\n",
            "    text-align: center;\r\n",
            "}\r\n",
            "#pg-header-heading {\r\n",
            "    all: inherit;\r\n",
            "    text-align: center;\r\n",
            "    font-size: 120%;\r\n",
            "    font-weight:bold;\r\n",
            "}\r\n",
            "#pg-footer-heading {\r\n",
            "    all: inherit;\r\n",
            "    text-align: center;\r\n",
            "    font-size: 120%;\r\n",
            "    font-weight: normal;\r\n",
            "    margin-top: 0;\r\n",
            "    margin-bottom: 0;\r\n",
            "}\r\n",
            "#pg-header #pg-machine-header p {\r\n",
            "    text-indent: -4em;\r\n",
            "    margin-left: 4em;\r\n",
            "    margin-top: 1em;\r\n",
            "    margin-bottom: 0;\r\n",
            "    font-size: medium\r\n",
            "}\r\n",
            "#pg-header #pg-header-authlist {\r\n",
            "    all: initial;\r\n",
            "    margin-top: 0;\r\n",
            "    margin-bottom: 0;\r\n",
            "}\r\n",
            "#pg-header #pg-machine-header strong {\r\n",
            "    font-weight: normal;\r\n",
            "}\r\n",
            "#pg-header #pg-start-separator, #pg-footer #pg-end-separator {\r\n",
            "    margin-bottom: 3em;\r\n",
            "    margin-left: 0;\r\n",
            "    margin-right: auto;\r\n",
            "    margin-top: 2em;\r\n",
            "    text-align: center\r\n",
            "}\r\n",
            "\r\n",
            "    .xhtml_center {text-align: center; display: block;}\r\n",
            "    .xhtml_center table {\r\n",
            "        display: table;\r\n",
            "        text-align: left;\r\n",
            "        margin-left: auto;\r\n",
            "        margin-right: auto;\r\n",
            "        }</style><title>\r\n",
            "      From the Heart of a Friend | Project Gutenberg\r\n",
            "    </title>\r\n",
            "    <link href=\"images/cover.jpg\" rel=\"icon\" type=\"image/x-cover\" id=\"id-8200699784813844158\">\r\n",
            "    <style>a {\r\n",
            "    text-decoration: none\r\n",
            "    }\r\n",
            "@media screen {\r\n",
            "    body {\r\n",
            "        margin-left: 10%;\r\n",
            "        margin-right: 10%\r\n",
            "        }\r\n",
            "    }\r\n",
            ".pagedjs_page_content > div {\r\n",
            "    margin-left: 10%;\r\n",
            "    margin-right: 10%\r\n",
            "    }\r\n",
            "h1, h2 {\r\n",
            "    text-align: center;\r\n",
            "    clear: both\r\n",
            "    }\r\n",
            "h2.nobreak {\r\n",
            "    page-break-before: avoid\r\n",
            "    }\r\n",
            "hr.chap {\r\n",
            "    margin-top: 2em;\r\n",
            "    margin-bottom: 2em;\r\n",
            "    clear: both;\r\n",
            "    width: 65%;\r\n",
            "    margin-left: 17.5%;\r\n",
            "    margin-right: 17.5%\r\n",
            "    }\r\n",
            "img.w100 {\r\n",
            "    width: 100%\r\n",
            "    }\r\n",
            "div.chapter {\r\n",
            "    page-break-before: always\r\n",
            "    }\r\n",
            "p {\r\n",
            "    margin-top: 0.5em;\r\n",
            "    text-align: justify;\r\n",
            "    margin-bottom: 0.5em;\r\n",
            "    text-indent: 1em\r\n",
            "    }\r\n",
            ".figcenter {\r\n",
            "    margin: auto;\r\n",
            "    text-align: center\r\n",
            "    }\r\n",
            ".gothic {\r\n",
            "    font-family: \"Old English Text MT\", \"Old English\", serif\r\n",
            "    }\r\n",
            ".pagenum {\r\n",
            "    position: absolute;\r\n",
            "    right: 4%;\r\n",
            "    font-size: smaller;\r\n",
            "    text-align: right;\r\n",
            "    font-style: normal\r\n",
            "    }\r\n",
            ".poetry-container {\r\n",
            "    text-align: center\r\n",
            "    }\r\n",
            ".poetry {\r\n",
            "    display: inline-block;\r\n",
            "    text-align: left\r\n",
            "    }\r\n",
            ".poetry .stanza {\r\n",
            "    margin: 1em 0 1em 0\r\n",
            "    }\r\n",
            ".poetry .verse {\r\n",
            "    padding-left: 3em\r\n",
            "    }\r\n",
            ".poetry .indent0 {\r\n",
            "    text-indent: -3em\r\n",
            "    }\r\n",
            ".poetry .indent2 {\r\n",
            "    text-indent: -2em\r\n",
            "    }\r\n",
            ".poetry .indent4 {\r\n",
            "    text-indent: -1em\r\n",
            "    }\r\n",
            ".right {\r\n",
            "    text-align: right\r\n",
            "    }\r\n",
            ".smaller {\r\n",
            "    font-size: 80%\r\n",
            "    }\r\n",
            ".smcap {\r\n",
            "    font-variant: small-caps;\r\n",
            "    font-style: normal\r\n",
            "    }\r\n",
            ".titlepage {\r\n",
            "    text-align: center;\r\n",
            "    margin-top: 3em;\r\n",
            "    text-indent: 0\r\n",
            "    }\r\n",
            ".x-ebookmaker img {\r\n",
            "    max-width: 100%;\r\n",
            "    width: auto;\r\n",
            "    height: auto\r\n",
            "    }\r\n",
            ".x-ebookmaker .poetry {\r\n",
            "    display: block;\r\n",
            "    margin-left: 1.5em\r\n",
            "    }\r\n",
            ".illowp75 {\r\n",
            "    width: 75%\r\n",
            "    }\r\n",
            ".x-ebookmaker .illowp75 {\r\n",
            "    width: 100%\r\n",
            "    }</style>\r\n",
            "  <link rel=\"schema.dc\" href=\"http://purl.org/dc/elements/1.1/\">\r\n",
            "<link rel=\"schema.dcterms\" href=\"http://purl.org/dc/terms/\">\r\n",
            "<meta name=\"dc.title\" content=\"From the heart of a friend\">\r\n",
            "<meta name=\"dc.language\" content=\"en\">\r\n",
            "<meta name=\"dcterms.source\" content=\"https://www.gutenberg.org/files/75263/75263-h/75263-h.htm\">\r\n",
            "<meta name=\"dcterms.modified\" content=\"2025-02-01T00:00:51.939559+00:00\">\r\n",
            "<meta name=\"dc.rights\" content=\"Public domain in the USA.\">\r\n",
            "<link rel=\"dcterms.isFormatOf\" href=\"http://www.gutenberg.org/ebooks/75263\">\r\n",
            "<meta name=\"marcrel.com\" content=\"Addingley, Amy\">\r\n",
            "<meta name=\"dcterms.created\" content=\"2025-01-31\">\r\n",
            "<meta name=\"generator\" content=\"Ebookmaker 0.13.4 by Project Gutenberg\">\r\n",
            "<meta property=\"og:title\" content=\"From the heart of a friend\">\r\n",
            "<meta property=\"og:type\" content=\"Text\">\r\n",
            "<meta property=\"og:url\" content=\"https://www.gutenberg.org/cache/epub/75263/pg75263-images.html\">\r\n",
            "<meta property=\"og:image\" content=\"https://www.gutenberg.org/cache/epub/75263/pg75263.cover.medium.jpg\">\r\n",
            "</head>\r\n",
            "<body><section class=\"pg-boilerplate pgheader\" id=\"pg-header\" lang=\"en\"><h2 id=\"pg-header-heading\" title=\"\">The Project Gutenberg eBook of <span lang=\"en\" id=\"pg-title-no-subtitle\">From the heart of a friend</span></h2>\r\n",
            "    \r\n",
            "<div>This ebook is for the use of anyone anywhere in the United States and\r\n",
            "most other parts of the world at no cost and with almost no restrictions\r\n",
            "whatsoever. You may copy it, give it away or re-use it under the terms\r\n",
            "of the Project Gutenberg License included with this ebook or online\r\n",
            "at <a class=\"reference external\" href=\"https://www.gutenberg.org\">www.gutenberg.org</a>. If you are not located in the United States,\r\n",
            "you will have to check the laws of the country where you are located\r\n",
            "before using this eBook.</div>\r\n",
            "\r\n",
            "<div class=\"container\" id=\"pg-machine-header\"><p><strong>Title</strong>: From the heart of a friend</p>\r\n",
            "<div id=\"pg-header-authlist\">\r\n",
            "<p><strong>Compiler</strong>: Amy Addingley</p>\r\n",
            "</div>\r\n",
            "<p><strong>Release date</strong>: January 31, 2025 [eBook #75263]</p>\r\n",
            "\r\n",
            "<p><strong>Language</strong>: English</p>\r\n",
            "\r\n",
            "<p><strong>Original publication</strong>: New York: The Platt &amp; Peck Co, 1910</p>\r\n",
            "\r\n",
            "<p><strong>Credits</strong>: Peter Becker and the Online Distributed Proofreading Team at https://www.pgdp.net (This file was produced from images generously made available by The Internet Archive)</p>\r\n",
            "\r\n",
            "</div><div id=\"pg-start-separator\">\r\n",
            "<span>*** START OF THE PROJECT GUTENBERG EBOOK FROM THE HEART OF A FRIEND ***</span>\r\n",
            "</div></section><div style=\"text-align:center\"></div>\r\n",
            "\r\n",
            "<h1 class=\"gothic\">From the Heart of<br>\r\n",
            "a Friend</h1>\r\n",
            "\r\n",
            "<p class=\"titlepage\">Selected By<br>\r\n",
            "AMY ADDINGLEY</p>\r\n",
            "\r\n",
            "<p class=\"titlepage\"><span class=\"gothic\">New York</span><br>\r\n",
            "THE PLATT &amp; PECK CO.</p>\r\n",
            "\r\n",
            "<p class=\"titlepage smaller\"><span class=\"smcap\">Copyright, 1910, by</span><br>\r\n",
            "THE PLATT &amp; PECK COMPANY</p>\r\n",
            "\r\n",
            "<hr class=\"chap x-ebookmaker-drop\">\r\n",
            "\r\n",
            "<div class=\"chapter\">\r\n",
            "\r\n",
            "<h2 class=\"nobreak\" id=\"PREFACE\">PREFACE.</h2>\r\n",
            "\r\n",
            "</div>\r\n",
            "\r\n",
            "<p>There is something in the very name of\r\n",
            "FRIEND that quickens the pulse and warms\r\n",
            "the heart. The most beautiful relationship\r\n",
            "in human intercourse is friendship, and it\r\n",
            "is at once the easiest and most difficult of\r\n",
            "attainment. In friendship’s name much is\r\n",
            "endured, much attempted and many sacrifices\r\n",
            "are made, and the greatest happiness\r\n",
            "is gained. Friends may come and go with\r\n",
            "the passing years, but the sweet memory\r\n",
            "of friendship’s happy hour remains.</p>\r\n",
            "\r\n",
            "<hr class=\"chap x-ebookmaker-drop\">\r\n",
            "\r\n",
            "<p><span class=\"pagenum\"><a id=\"Page_1\"></a>[1]</span></p>\r\n",
            "\r\n",
            "<p>Deliberate long before thou consecrate\r\n",
            "a friend; and when thy impartial\r\n",
            "judgment concludes him worthy of thy bosom,\r\n",
            "receive him joyfully and entertain him\r\n",
            "wisely; impart thy secrets boldly, and mingle\r\n",
            "thy thought with his; he is thy very self;\r\n",
            "and use him so. If thou firmly believe him\r\n",
            "faithful, thou makest him so.</p>\r\n",
            "\r\n",
            "<p class=\"right\">—Quarles.</p>\r\n",
            "\r\n",
            "<figure class=\"figcenter illowp75\" style=\"max-width: 1.875em;\">\r\n",
            "  <img alt=\"\" class=\"w100\" src=\"images/leaf1.jpg\" id=\"img_images_leaf1.jpg\">\r\n",
            "</figure>\r\n",
            "\r\n",
            "<p>In the hours of distress and misery, the\r\n",
            "eyes of every mortal turn to friendship. In\r\n",
            "the hour of gladness and conviviality, what\r\n",
            "is your want? It is friendship. When the\r\n",
            "heart overflows with gratitude, or with any\r\n",
            "other sweet and sacred sentiment, what is\r\n",
            "the word to which it would give utterance?\r\n",
            "A Friend.</p>\r\n",
            "\r\n",
            "<p class=\"right\">—Landor.</p>\r\n",
            "\r\n",
            "<figure class=\"figcenter illowp75\" style=\"max-width: 1.875em;\">\r\n",
            "  <img alt=\"\" class=\"w100\" src=\"images/leaf1.jpg\" id=\"img_images_leaf1.jpg_1\">\r\n",
            "</figure>\r\n",
            "\r\n",
            "<p>A man’s best female friend is a wife of\r\n",
            "good sense and good heart, whom he\r\n",
            "loves, and who loves him. If he have that,\r\n",
            "he need not seek elsewhere. But supposing\r\n",
            "the man be without such a helpmate,\r\n",
            "female friendship he must have, or his\r\n",
            "intellect will be without a garden, and there\r\n",
            "will be many an unheeded gap even in its\r\n",
            "strongest fence.</p>\r\n",
            "\r\n",
            "<p class=\"right\">—Lytton.</p>\r\n",
            "\r\n",
            "<p><span class=\"pagenum\"><a id=\"Page_2\"></a>[2]</span></p>\r\n",
            "\r\n",
            "<figure class=\"figcenter illowp75\" style=\"max-width: 1.875em;\">\r\n",
            "  <img alt=\"\" class=\"w100\" src=\"images/leaf1.jpg\" id=\"img_images_leaf1.jpg_2\">\r\n",
            "</figure>\r\n",
            "\r\n",
            "<p>After friendship it is confidence; before\r\n",
            "friendship it is judgment.</p>\r\n",
            "\r\n",
            "<p class=\"right\">—Seneca.</p>\r\n",
            "\r\n",
            "<figure class=\"figcenter illowp75\" style=\"max-width: 1.875em;\">\r\n",
            "  <img alt=\"\" class=\"w100\" src=\"images/leaf1.jpg\" id=\"img_images_leaf1.jpg_3\">\r\n",
            "</figure>\r\n",
            "\r\n",
            "<p>A friend is a person before whom I\r\n",
            "may be sincere. Before him I may think\r\n",
            "aloud.</p>\r\n",
            "\r\n",
            "<p class=\"right\">—Emerson.</p>\r\n",
            "\r\n",
            "<figure class=\"figcenter illowp75\" style=\"max-width: 1.875em;\">\r\n",
            "  <img alt=\"\" class=\"w100\" src=\"images/leaf1.jpg\" id=\"img_images_leaf1.jpg_4\">\r\n",
            "</figure>\r\n",
            "\r\n",
            "<p>A faithful friend is the true image of\r\n",
            "the Deity.</p>\r\n",
            "\r\n",
            "<p class=\"right\">—Napoleon.</p>\r\n",
            "\r\n",
            "<figure class=\"figcenter illowp75\" style=\"max-width: 1.875em;\">\r\n",
            "  <img alt=\"\" class=\"w100\" src=\"images/leaf1.jpg\" id=\"img_images_leaf1.jpg_5\">\r\n",
            "</figure>\r\n",
            "\r\n",
            "<p>A friend cannot be known in prosperity,\r\n",
            "and an enemy cannot be hidden in adversity.</p>\r\n",
            "\r\n",
            "<p>True friends visit us in prosperity only\r\n",
            "when invited, but in adversity they come\r\n",
            "without invitation.</p>\r\n",
            "\r\n",
            "<figure class=\"figcenter illowp75\" style\n"
          ]
        }
      ]
    },
    {
      "cell_type": "markdown",
      "source": [
        "## Extract content inside <body> to remove extra metadata"
      ],
      "metadata": {
        "id": "Kp8R1qREWPHD"
      }
    },
    {
      "cell_type": "markdown",
      "source": [
        "### Before the **body tag** in the HTML structure , there is important metadata and some CSS (styling) that define how the eBook's page will appear and behave."
      ],
      "metadata": {
        "id": "swJ22iqPXUoP"
      }
    },
    {
      "cell_type": "markdown",
      "source": [
        "* by observing the html ebook page we can see that  all the text is stored in betweeen body tags in html page.\n",
        "* so we only consider the part after body tag and match pattern of opening body tag and ending body tag"
      ],
      "metadata": {
        "id": "sromduVrWSJ9"
      }
    },
    {
      "cell_type": "markdown",
      "source": [
        "# Matching Body Tags"
      ],
      "metadata": {
        "id": "2nHsypr4Ye_R"
      }
    },
    {
      "cell_type": "code",
      "source": [
        "body_pattern = r'<body.*?>(.*?)</body>'  # Non-greedy match for safety\n",
        "body_match = re.search(body_pattern, text, re.DOTALL)"
      ],
      "metadata": {
        "id": "rLr-m9WDWNZ7"
      },
      "execution_count": 11,
      "outputs": []
    },
    {
      "cell_type": "code",
      "source": [
        "# Check if a match was found before proceeding\n",
        "if body_match:\n",
        "    body_content = body_match.group(1).strip()  # Extract and strip extra spaces\n",
        "\n",
        "    # Remove all HTML tags\n",
        "    clean_text = re.sub(r'<[^>]+>', ' ', body_content)\n",
        "\n",
        "\n",
        "    # Remove excessive whitespace\n",
        "    clean_text = re.sub(r'\\s+', ' ', clean_text).strip()\n",
        "\n",
        "    # Tokenize (split words, numbers, and punctuation separately)\n",
        "    tokens = re.findall(r\"\\w+|[^\\w\\s]\", clean_text)\n",
        "\n",
        "    print(tokens[:200])\n",
        "else:\n",
        "    print(\"Error: Could not extract content from <body> tag.\")\n"
      ],
      "metadata": {
        "colab": {
          "base_uri": "https://localhost:8080/",
          "height": 213
        },
        "id": "8u3ZpE4DOyro",
        "outputId": "448b655e-7af7-4fb2-95b3-7fb56b18e01c"
      },
      "execution_count": 15,
      "outputs": [
        {
          "output_type": "display_data",
          "data": {
            "text/plain": [
              "<IPython.core.display.HTML object>"
            ],
            "text/html": [
              "\n",
              "  <style>\n",
              "    pre {\n",
              "        white-space: pre-wrap;\n",
              "    }\n",
              "  </style>\n",
              "  "
            ]
          },
          "metadata": {}
        },
        {
          "output_type": "stream",
          "name": "stdout",
          "text": [
            "['The', 'Project', 'Gutenberg', 'eBook', 'of', 'From', 'the', 'heart', 'of', 'a', 'friend', 'This', 'ebook', 'is', 'for', 'the', 'use', 'of', 'anyone', 'anywhere', 'in', 'the', 'United', 'States', 'and', 'most', 'other', 'parts', 'of', 'the', 'world', 'at', 'no', 'cost', 'and', 'with', 'almost', 'no', 'restrictions', 'whatsoever', '.', 'You', 'may', 'copy', 'it', ',', 'give', 'it', 'away', 'or', 're', '-', 'use', 'it', 'under', 'the', 'terms', 'of', 'the', 'Project', 'Gutenberg', 'License', 'included', 'with', 'this', 'ebook', 'or', 'online', 'at', 'www', '.', 'gutenberg', '.', 'org', '.', 'If', 'you', 'are', 'not', 'located', 'in', 'the', 'United', 'States', ',', 'you', 'will', 'have', 'to', 'check', 'the', 'laws', 'of', 'the', 'country', 'where', 'you', 'are', 'located', 'before', 'using', 'this', 'eBook', '.', 'Title', ':', 'From', 'the', 'heart', 'of', 'a', 'friend', 'Compiler', ':', 'Amy', 'Addingley', 'Release', 'date', ':', 'January', '31', ',', '2025', '[', 'eBook', '#', '75263', ']', 'Language', ':', 'English', 'Original', 'publication', ':', 'New', 'York', ':', 'The', 'Platt', '&', 'amp', ';', 'Peck', 'Co', ',', '1910', 'Credits', ':', 'Peter', 'Becker', 'and', 'the', 'Online', 'Distributed', 'Proofreading', 'Team', 'at', 'https', ':', '/', '/', 'www', '.', 'pgdp', '.', 'net', '(', 'This', 'file', 'was', 'produced', 'from', 'images', 'generously', 'made', 'available', 'by', 'The', 'Internet', 'Archive', ')', '*', '*', '*', 'START', 'OF', 'THE', 'PROJECT', 'GUTENBERG', 'EBOOK', 'FROM', 'THE', 'HEART', 'OF', 'A', 'FRIEND', '*', '*', '*', 'From']\n"
          ]
        }
      ]
    },
    {
      "cell_type": "markdown",
      "source": [
        "# number of tokens"
      ],
      "metadata": {
        "id": "RH-ZB4k2ZaEN"
      }
    },
    {
      "cell_type": "code",
      "source": [
        "len(tokens)"
      ],
      "metadata": {
        "colab": {
          "base_uri": "https://localhost:8080/",
          "height": 35
        },
        "id": "Q_yP7lHjRbu7",
        "outputId": "170198c4-93d9-4805-e7f4-526542e15994"
      },
      "execution_count": 19,
      "outputs": [
        {
          "output_type": "display_data",
          "data": {
            "text/plain": [
              "<IPython.core.display.HTML object>"
            ],
            "text/html": [
              "\n",
              "  <style>\n",
              "    pre {\n",
              "        white-space: pre-wrap;\n",
              "    }\n",
              "  </style>\n",
              "  "
            ]
          },
          "metadata": {}
        },
        {
          "output_type": "execute_result",
          "data": {
            "text/plain": [
              "18497"
            ]
          },
          "metadata": {},
          "execution_count": 19
        }
      ]
    },
    {
      "cell_type": "markdown",
      "source": [
        "# removing stop words."
      ],
      "metadata": {
        "id": "Lf5UQqebaCLN"
      }
    },
    {
      "cell_type": "markdown",
      "source": [
        "### Define a string of punctuation characters"
      ],
      "metadata": {
        "id": "1My14mKHbnRW"
      }
    },
    {
      "cell_type": "markdown",
      "source": [
        "* remove the punctuation marks as they are of no use in understanding context.\n",
        "* think of all punctuation marks and make a list of them.\n",
        "* after that match them in text and remove them from text."
      ],
      "metadata": {
        "id": "dxTVZjOmbw9I"
      }
    },
    {
      "cell_type": "code",
      "source": [
        "punctuation = '''!\"#$%&'()*+,-./:;<=>?@[\\]^_`{|}~'''"
      ],
      "metadata": {
        "id": "W36pMPaSbl0X",
        "outputId": "444752a1-b069-47fb-f782-73109684afaf",
        "colab": {
          "base_uri": "https://localhost:8080/",
          "height": 17
        }
      },
      "execution_count": 20,
      "outputs": [
        {
          "output_type": "display_data",
          "data": {
            "text/plain": [
              "<IPython.core.display.HTML object>"
            ],
            "text/html": [
              "\n",
              "  <style>\n",
              "    pre {\n",
              "        white-space: pre-wrap;\n",
              "    }\n",
              "  </style>\n",
              "  "
            ]
          },
          "metadata": {}
        }
      ]
    },
    {
      "cell_type": "markdown",
      "source": [
        "\n",
        "\n",
        "### Convert the string into a list of individual punctuation marks"
      ],
      "metadata": {
        "id": "c4IvhgNHbsjm"
      }
    },
    {
      "cell_type": "code",
      "source": [
        "punctuation_list = list(punctuation)"
      ],
      "metadata": {
        "id": "GrlYQHDSbqRP",
        "outputId": "f35ea598-8550-4605-f6c8-5524f9f4962e",
        "colab": {
          "base_uri": "https://localhost:8080/",
          "height": 17
        }
      },
      "execution_count": 21,
      "outputs": [
        {
          "output_type": "display_data",
          "data": {
            "text/plain": [
              "<IPython.core.display.HTML object>"
            ],
            "text/html": [
              "\n",
              "  <style>\n",
              "    pre {\n",
              "        white-space: pre-wrap;\n",
              "    }\n",
              "  </style>\n",
              "  "
            ]
          },
          "metadata": {}
        }
      ]
    },
    {
      "cell_type": "code",
      "source": [
        "print(punctuation_list)"
      ],
      "metadata": {
        "colab": {
          "base_uri": "https://localhost:8080/",
          "height": 53
        },
        "id": "w_JqupzFbkKn",
        "outputId": "af07a490-c01d-4b6e-8d49-9e1c0cab20b5"
      },
      "execution_count": 22,
      "outputs": [
        {
          "output_type": "display_data",
          "data": {
            "text/plain": [
              "<IPython.core.display.HTML object>"
            ],
            "text/html": [
              "\n",
              "  <style>\n",
              "    pre {\n",
              "        white-space: pre-wrap;\n",
              "    }\n",
              "  </style>\n",
              "  "
            ]
          },
          "metadata": {}
        },
        {
          "output_type": "stream",
          "name": "stdout",
          "text": [
            "['!', '\"', '#', '$', '%', '&', \"'\", '(', ')', '*', '+', ',', '-', '.', '/', ':', ';', '<', '=', '>', '?', '@', '[', '\\\\', ']', '^', '_', '`', '{', '|', '}', '~']\n"
          ]
        }
      ]
    },
    {
      "cell_type": "code",
      "source": [
        "cleaned_tokens = [token for token in tokens if token not in punctuation_list]\n",
        "print(cleaned_tokens[:100])\n"
      ],
      "metadata": {
        "colab": {
          "base_uri": "https://localhost:8080/",
          "height": 142
        },
        "id": "dgcTL9PicOoN",
        "outputId": "bb902150-d3f4-4183-c810-fa5f2c8caa9e"
      },
      "execution_count": 100,
      "outputs": [
        {
          "output_type": "display_data",
          "data": {
            "text/plain": [
              "<IPython.core.display.HTML object>"
            ],
            "text/html": [
              "\n",
              "  <style>\n",
              "    pre {\n",
              "        white-space: pre-wrap;\n",
              "    }\n",
              "  </style>\n",
              "  "
            ]
          },
          "metadata": {}
        },
        {
          "output_type": "stream",
          "name": "stdout",
          "text": [
            "['Project', 'Gutenberg', 'eBook', 'heart', 'friend', 'ebook', 'use', 'United', 'States', 'parts', 'world', 'cost', 'restrictions', 'whatsoever', 'copy', 'away', 'use', 'terms', 'Project', 'Gutenberg', 'License', 'included', 'ebook', 'online', 'located', 'United', 'States', 'check', 'laws', 'country', 'located', 'eBook', 'Title', 'heart', 'friend', 'Compiler', 'Amy', 'Addingley', 'Release', 'date', 'January', 'eBook', 'Language', 'English', 'Original', 'publication', 'New', 'York', 'Platt', 'amp', 'Peck', 'Co', 'Credits', 'Peter', 'Becker', 'Online', 'Distributed', 'Proofreading', 'Team', 'file', 'produced', 'images', 'generously', 'available', 'Internet', 'Archive', 'START', 'PROJECT', 'GUTENBERG', 'EBOOK', 'HEART', 'FRIEND', 'Heart', 'Friend', 'Selected', 'AMY', 'ADDINGLEY', 'New', 'York', 'PLATT', 'amp', 'PECK', 'CO', 'Copyright', 'PLATT', 'amp', 'PECK', 'COMPANY', 'PREFACE', 'FRIEND', 'quickens', 'pulse', 'warms', 'heart', 'beautiful', 'relationship', 'human', 'intercourse', 'friendship', 'easiest']\n"
          ]
        }
      ]
    },
    {
      "cell_type": "code",
      "source": [
        "len(cleaned_tokens)"
      ],
      "metadata": {
        "colab": {
          "base_uri": "https://localhost:8080/",
          "height": 35
        },
        "id": "EQQM5xo-chsE",
        "outputId": "40f9d9b7-1323-4c7d-96f5-ae6e6686a07a"
      },
      "execution_count": 25,
      "outputs": [
        {
          "output_type": "display_data",
          "data": {
            "text/plain": [
              "<IPython.core.display.HTML object>"
            ],
            "text/html": [
              "\n",
              "  <style>\n",
              "    pre {\n",
              "        white-space: pre-wrap;\n",
              "    }\n",
              "  </style>\n",
              "  "
            ]
          },
          "metadata": {}
        },
        {
          "output_type": "execute_result",
          "data": {
            "text/plain": [
              "15845"
            ]
          },
          "metadata": {},
          "execution_count": 25
        }
      ]
    },
    {
      "cell_type": "markdown",
      "source": [
        "* almost 3000 tokens have been reduced after removing the punctuation marks."
      ],
      "metadata": {
        "id": "tsgU0PPHclPL"
      }
    },
    {
      "cell_type": "code",
      "source": [
        "stop_words = ['a', 'an', 'the', 'and', 'or', 'but', 'is', 'are', 'was', 'were', 'be', 'been', 'being', 'have', 'has', 'had', 'having', 'do', 'does', 'did', 'doing', 'will', 'would', 'should', 'can', 'could', 'may', 'might', 'must', 'in', 'on', 'at', 'to', 'from', 'by', 'for', 'with', 'about', 'against', 'between', 'into', 'through', 'during', 'before', 'after', 'above', 'below', 'under', 'over', 'of', 'i', 'me', 'my', 'mine', 'we', 'us', 'our', 'ours', 'you', 'your', 'yours', 'he', 'him', 'his', 'she', 'her', 'hers', 'it', 'its', 'they', 'them', 'their', 'theirs', 'what', 'which', 'who', 'whom', 'this', 'that', 'these', 'those', 'am', 'as', 'if', 'than', 'then', 'so', 'because', 'while', 'not', 'no', 'nor', 'only', 'own', 'same', 'such', 'very', 'too', 'more', 'most', 'less', 'least', 'just', 'enough', 'other', 'some', 'any', 'all', 'both', 'each', 'few', 'many', 'several', 'every', 'either', 'neither', 'one', 'two', 'three', 'four', 'five', 'six', 'seven', 'eight', 'nine', 'ten']\n",
        "filtered_tokens = [token for token in cleaned_tokens if token.lower() not in stop_words]\n",
        "\n",
        "print(filtered_tokens[:100])"
      ],
      "metadata": {
        "colab": {
          "base_uri": "https://localhost:8080/",
          "height": 142
        },
        "id": "tMztj9eQbLdR",
        "outputId": "e5c71567-98f5-434f-883a-a16de50b8417"
      },
      "execution_count": 102,
      "outputs": [
        {
          "output_type": "display_data",
          "data": {
            "text/plain": [
              "<IPython.core.display.HTML object>"
            ],
            "text/html": [
              "\n",
              "  <style>\n",
              "    pre {\n",
              "        white-space: pre-wrap;\n",
              "    }\n",
              "  </style>\n",
              "  "
            ]
          },
          "metadata": {}
        },
        {
          "output_type": "stream",
          "name": "stdout",
          "text": [
            "['Project', 'Gutenberg', 'eBook', 'heart', 'friend', 'ebook', 'use', 'United', 'States', 'parts', 'world', 'cost', 'restrictions', 'whatsoever', 'copy', 'away', 'use', 'terms', 'Project', 'Gutenberg', 'License', 'included', 'ebook', 'online', 'located', 'United', 'States', 'check', 'laws', 'country', 'located', 'eBook', 'Title', 'heart', 'friend', 'Compiler', 'Amy', 'Addingley', 'Release', 'date', 'January', 'eBook', 'Language', 'English', 'Original', 'publication', 'New', 'York', 'Platt', 'amp', 'Peck', 'Co', 'Credits', 'Peter', 'Becker', 'Online', 'Distributed', 'Proofreading', 'Team', 'file', 'produced', 'images', 'generously', 'available', 'Internet', 'Archive', 'START', 'PROJECT', 'GUTENBERG', 'EBOOK', 'HEART', 'FRIEND', 'Heart', 'Friend', 'Selected', 'AMY', 'ADDINGLEY', 'New', 'York', 'PLATT', 'amp', 'PECK', 'CO', 'Copyright', 'PLATT', 'amp', 'PECK', 'COMPANY', 'PREFACE', 'FRIEND', 'quickens', 'pulse', 'warms', 'heart', 'beautiful', 'relationship', 'human', 'intercourse', 'friendship', 'easiest']\n"
          ]
        }
      ]
    },
    {
      "cell_type": "code",
      "source": [
        "len(filtered_tokens)"
      ],
      "metadata": {
        "colab": {
          "base_uri": "https://localhost:8080/",
          "height": 35
        },
        "id": "mEK7HnzWc_gI",
        "outputId": "ff7a7518-5dc3-44c1-9859-16c6183004de"
      },
      "execution_count": 27,
      "outputs": [
        {
          "output_type": "display_data",
          "data": {
            "text/plain": [
              "<IPython.core.display.HTML object>"
            ],
            "text/html": [
              "\n",
              "  <style>\n",
              "    pre {\n",
              "        white-space: pre-wrap;\n",
              "    }\n",
              "  </style>\n",
              "  "
            ]
          },
          "metadata": {}
        },
        {
          "output_type": "execute_result",
          "data": {
            "text/plain": [
              "8651"
            ]
          },
          "metadata": {},
          "execution_count": 27
        }
      ]
    },
    {
      "cell_type": "markdown",
      "source": [
        "*  initially there were 18497 tokens after removing punctuations and stopwords it has gotten reduced to half of it."
      ],
      "metadata": {
        "id": "rzG1xXsFdDnr"
      }
    },
    {
      "cell_type": "markdown",
      "source": [
        "* now we have a list of tokens tokenized by re."
      ],
      "metadata": {
        "id": "GPeRjX9lUvPI"
      }
    },
    {
      "cell_type": "markdown",
      "source": [
        "# Tokenization using nltk"
      ],
      "metadata": {
        "id": "PpmMTWo2U2X2"
      }
    },
    {
      "cell_type": "code",
      "source": [
        "import nltk\n",
        "nltk.download('punkt')\n",
        "nltk.download('punkt_tab')\n",
        "nltk.download('stopwords')\n",
        "from nltk.tokenize import word_tokenize"
      ],
      "metadata": {
        "id": "ItjJ9C7TVGjx",
        "outputId": "7ad0a425-8a44-4244-e49a-663175c3e56a",
        "colab": {
          "base_uri": "https://localhost:8080/",
          "height": 124
        }
      },
      "execution_count": 35,
      "outputs": [
        {
          "output_type": "display_data",
          "data": {
            "text/plain": [
              "<IPython.core.display.HTML object>"
            ],
            "text/html": [
              "\n",
              "  <style>\n",
              "    pre {\n",
              "        white-space: pre-wrap;\n",
              "    }\n",
              "  </style>\n",
              "  "
            ]
          },
          "metadata": {}
        },
        {
          "output_type": "stream",
          "name": "stderr",
          "text": [
            "[nltk_data] Downloading package punkt to /root/nltk_data...\n",
            "[nltk_data]   Package punkt is already up-to-date!\n",
            "[nltk_data] Downloading package punkt_tab to /root/nltk_data...\n",
            "[nltk_data]   Package punkt_tab is already up-to-date!\n",
            "[nltk_data] Downloading package stopwords to /root/nltk_data...\n",
            "[nltk_data]   Unzipping corpora/stopwords.zip.\n"
          ]
        }
      ]
    },
    {
      "cell_type": "code",
      "source": [
        "nltk_tokens = word_tokenize(clean_text)\n",
        "print(nltk_tokens[:200])\n"
      ],
      "metadata": {
        "id": "a0VUnLkPU1op",
        "outputId": "a740871e-9926-4d16-f693-c6cb17e42d30",
        "colab": {
          "base_uri": "https://localhost:8080/",
          "height": 213
        }
      },
      "execution_count": 36,
      "outputs": [
        {
          "output_type": "display_data",
          "data": {
            "text/plain": [
              "<IPython.core.display.HTML object>"
            ],
            "text/html": [
              "\n",
              "  <style>\n",
              "    pre {\n",
              "        white-space: pre-wrap;\n",
              "    }\n",
              "  </style>\n",
              "  "
            ]
          },
          "metadata": {}
        },
        {
          "output_type": "stream",
          "name": "stdout",
          "text": [
            "['The', 'Project', 'Gutenberg', 'eBook', 'of', 'From', 'the', 'heart', 'of', 'a', 'friend', 'This', 'ebook', 'is', 'for', 'the', 'use', 'of', 'anyone', 'anywhere', 'in', 'the', 'United', 'States', 'and', 'most', 'other', 'parts', 'of', 'the', 'world', 'at', 'no', 'cost', 'and', 'with', 'almost', 'no', 'restrictions', 'whatsoever', '.', 'You', 'may', 'copy', 'it', ',', 'give', 'it', 'away', 'or', 're-use', 'it', 'under', 'the', 'terms', 'of', 'the', 'Project', 'Gutenberg', 'License', 'included', 'with', 'this', 'ebook', 'or', 'online', 'at', 'www.gutenberg.org', '.', 'If', 'you', 'are', 'not', 'located', 'in', 'the', 'United', 'States', ',', 'you', 'will', 'have', 'to', 'check', 'the', 'laws', 'of', 'the', 'country', 'where', 'you', 'are', 'located', 'before', 'using', 'this', 'eBook', '.', 'Title', ':', 'From', 'the', 'heart', 'of', 'a', 'friend', 'Compiler', ':', 'Amy', 'Addingley', 'Release', 'date', ':', 'January', '31', ',', '2025', '[', 'eBook', '#', '75263', ']', 'Language', ':', 'English', 'Original', 'publication', ':', 'New', 'York', ':', 'The', 'Platt', '&', 'amp', ';', 'Peck', 'Co', ',', '1910', 'Credits', ':', 'Peter', 'Becker', 'and', 'the', 'Online', 'Distributed', 'Proofreading', 'Team', 'at', 'https', ':', '//www.pgdp.net', '(', 'This', 'file', 'was', 'produced', 'from', 'images', 'generously', 'made', 'available', 'by', 'The', 'Internet', 'Archive', ')', '*', '*', '*', 'START', 'OF', 'THE', 'PROJECT', 'GUTENBERG', 'EBOOK', 'FROM', 'THE', 'HEART', 'OF', 'A', 'FRIEND', '*', '*', '*', 'From', 'the', 'Heart', 'of', 'a', 'Friend', 'Selected', 'By', 'AMY', 'ADDINGLEY', 'New', 'York', 'THE']\n"
          ]
        }
      ]
    },
    {
      "cell_type": "markdown",
      "source": [
        "## Remove punctuation"
      ],
      "metadata": {
        "id": "4bKgEB_KV9Iv"
      }
    },
    {
      "cell_type": "code",
      "source": [
        "punctuation = '''!\"#$%&'()*+,-./:;<=>?@[\\]^_`{|}~'''\n",
        "punctuation_list = list(punctuation)\n",
        "cleaned_tokens = [token for token in nltk_tokens if token not in punctuation_list]"
      ],
      "metadata": {
        "id": "uQWxAWQRU0Sn",
        "outputId": "1ab8d1ed-ef69-4426-cca6-82a981eb4e5b",
        "colab": {
          "base_uri": "https://localhost:8080/",
          "height": 17
        }
      },
      "execution_count": 37,
      "outputs": [
        {
          "output_type": "display_data",
          "data": {
            "text/plain": [
              "<IPython.core.display.HTML object>"
            ],
            "text/html": [
              "\n",
              "  <style>\n",
              "    pre {\n",
              "        white-space: pre-wrap;\n",
              "    }\n",
              "  </style>\n",
              "  "
            ]
          },
          "metadata": {}
        }
      ]
    },
    {
      "cell_type": "code",
      "source": [
        "from nltk.corpus import stopwords"
      ],
      "metadata": {
        "id": "h65ey7iAWdxB",
        "outputId": "01b2fb07-ba00-4441-de82-b499efbb897d",
        "colab": {
          "base_uri": "https://localhost:8080/",
          "height": 17
        }
      },
      "execution_count": 39,
      "outputs": [
        {
          "output_type": "display_data",
          "data": {
            "text/plain": [
              "<IPython.core.display.HTML object>"
            ],
            "text/html": [
              "\n",
              "  <style>\n",
              "    pre {\n",
              "        white-space: pre-wrap;\n",
              "    }\n",
              "  </style>\n",
              "  "
            ]
          },
          "metadata": {}
        }
      ]
    },
    {
      "cell_type": "code",
      "source": [
        "stop_words = set(stopwords.words('english'))  # Use a set for faster lookups\n",
        "filtered_nltk_tokens = [token for token in cleaned_tokens if token.lower() not in stop_words]"
      ],
      "metadata": {
        "id": "kvNoswGVWCG9",
        "outputId": "90be0b2e-e379-4f41-aaf5-96fbe6a54cf0",
        "colab": {
          "base_uri": "https://localhost:8080/",
          "height": 17
        }
      },
      "execution_count": 40,
      "outputs": [
        {
          "output_type": "display_data",
          "data": {
            "text/plain": [
              "<IPython.core.display.HTML object>"
            ],
            "text/html": [
              "\n",
              "  <style>\n",
              "    pre {\n",
              "        white-space: pre-wrap;\n",
              "    }\n",
              "  </style>\n",
              "  "
            ]
          },
          "metadata": {}
        }
      ]
    },
    {
      "cell_type": "code",
      "source": [
        "print(filtered_nltk_tokens[:100])\n"
      ],
      "metadata": {
        "id": "8j6Ldhc6Wftt",
        "outputId": "6ad95457-03c3-4889-ee34-58ca44f1c874",
        "colab": {
          "base_uri": "https://localhost:8080/",
          "height": 142
        }
      },
      "execution_count": 108,
      "outputs": [
        {
          "output_type": "display_data",
          "data": {
            "text/plain": [
              "<IPython.core.display.HTML object>"
            ],
            "text/html": [
              "\n",
              "  <style>\n",
              "    pre {\n",
              "        white-space: pre-wrap;\n",
              "    }\n",
              "  </style>\n",
              "  "
            ]
          },
          "metadata": {}
        },
        {
          "output_type": "stream",
          "name": "stdout",
          "text": [
            "['Project', 'Gutenberg', 'eBook', 'heart', 'friend', 'ebook', 'use', 'anyone', 'anywhere', 'United', 'States', 'parts', 'world', 'cost', 'almost', 'restrictions', 'whatsoever', 'may', 'copy', 'give', 'away', 're-use', 'terms', 'Project', 'Gutenberg', 'License', 'included', 'ebook', 'online', 'www.gutenberg.org', 'located', 'United', 'States', 'check', 'laws', 'country', 'located', 'using', 'eBook', 'Title', 'heart', 'friend', 'Compiler', 'Amy', 'Addingley', 'Release', 'date', 'January', '31', '2025', 'eBook', '75263', 'Language', 'English', 'Original', 'publication', 'New', 'York', 'Platt', 'amp', 'Peck', 'Co', '1910', 'Credits', 'Peter', 'Becker', 'Online', 'Distributed', 'Proofreading', 'Team', 'https', '//www.pgdp.net', 'file', 'produced', 'images', 'generously', 'made', 'available', 'Internet', 'Archive', 'START', 'PROJECT', 'GUTENBERG', 'EBOOK', 'HEART', 'FRIEND', 'Heart', 'Friend', 'Selected', 'AMY', 'ADDINGLEY', 'New', 'York', 'PLATT', 'amp', 'PECK', 'CO', 'Copyright', '1910', 'PLATT']\n"
          ]
        }
      ]
    },
    {
      "cell_type": "code",
      "source": [
        "len(filtered_nltk_tokens)"
      ],
      "metadata": {
        "id": "I1XsusoZq7bv",
        "outputId": "187e6df2-f854-4316-97a0-f43736ebb372",
        "colab": {
          "base_uri": "https://localhost:8080/",
          "height": 35
        }
      },
      "execution_count": 148,
      "outputs": [
        {
          "output_type": "display_data",
          "data": {
            "text/plain": [
              "<IPython.core.display.HTML object>"
            ],
            "text/html": [
              "\n",
              "  <style>\n",
              "    pre {\n",
              "        white-space: pre-wrap;\n",
              "    }\n",
              "  </style>\n",
              "  "
            ]
          },
          "metadata": {}
        },
        {
          "output_type": "execute_result",
          "data": {
            "text/plain": [
              "8079"
            ]
          },
          "metadata": {},
          "execution_count": 148
        }
      ]
    },
    {
      "cell_type": "code",
      "source": [
        "def check_punctuation_in_words(tokens):\n",
        "    pattern = r\"^[^\\w\\s]|[^a-zA-Z0-9\\s]$\"\n",
        "\n",
        "    words_with_punctuation = []\n",
        "    for token in tokens:\n",
        "        if re.search(pattern, token):\n",
        "          words_with_punctuation.append(token)\n",
        "    return words_with_punctuation\n",
        "\n",
        "words_with_punctuation = check_punctuation_in_words(filtered_nltk_tokens)\n",
        "print(words_with_punctuation[:100])\n"
      ],
      "metadata": {
        "id": "DTHYVqigW_1x",
        "outputId": "0bbab564-7012-4037-9947-ec2de96c750d",
        "colab": {
          "base_uri": "https://localhost:8080/",
          "height": 142
        }
      },
      "execution_count": 111,
      "outputs": [
        {
          "output_type": "display_data",
          "data": {
            "text/plain": [
              "<IPython.core.display.HTML object>"
            ],
            "text/html": [
              "\n",
              "  <style>\n",
              "    pre {\n",
              "        white-space: pre-wrap;\n",
              "    }\n",
              "  </style>\n",
              "  "
            ]
          },
          "metadata": {}
        },
        {
          "output_type": "stream",
          "name": "stdout",
          "text": [
            "['//www.pgdp.net', '’', '’', '—Quarles', '—Landor', '’', '—Lytton', '—Seneca', '—Emerson', '—Napoleon', '—Jonson', '—Channing', '’', '—Byron', '—Farrar', '—Taylor', '—Alger', '’', '—Unknown', '—Washington', '—Lytton', '’', '—Mulock', '—Gold', '’', '’', '—Byron', '’', '’', '’', '—Holmes', '—Williams', '—Unknown', '—Richter', '’', '’', '—Adams', '—Taylor', '—Thoreau', '—Franklin', '—Lucanus', '—Seneca', '’', '—Philips', '—Stowe', '’', '’', '’', '—Anon', '—Unknown', '—Schiller', '’', '—Holmes', '—Sidney', '—Shakespeare', '’', '’', '’', '—Jonson', '—Bacon', '—Coleridge', '—Jonson', '—St', '—Montaigne', '—Taylor', '—Cicero', '—Addison', '’', '—Morris', '’', '’', '—Unknown', '—Watts', '—Shakespeare', '—Lavater', '’', '—Aeschylus', '—From', '—Cowper', '’', '—Browning', '—Keats', '—Emerson', '—Tennyson', '—Byron', '—Jonson', '—Hunt', '—Browne', '—Thoreau', '—Ouida', '—Lamb', '’', '—Cicero', '’', '—Brooks', '—Cicero', '—Arnold', '—Kingsley', '’', '—Scott']\n"
          ]
        }
      ]
    },
    {
      "cell_type": "code",
      "source": [
        "len(words_with_punctuation)"
      ],
      "metadata": {
        "id": "HYMAXeTfYBIL",
        "outputId": "f23a3159-94b7-402f-9001-0e210359b0cc",
        "colab": {
          "base_uri": "https://localhost:8080/",
          "height": 35
        }
      },
      "execution_count": 112,
      "outputs": [
        {
          "output_type": "display_data",
          "data": {
            "text/plain": [
              "<IPython.core.display.HTML object>"
            ],
            "text/html": [
              "\n",
              "  <style>\n",
              "    pre {\n",
              "        white-space: pre-wrap;\n",
              "    }\n",
              "  </style>\n",
              "  "
            ]
          },
          "metadata": {}
        },
        {
          "output_type": "execute_result",
          "data": {
            "text/plain": [
              "562"
            ]
          },
          "metadata": {},
          "execution_count": 112
        }
      ]
    },
    {
      "cell_type": "markdown",
      "source": [
        "* i removed punctuations but i was unable to remove all of them.there are 569 words with punctuations attached with words."
      ],
      "metadata": {
        "id": "DxUYdRBFZL0i"
      }
    },
    {
      "cell_type": "markdown",
      "source": [
        "## stemming using nltk"
      ],
      "metadata": {
        "id": "OPqKPql4fsiR"
      }
    },
    {
      "cell_type": "code",
      "source": [
        "from nltk.stem import PorterStemmer\n",
        "porter = PorterStemmer()\n",
        "stemmed_tokens = [porter.stem(token) for token in filtered_nltk_tokens]\n",
        "print(stemmed_tokens[:50])\n"
      ],
      "metadata": {
        "id": "6mAOLAM3fsTi",
        "outputId": "d0fed00f-fc5f-4ad8-e2e8-33d04c234f3f",
        "colab": {
          "base_uri": "https://localhost:8080/",
          "height": 88
        }
      },
      "execution_count": 113,
      "outputs": [
        {
          "output_type": "display_data",
          "data": {
            "text/plain": [
              "<IPython.core.display.HTML object>"
            ],
            "text/html": [
              "\n",
              "  <style>\n",
              "    pre {\n",
              "        white-space: pre-wrap;\n",
              "    }\n",
              "  </style>\n",
              "  "
            ]
          },
          "metadata": {}
        },
        {
          "output_type": "stream",
          "name": "stdout",
          "text": [
            "['project', 'gutenberg', 'ebook', 'heart', 'friend', 'ebook', 'use', 'anyon', 'anywher', 'unit', 'state', 'part', 'world', 'cost', 'almost', 'restrict', 'whatsoev', 'may', 'copi', 'give', 'away', 're-us', 'term', 'project', 'gutenberg', 'licens', 'includ', 'ebook', 'onlin', 'www.gutenberg.org', 'locat', 'unit', 'state', 'check', 'law', 'countri', 'locat', 'use', 'ebook', 'titl', 'heart', 'friend', 'compil', 'ami', 'addingley', 'releas', 'date', 'januari', '31', '2025']\n"
          ]
        }
      ]
    },
    {
      "cell_type": "markdown",
      "source": [
        "## lemmatization using nltk"
      ],
      "metadata": {
        "id": "9AO7lsvkgP5U"
      }
    },
    {
      "cell_type": "code",
      "source": [
        "from nltk.stem import WordNetLemmatizer\n",
        "nltk.download('wordnet')\n",
        "nltk.download('omw-1.4')"
      ],
      "metadata": {
        "id": "3Xk73ckygo1J",
        "outputId": "ebe4270c-edcb-4738-86be-afad85d0da2f",
        "colab": {
          "base_uri": "https://localhost:8080/",
          "height": 106
        }
      },
      "execution_count": 114,
      "outputs": [
        {
          "output_type": "display_data",
          "data": {
            "text/plain": [
              "<IPython.core.display.HTML object>"
            ],
            "text/html": [
              "\n",
              "  <style>\n",
              "    pre {\n",
              "        white-space: pre-wrap;\n",
              "    }\n",
              "  </style>\n",
              "  "
            ]
          },
          "metadata": {}
        },
        {
          "output_type": "stream",
          "name": "stderr",
          "text": [
            "[nltk_data] Downloading package wordnet to /root/nltk_data...\n",
            "[nltk_data]   Package wordnet is already up-to-date!\n",
            "[nltk_data] Downloading package omw-1.4 to /root/nltk_data...\n",
            "[nltk_data]   Package omw-1.4 is already up-to-date!\n"
          ]
        },
        {
          "output_type": "execute_result",
          "data": {
            "text/plain": [
              "True"
            ]
          },
          "metadata": {},
          "execution_count": 114
        }
      ]
    },
    {
      "cell_type": "code",
      "source": [
        "lemmatizer = WordNetLemmatizer()\n",
        "lemmatized_tokens = [lemmatizer.lemmatize(token) for token in filtered_nltk_tokens]\n",
        "print(lemmatized_tokens[:100])"
      ],
      "metadata": {
        "id": "Tiit6Ap-gaBt",
        "outputId": "2fb22bd7-e48d-415c-98ee-5920eb79a962",
        "colab": {
          "base_uri": "https://localhost:8080/",
          "height": 142
        }
      },
      "execution_count": 115,
      "outputs": [
        {
          "output_type": "display_data",
          "data": {
            "text/plain": [
              "<IPython.core.display.HTML object>"
            ],
            "text/html": [
              "\n",
              "  <style>\n",
              "    pre {\n",
              "        white-space: pre-wrap;\n",
              "    }\n",
              "  </style>\n",
              "  "
            ]
          },
          "metadata": {}
        },
        {
          "output_type": "stream",
          "name": "stdout",
          "text": [
            "['Project', 'Gutenberg', 'eBook', 'heart', 'friend', 'ebook', 'use', 'anyone', 'anywhere', 'United', 'States', 'part', 'world', 'cost', 'almost', 'restriction', 'whatsoever', 'may', 'copy', 'give', 'away', 're-use', 'term', 'Project', 'Gutenberg', 'License', 'included', 'ebook', 'online', 'www.gutenberg.org', 'located', 'United', 'States', 'check', 'law', 'country', 'located', 'using', 'eBook', 'Title', 'heart', 'friend', 'Compiler', 'Amy', 'Addingley', 'Release', 'date', 'January', '31', '2025', 'eBook', '75263', 'Language', 'English', 'Original', 'publication', 'New', 'York', 'Platt', 'amp', 'Peck', 'Co', '1910', 'Credits', 'Peter', 'Becker', 'Online', 'Distributed', 'Proofreading', 'Team', 'http', '//www.pgdp.net', 'file', 'produced', 'image', 'generously', 'made', 'available', 'Internet', 'Archive', 'START', 'PROJECT', 'GUTENBERG', 'EBOOK', 'HEART', 'FRIEND', 'Heart', 'Friend', 'Selected', 'AMY', 'ADDINGLEY', 'New', 'York', 'PLATT', 'amp', 'PECK', 'CO', 'Copyright', '1910', 'PLATT']\n"
          ]
        }
      ]
    },
    {
      "cell_type": "markdown",
      "source": [
        "# Tokenization using spacy"
      ],
      "metadata": {
        "id": "SJovH3_AZmTW"
      }
    },
    {
      "cell_type": "code",
      "source": [
        "import spacy"
      ],
      "metadata": {
        "id": "FAjQvSZJZkpY",
        "outputId": "1ee6925f-c52f-42da-bf28-683ee48ab5b9",
        "colab": {
          "base_uri": "https://localhost:8080/",
          "height": 17
        }
      },
      "execution_count": 54,
      "outputs": [
        {
          "output_type": "display_data",
          "data": {
            "text/plain": [
              "<IPython.core.display.HTML object>"
            ],
            "text/html": [
              "\n",
              "  <style>\n",
              "    pre {\n",
              "        white-space: pre-wrap;\n",
              "    }\n",
              "  </style>\n",
              "  "
            ]
          },
          "metadata": {}
        }
      ]
    },
    {
      "cell_type": "code",
      "source": [
        "nlp = spacy.load(\"en_core_web_sm\")\n",
        "doc = nlp(clean_text)\n",
        "doc[:50]"
      ],
      "metadata": {
        "id": "NYZDdIRRZjAp",
        "outputId": "6eeb5141-28a6-4827-beca-e53edc2bfb60",
        "colab": {
          "base_uri": "https://localhost:8080/",
          "height": 53
        }
      },
      "execution_count": 55,
      "outputs": [
        {
          "output_type": "display_data",
          "data": {
            "text/plain": [
              "<IPython.core.display.HTML object>"
            ],
            "text/html": [
              "\n",
              "  <style>\n",
              "    pre {\n",
              "        white-space: pre-wrap;\n",
              "    }\n",
              "  </style>\n",
              "  "
            ]
          },
          "metadata": {}
        },
        {
          "output_type": "execute_result",
          "data": {
            "text/plain": [
              "The Project Gutenberg eBook of From the heart of a friend This ebook is for the use of anyone anywhere in the United States and most other parts of the world at no cost and with almost no restrictions whatsoever. You may copy it, give it away or"
            ]
          },
          "metadata": {},
          "execution_count": 55
        }
      ]
    },
    {
      "cell_type": "code",
      "source": [
        "tokens_spacy = [token.text for token in doc if token.is_alpha and not token.is_stop]"
      ],
      "metadata": {
        "id": "FkrCcoXta3jS",
        "outputId": "fd91d538-04f8-4528-f113-709322393ef1",
        "colab": {
          "base_uri": "https://localhost:8080/",
          "height": 17
        }
      },
      "execution_count": 59,
      "outputs": [
        {
          "output_type": "display_data",
          "data": {
            "text/plain": [
              "<IPython.core.display.HTML object>"
            ],
            "text/html": [
              "\n",
              "  <style>\n",
              "    pre {\n",
              "        white-space: pre-wrap;\n",
              "    }\n",
              "  </style>\n",
              "  "
            ]
          },
          "metadata": {}
        }
      ]
    },
    {
      "cell_type": "code",
      "source": [
        "tokens_spacy[:30]"
      ],
      "metadata": {
        "id": "b8hZ92tla5vq",
        "outputId": "2e32fe05-65f9-4afb-f0cc-17ce6a04e0c9",
        "colab": {
          "base_uri": "https://localhost:8080/",
          "height": 553
        }
      },
      "execution_count": 60,
      "outputs": [
        {
          "output_type": "display_data",
          "data": {
            "text/plain": [
              "<IPython.core.display.HTML object>"
            ],
            "text/html": [
              "\n",
              "  <style>\n",
              "    pre {\n",
              "        white-space: pre-wrap;\n",
              "    }\n",
              "  </style>\n",
              "  "
            ]
          },
          "metadata": {}
        },
        {
          "output_type": "execute_result",
          "data": {
            "text/plain": [
              "['Project',\n",
              " 'Gutenberg',\n",
              " 'eBook',\n",
              " 'heart',\n",
              " 'friend',\n",
              " 'ebook',\n",
              " 'use',\n",
              " 'United',\n",
              " 'States',\n",
              " 'parts',\n",
              " 'world',\n",
              " 'cost',\n",
              " 'restrictions',\n",
              " 'whatsoever',\n",
              " 'copy',\n",
              " 'away',\n",
              " 'use',\n",
              " 'terms',\n",
              " 'Project',\n",
              " 'Gutenberg',\n",
              " 'License',\n",
              " 'included',\n",
              " 'ebook',\n",
              " 'online',\n",
              " 'located',\n",
              " 'United',\n",
              " 'States',\n",
              " 'check',\n",
              " 'laws',\n",
              " 'country']"
            ]
          },
          "metadata": {},
          "execution_count": 60
        }
      ]
    },
    {
      "cell_type": "code",
      "source": [
        "words_with_punctuation_spacy = check_punctuation_in_words(tokens_spacy)\n",
        "words_with_punctuation_spacy[:50]"
      ],
      "metadata": {
        "id": "xONBwSH0a7q4",
        "outputId": "b9827950-e40b-414b-b95c-ccd2558bc37c",
        "colab": {
          "base_uri": "https://localhost:8080/",
          "height": 35
        }
      },
      "execution_count": 116,
      "outputs": [
        {
          "output_type": "display_data",
          "data": {
            "text/plain": [
              "<IPython.core.display.HTML object>"
            ],
            "text/html": [
              "\n",
              "  <style>\n",
              "    pre {\n",
              "        white-space: pre-wrap;\n",
              "    }\n",
              "  </style>\n",
              "  "
            ]
          },
          "metadata": {}
        },
        {
          "output_type": "execute_result",
          "data": {
            "text/plain": [
              "[]"
            ]
          },
          "metadata": {},
          "execution_count": 116
        }
      ]
    },
    {
      "cell_type": "code",
      "source": [
        "len(words_with_punctuation_spacy)"
      ],
      "metadata": {
        "id": "v5ZEpiD7bX0F",
        "outputId": "1b32abc7-a725-42c6-8a37-91678de5f310",
        "colab": {
          "base_uri": "https://localhost:8080/",
          "height": 35
        }
      },
      "execution_count": 117,
      "outputs": [
        {
          "output_type": "display_data",
          "data": {
            "text/plain": [
              "<IPython.core.display.HTML object>"
            ],
            "text/html": [
              "\n",
              "  <style>\n",
              "    pre {\n",
              "        white-space: pre-wrap;\n",
              "    }\n",
              "  </style>\n",
              "  "
            ]
          },
          "metadata": {}
        },
        {
          "output_type": "execute_result",
          "data": {
            "text/plain": [
              "0"
            ]
          },
          "metadata": {},
          "execution_count": 117
        }
      ]
    },
    {
      "cell_type": "markdown",
      "source": [
        "## stemimng using spacy"
      ],
      "metadata": {
        "id": "8rFWjltxhJFM"
      }
    },
    {
      "cell_type": "code",
      "source": [
        "stemmed_tokens_spacy = [token.lemma_ for token in doc if token.is_alpha and not token.is_stop]\n",
        "print(stemmed_tokens_spacy[:100])\n"
      ],
      "metadata": {
        "id": "MHj4IH3Og1TU",
        "outputId": "d0b5aaf8-fb8e-41fa-c525-7b8082555d36",
        "colab": {
          "base_uri": "https://localhost:8080/",
          "height": 142
        }
      },
      "execution_count": 118,
      "outputs": [
        {
          "output_type": "display_data",
          "data": {
            "text/plain": [
              "<IPython.core.display.HTML object>"
            ],
            "text/html": [
              "\n",
              "  <style>\n",
              "    pre {\n",
              "        white-space: pre-wrap;\n",
              "    }\n",
              "  </style>\n",
              "  "
            ]
          },
          "metadata": {}
        },
        {
          "output_type": "stream",
          "name": "stdout",
          "text": [
            "['Project', 'Gutenberg', 'eBook', 'heart', 'friend', 'ebook', 'use', 'United', 'States', 'part', 'world', 'cost', 'restriction', 'whatsoever', 'copy', 'away', 'use', 'term', 'Project', 'Gutenberg', 'License', 'include', 'ebook', 'online', 'locate', 'United', 'States', 'check', 'law', 'country', 'locate', 'eBook', 'Title', 'heart', 'friend', 'Compiler', 'Amy', 'Addingley', 'Release', 'date', 'January', 'eBook', 'Language', 'English', 'Original', 'publication', 'New', 'York', 'Platt', 'amp', 'Peck', 'Co', 'Credits', 'Peter', 'Becker', 'Online', 'distribute', 'Proofreading', 'Team', 'file', 'produce', 'image', 'generously', 'available', 'Internet', 'Archive', 'START', 'PROJECT', 'GUTENBERG', 'EBOOK', 'HEART', 'FRIEND', 'Heart', 'Friend', 'Selected', 'AMY', 'ADDINGLEY', 'New', 'York', 'PLATT', 'amp', 'peck', 'CO', 'Copyright', 'PLATT', 'amp', 'peck', 'COMPANY', 'PREFACE', 'FRIEND', 'quicken', 'pulse', 'warm', 'heart', 'beautiful', 'relationship', 'human', 'intercourse', 'friendship', 'easiest']\n"
          ]
        }
      ]
    },
    {
      "cell_type": "markdown",
      "source": [
        "## lemmatization using spacy"
      ],
      "metadata": {
        "id": "keYAIaYeimp0"
      }
    },
    {
      "cell_type": "code",
      "source": [
        "text = \" \".join(tokens_spacy)\n",
        "doc = nlp(text)\n",
        "lemmatized_tokens = [token.lemma_ for token in doc]\n",
        "print(lemmatized_tokens[:100])\n"
      ],
      "metadata": {
        "id": "LE73R7hDhHQ7",
        "outputId": "032912c6-83b5-423e-8847-c4dd695e9f74",
        "colab": {
          "base_uri": "https://localhost:8080/",
          "height": 142
        }
      },
      "execution_count": 119,
      "outputs": [
        {
          "output_type": "display_data",
          "data": {
            "text/plain": [
              "<IPython.core.display.HTML object>"
            ],
            "text/html": [
              "\n",
              "  <style>\n",
              "    pre {\n",
              "        white-space: pre-wrap;\n",
              "    }\n",
              "  </style>\n",
              "  "
            ]
          },
          "metadata": {}
        },
        {
          "output_type": "stream",
          "name": "stdout",
          "text": [
            "['Project', 'Gutenberg', 'eBook', 'heart', 'friend', 'ebook', 'use', 'United', 'States', 'part', 'world', 'cost', 'restriction', 'whatsoever', 'copy', 'away', 'use', 'term', 'Project', 'Gutenberg', 'License', 'include', 'ebook', 'online', 'locate', 'United', 'States', 'check', 'law', 'country', 'locate', 'eBook', 'Title', 'heart', 'friend', 'Compiler', 'Amy', 'Addingley', 'Release', 'date', 'January', 'eBook', 'Language', 'English', 'Original', 'publication', 'New', 'York', 'Platt', 'amp', 'Peck', 'Co', 'Credits', 'Peter', 'Becker', 'Online', 'distribute', 'Proofreading', 'Team', 'file', 'produce', 'image', 'generously', 'available', 'Internet', 'Archive', 'START', 'PROJECT', 'GUTENBERG', 'EBOOK', 'HEART', 'FRIEND', 'Heart', 'Friend', 'Selected', 'AMY', 'ADDINGLEY', 'New', 'York', 'PLATT', 'amp', 'peck', 'CO', 'Copyright', 'PLATT', 'amp', 'peck', 'COMPANY', 'PREFACE', 'FRIEND', 'quicken', 'pulse', 'warm', 'heart', 'beautiful', 'relationship', 'human', 'intercourse', 'friendship', 'easiest']\n"
          ]
        }
      ]
    },
    {
      "cell_type": "markdown",
      "source": [
        "## tokenization using keras"
      ],
      "metadata": {
        "id": "-uPVSezjgxkR"
      }
    },
    {
      "cell_type": "code",
      "source": [
        "import tensorflow as tf\n",
        "from tensorflow import keras\n",
        "from tensorflow.keras.preprocessing.text import Tokenizer"
      ],
      "metadata": {
        "id": "LkdTmRSTb5Q5",
        "outputId": "8079ec71-0b73-4632-a3ce-6be5c7d5d161",
        "colab": {
          "base_uri": "https://localhost:8080/",
          "height": 17
        }
      },
      "execution_count": 67,
      "outputs": [
        {
          "output_type": "display_data",
          "data": {
            "text/plain": [
              "<IPython.core.display.HTML object>"
            ],
            "text/html": [
              "\n",
              "  <style>\n",
              "    pre {\n",
              "        white-space: pre-wrap;\n",
              "    }\n",
              "  </style>\n",
              "  "
            ]
          },
          "metadata": {}
        }
      ]
    },
    {
      "cell_type": "code",
      "source": [
        "tokenizer = Tokenizer(oov_token=\"<OOV>\")\n",
        "tokenizer.fit_on_texts([clean_text])\n",
        "word_index = tokenizer.word_index\n",
        "sequences = tokenizer.texts_to_sequences([clean_text])[0]\n",
        "print(\"First 20 tokens (as integers):\", sequences[:20])\n",
        "print(\"\\nWord index (first 10 words):\", list(word_index.items())[:10])"
      ],
      "metadata": {
        "id": "jwkd5UrAcOZu",
        "outputId": "c4f11de1-e160-4d54-ab57-7a0d43963c48",
        "colab": {
          "base_uri": "https://localhost:8080/",
          "height": 71
        }
      },
      "execution_count": 68,
      "outputs": [
        {
          "output_type": "display_data",
          "data": {
            "text/plain": [
              "<IPython.core.display.HTML object>"
            ],
            "text/html": [
              "\n",
              "  <style>\n",
              "    pre {\n",
              "        white-space: pre-wrap;\n",
              "    }\n",
              "  </style>\n",
              "  "
            ]
          },
          "metadata": {}
        },
        {
          "output_type": "stream",
          "name": "stdout",
          "text": [
            "First 20 tokens (as integers): [2, 28, 66, 151, 3, 33, 2, 58, 3, 6, 9, 30, 151, 7, 16, 2, 107, 3, 349, 776]\n",
            "\n",
            "Word index (first 10 words): [('<OOV>', 1), ('the', 2), ('of', 3), ('and', 4), ('to', 5), ('a', 6), ('is', 7), ('in', 8), ('friend', 9), ('with', 10)]\n"
          ]
        }
      ]
    },
    {
      "cell_type": "code",
      "source": [
        "words_list = list(tokenizer.word_index.keys())"
      ],
      "metadata": {
        "id": "Ch2W-of1ctOA",
        "outputId": "fc687431-8ebc-41d4-b33f-9898b9ebba46",
        "colab": {
          "base_uri": "https://localhost:8080/",
          "height": 17
        }
      },
      "execution_count": 134,
      "outputs": [
        {
          "output_type": "display_data",
          "data": {
            "text/plain": [
              "<IPython.core.display.HTML object>"
            ],
            "text/html": [
              "\n",
              "  <style>\n",
              "    pre {\n",
              "        white-space: pre-wrap;\n",
              "    }\n",
              "  </style>\n",
              "  "
            ]
          },
          "metadata": {}
        }
      ]
    },
    {
      "cell_type": "code",
      "source": [
        "len(words_list)"
      ],
      "metadata": {
        "id": "EKKWKMrkptA5",
        "outputId": "4393bad9-5659-49e3-90db-eb1020f676c3",
        "colab": {
          "base_uri": "https://localhost:8080/",
          "height": 35
        }
      },
      "execution_count": 136,
      "outputs": [
        {
          "output_type": "display_data",
          "data": {
            "text/plain": [
              "<IPython.core.display.HTML object>"
            ],
            "text/html": [
              "\n",
              "  <style>\n",
              "    pre {\n",
              "        white-space: pre-wrap;\n",
              "    }\n",
              "  </style>\n",
              "  "
            ]
          },
          "metadata": {}
        },
        {
          "output_type": "execute_result",
          "data": {
            "text/plain": [
              "3237"
            ]
          },
          "metadata": {},
          "execution_count": 136
        }
      ]
    },
    {
      "cell_type": "markdown",
      "source": [
        "## remove stopwords"
      ],
      "metadata": {
        "id": "E2LAxlBXp5pA"
      }
    },
    {
      "cell_type": "code",
      "source": [
        "words_list = [word for word in words_list if word.lower() not in stop_words]"
      ],
      "metadata": {
        "id": "jXWx9gIzpvEh",
        "outputId": "7f05b41e-d75b-4986-f67a-b54d51e2b1ed",
        "colab": {
          "base_uri": "https://localhost:8080/",
          "height": 17
        }
      },
      "execution_count": 139,
      "outputs": [
        {
          "output_type": "display_data",
          "data": {
            "text/plain": [
              "<IPython.core.display.HTML object>"
            ],
            "text/html": [
              "\n",
              "  <style>\n",
              "    pre {\n",
              "        white-space: pre-wrap;\n",
              "    }\n",
              "  </style>\n",
              "  "
            ]
          },
          "metadata": {}
        }
      ]
    },
    {
      "cell_type": "code",
      "source": [
        "len(words_list)"
      ],
      "metadata": {
        "id": "yxAEo6CEp3Da",
        "outputId": "cbe2c659-0b49-448c-a909-a3e02909a5ff",
        "colab": {
          "base_uri": "https://localhost:8080/",
          "height": 35
        }
      },
      "execution_count": 140,
      "outputs": [
        {
          "output_type": "display_data",
          "data": {
            "text/plain": [
              "<IPython.core.display.HTML object>"
            ],
            "text/html": [
              "\n",
              "  <style>\n",
              "    pre {\n",
              "        white-space: pre-wrap;\n",
              "    }\n",
              "  </style>\n",
              "  "
            ]
          },
          "metadata": {}
        },
        {
          "output_type": "execute_result",
          "data": {
            "text/plain": [
              "3121"
            ]
          },
          "metadata": {},
          "execution_count": 140
        }
      ]
    },
    {
      "cell_type": "markdown",
      "source": [
        "## keras handles puntuations by default"
      ],
      "metadata": {
        "id": "pe_VSpUNdB1m"
      }
    },
    {
      "cell_type": "code",
      "source": [
        "print(words_list[:50])"
      ],
      "metadata": {
        "id": "93neV6hMcwrf",
        "outputId": "4e69b4b8-b780-47a1-e54d-ce590995d56c",
        "colab": {
          "base_uri": "https://localhost:8080/",
          "height": 88
        }
      },
      "execution_count": 141,
      "outputs": [
        {
          "output_type": "display_data",
          "data": {
            "text/plain": [
              "<IPython.core.display.HTML object>"
            ],
            "text/html": [
              "\n",
              "  <style>\n",
              "    pre {\n",
              "        white-space: pre-wrap;\n",
              "    }\n",
              "  </style>\n",
              "  "
            ]
          },
          "metadata": {}
        },
        {
          "output_type": "stream",
          "name": "stdout",
          "text": [
            "['<OOV>', 'friend', 'friendship', 'love', 'friends', 'project', 'gutenberg™', 'there', '1', 'work', 'when', 'heart', 'thy', 'man', 'old', 'like', 'gutenberg', 'true', 'works', 'good', 'never', 'thee', 'life', 'electronic', 'make', 'where', 'shall', 'without', 'e', 'world', 'terms', 'sweet', 'thou', 'copyright', 'foundation', 'new', 'best', 'whose', 'how', 'use', 'states', 'say', '—shakespeare', 'agreement', 'license', 'come', 'full', 'time', 'out', 'united']\n"
          ]
        }
      ]
    },
    {
      "cell_type": "code",
      "source": [
        "words_with_punctuation_keras=check_punctuation_in_words(words_list)\n",
        "print(words_with_punctuation_keras[:50])"
      ],
      "metadata": {
        "id": "yaw7bkLScyuJ",
        "outputId": "dc144551-1535-4792-b480-d11b09e39487",
        "colab": {
          "base_uri": "https://localhost:8080/",
          "height": 88
        }
      },
      "execution_count": 142,
      "outputs": [
        {
          "output_type": "display_data",
          "data": {
            "text/plain": [
              "<IPython.core.display.HTML object>"
            ],
            "text/html": [
              "\n",
              "  <style>\n",
              "    pre {\n",
              "        white-space: pre-wrap;\n",
              "    }\n",
              "  </style>\n",
              "  "
            ]
          },
          "metadata": {}
        },
        {
          "output_type": "stream",
          "name": "stdout",
          "text": [
            "['<OOV>', 'gutenberg™', '—shakespeare', '—unknown', '”', '—emerson', '—tennyson', '—jonson', '—thoreau', '’tis', '—longfellow', '—lytton', '—seneca', '—cicero', '“project', 'gutenberg”', '—byron', '—taylor', '—holmes', '—arnold', '—eliot', '—a', '—', 'together—', '•', '—philips', '—schiller', '—coleridge', '—ouida', '—landor', '—alger', '—anon', '—st', '—montaigne', '—lavater', '—brooks', '—macdonald', '—stevenson', 'blue—', '—smith', '—hale', '—lowell', '—wycherley', '“we', '—robertson', '—holland', '—drummond', 'it—', '—meredith', '—pollok']\n"
          ]
        }
      ]
    },
    {
      "cell_type": "code",
      "source": [
        "len(words_with_punctuation_keras)"
      ],
      "metadata": {
        "id": "FY0H_ceXdKkz",
        "outputId": "11820e38-728c-432b-9a15-e2b06ba52773",
        "colab": {
          "base_uri": "https://localhost:8080/",
          "height": 35
        }
      },
      "execution_count": 143,
      "outputs": [
        {
          "output_type": "display_data",
          "data": {
            "text/plain": [
              "<IPython.core.display.HTML object>"
            ],
            "text/html": [
              "\n",
              "  <style>\n",
              "    pre {\n",
              "        white-space: pre-wrap;\n",
              "    }\n",
              "  </style>\n",
              "  "
            ]
          },
          "metadata": {}
        },
        {
          "output_type": "execute_result",
          "data": {
            "text/plain": [
              "202"
            ]
          },
          "metadata": {},
          "execution_count": 143
        }
      ]
    },
    {
      "cell_type": "markdown",
      "source": [
        "## keras tokenizer has succesfully reduced words with punctuation better than spacy,nltk."
      ],
      "metadata": {
        "id": "hoUyJT6AdSA9"
      }
    },
    {
      "cell_type": "markdown",
      "source": [
        "## stemmming after tokenization using keras"
      ],
      "metadata": {
        "id": "nYoHG0IyjrJs"
      }
    },
    {
      "cell_type": "code",
      "source": [
        "porter = PorterStemmer()\n",
        "stemmed_tokens = [porter.stem(token) for token in words_list]\n",
        "print(stemmed_tokens[:50])"
      ],
      "metadata": {
        "id": "qsKtVVtsjQaO",
        "outputId": "8eeb6ea1-832c-402b-bb9a-17ee41a51875",
        "colab": {
          "base_uri": "https://localhost:8080/",
          "height": 88
        }
      },
      "execution_count": 144,
      "outputs": [
        {
          "output_type": "display_data",
          "data": {
            "text/plain": [
              "<IPython.core.display.HTML object>"
            ],
            "text/html": [
              "\n",
              "  <style>\n",
              "    pre {\n",
              "        white-space: pre-wrap;\n",
              "    }\n",
              "  </style>\n",
              "  "
            ]
          },
          "metadata": {}
        },
        {
          "output_type": "stream",
          "name": "stdout",
          "text": [
            "['<oov>', 'friend', 'friendship', 'love', 'friend', 'project', 'gutenberg™', 'there', '1', 'work', 'when', 'heart', 'thi', 'man', 'old', 'like', 'gutenberg', 'true', 'work', 'good', 'never', 'thee', 'life', 'electron', 'make', 'where', 'shall', 'without', 'e', 'world', 'term', 'sweet', 'thou', 'copyright', 'foundat', 'new', 'best', 'whose', 'how', 'use', 'state', 'say', '—shakespear', 'agreement', 'licens', 'come', 'full', 'time', 'out', 'unit']\n"
          ]
        }
      ]
    },
    {
      "cell_type": "markdown",
      "source": [
        "## lemmatization"
      ],
      "metadata": {
        "id": "F0DrZq6PjxHW"
      }
    },
    {
      "cell_type": "code",
      "source": [
        "lemmatizer = WordNetLemmatizer()\n",
        "lemmatized_tokens = [lemmatizer.lemmatize(token) for token in words_list]\n",
        "print(lemmatized_tokens[:100])"
      ],
      "metadata": {
        "id": "CAxE7c0ij9HT",
        "outputId": "2600a5c8-131f-478a-9ad5-cf9102e897c7",
        "colab": {
          "base_uri": "https://localhost:8080/",
          "height": 142
        }
      },
      "execution_count": 145,
      "outputs": [
        {
          "output_type": "display_data",
          "data": {
            "text/plain": [
              "<IPython.core.display.HTML object>"
            ],
            "text/html": [
              "\n",
              "  <style>\n",
              "    pre {\n",
              "        white-space: pre-wrap;\n",
              "    }\n",
              "  </style>\n",
              "  "
            ]
          },
          "metadata": {}
        },
        {
          "output_type": "stream",
          "name": "stdout",
          "text": [
            "['<OOV>', 'friend', 'friendship', 'love', 'friend', 'project', 'gutenberg™', 'there', '1', 'work', 'when', 'heart', 'thy', 'man', 'old', 'like', 'gutenberg', 'true', 'work', 'good', 'never', 'thee', 'life', 'electronic', 'make', 'where', 'shall', 'without', 'e', 'world', 'term', 'sweet', 'thou', 'copyright', 'foundation', 'new', 'best', 'whose', 'how', 'use', 'state', 'say', '—shakespeare', 'agreement', 'license', 'come', 'full', 'time', 'out', 'united', 'cannot', '—unknown', 'still', 'people', 'friendship', 'give', 'found', 'soul', 'yet', 'word', 'sun', 'donation', 'away', 'archive', 'faithful', 'word', 'though', 'thing', 'day', 'let', 'loved', 'trademark', 'ebook', 'much', 'upon', 'ever', 'o', 'nothing', 'set', 'part', '”', 'literary', 'copy', 'year', 'hour', 'long', '—emerson', 'thing', 'know', 'men', 'here', 'place', 'alone', 'law', 'think', '3', 'always', 'form', 'ye', 'affection']\n"
          ]
        }
      ]
    },
    {
      "cell_type": "code",
      "source": [
        "import matplotlib.pyplot as plt\n",
        "\n",
        "categories = ['Spacy', 'NLTK', 'Keras']\n",
        "values = [len(words_with_punctuation_spacy), len(words_with_punctuation), len(words_with_punctuation_keras)]\n",
        "\n",
        "plt.figure(figsize=(8, 6))\n",
        "plt.bar(categories, values, color=['skyblue', 'lightcoral', 'lightgreen'])\n",
        "plt.xlabel(\"Tokenization Method\")\n",
        "plt.ylabel(\"Number of Words with Punctuation\")\n",
        "plt.title(\"Comparison of Words with Punctuation across Different Tokenizers\")\n",
        "\n",
        "for i, v in enumerate(values):\n",
        "    plt.text(i, v + 10, str(v), ha='center', va='bottom')\n",
        "\n",
        "plt.show()\n"
      ],
      "metadata": {
        "id": "gjDUPqv_diKp",
        "outputId": "e8aa9902-09d5-4231-e9a5-8fbca9d6df5f",
        "colab": {
          "base_uri": "https://localhost:8080/",
          "height": 564
        }
      },
      "execution_count": 146,
      "outputs": [
        {
          "output_type": "display_data",
          "data": {
            "text/plain": [
              "<IPython.core.display.HTML object>"
            ],
            "text/html": [
              "\n",
              "  <style>\n",
              "    pre {\n",
              "        white-space: pre-wrap;\n",
              "    }\n",
              "  </style>\n",
              "  "
            ]
          },
          "metadata": {}
        },
        {
          "output_type": "display_data",
          "data": {
            "text/plain": [
              "<Figure size 800x600 with 1 Axes>"
            ],
            "image/png": "[encoded data removed]"
          },
          "metadata": {}
        }
      ]
    },
    {
      "cell_type": "code",
      "source": [
        "print(\"\\nToken counts after processing:\")\n",
        "print(f\"  - Regular Expressions: {len(filtered_tokens)}\")\n",
        "print(f\"  - NLTK: {len(filtered_nltk_tokens)}\")\n",
        "print(f\"  - spaCy: {len(tokens_spacy)}\")\n",
        "print(f\"  - Keras: {len(words_list)}\")\n",
        "\n",
        "categories = ['Regex', 'NLTK', 'spaCy', 'Keras']\n",
        "values = [len(filtered_tokens), len(filtered_nltk_tokens), len(tokens_spacy), len(words_list)]\n",
        "\n",
        "plt.figure(figsize=(10, 6))\n",
        "plt.bar(categories, values, color=['skyblue', 'lightcoral', 'lightgreen', 'lightblue'])\n",
        "plt.xlabel(\"Tokenization Method\")\n",
        "plt.ylabel(\"Number of Tokens\")\n",
        "plt.title(\"Comparison of Token Counts after Processing\")\n",
        "\n",
        "for i, v in enumerate(values):\n",
        "    plt.text(i, v + 10, str(v), ha='center', va='bottom')\n",
        "\n",
        "plt.show()"
      ],
      "metadata": {
        "id": "hXwjN5yrkm7m",
        "outputId": "d09e1d63-e445-4d6c-8886-a6ca02a0a87c",
        "colab": {
          "base_uri": "https://localhost:8080/",
          "height": 671
        }
      },
      "execution_count": 147,
      "outputs": [
        {
          "output_type": "display_data",
          "data": {
            "text/plain": [
              "<IPython.core.display.HTML object>"
            ],
            "text/html": [
              "\n",
              "  <style>\n",
              "    pre {\n",
              "        white-space: pre-wrap;\n",
              "    }\n",
              "  </style>\n",
              "  "
            ]
          },
          "metadata": {}
        },
        {
          "output_type": "stream",
          "name": "stdout",
          "text": [
            "\n",
            "Token counts after processing:\n",
            "  - Regular Expressions: 6760\n",
            "  - NLTK: 8079\n",
            "  - spaCy: 6765\n",
            "  - Keras: 3121\n"
          ]
        },
        {
          "output_type": "display_data",
          "data": {
            "text/plain": [
              "<Figure size 1000x600 with 1 Axes>"
            ],
            "image/png": "[encoded data removed]"
          },
          "metadata": {}
        }
      ]
    },
    {
      "cell_type": "markdown",
      "source": [
        "* Regex (6760 tokens) and spaCy (6765 tokens) produce very similar results, which indicates both are performing accurate tokenization and filtering.\n",
        "* NLTK (8079 tokens) is generating significantly more tokens compared to others. This suggests that:\n",
        "* NLTK might be splitting tokens more aggressively.\n",
        "\n",
        "* Keras (3121 tokens) shows the smallest number of tokens, which could be due to:\n",
        "Successful stopword removal.\n",
        "Removing numbers and non-alphabetic tokens."
      ],
      "metadata": {
        "id": "GykKZriRqcjH"
      }
    }
  ]
}
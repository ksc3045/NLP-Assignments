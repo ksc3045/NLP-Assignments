{
  "nbformat": 4,
  "nbformat_minor": 0,
  "metadata": {
    "colab": {
      "provenance": [],
      "authorship_tag": "ABX9TyNPmLSOE88K9BwOWtgaBmLU",
      "include_colab_link": true
    },
    "kernelspec": {
      "name": "python3",
      "display_name": "Python 3"
    },
    "language_info": {
      "name": "python"
    }
  },
  "cells": [
    {
      "cell_type": "markdown",
      "metadata": {
        "id": "view-in-github",
        "colab_type": "text"
      },
      "source": [
        "<a href=\"https://colab.research.google.com/github/ksc3045/NLP-Assignments/blob/main/nlp_2.ipynb\" target=\"_parent\"><img src=\"https://colab.research.google.com/assets/colab-badge.svg\" alt=\"Open In Colab\"/></a>"
      ]
    },
    {
      "cell_type": "markdown",
      "source": [
        "# Tokenization using re module"
      ],
      "metadata": {
        "id": "4aKuyaKEfIFi"
      }
    },
    {
      "cell_type": "markdown",
      "source": [
        "* The following code is written to display the overflowing output in wrappe out manner.\n",
        "* All long-line outputs will be wrapped to the next line and we won't need to scroll left-right to see the output.\n"
      ],
      "metadata": {
        "id": "9qMCRf0aBM9L"
      }
    },
    {
      "cell_type": "code",
      "source": [
        "from IPython.display import HTML, display\n",
        "\n",
        "def set_css():\n",
        "  display(HTML('''\n",
        "  <style>\n",
        "    pre {\n",
        "        white-space: pre-wrap;\n",
        "    }\n",
        "  </style>\n",
        "  '''))\n",
        "get_ipython().events.register('pre_run_cell', set_css)"
      ],
      "metadata": {
        "id": "-d5OHoMUTmbq",
        "outputId": "9a30b888-c9ad-4211-d0c1-071a3e599af1",
        "colab": {
          "base_uri": "https://localhost:8080/",
          "height": 17
        }
      },
      "execution_count": 61,
      "outputs": [
        {
          "output_type": "display_data",
          "data": {
            "text/plain": [
              "<IPython.core.display.HTML object>"
            ],
            "text/html": [
              "\n",
              "  <style>\n",
              "    pre {\n",
              "        white-space: pre-wrap;\n",
              "    }\n",
              "  </style>\n",
              "  "
            ]
          },
          "metadata": {}
        }
      ]
    },
    {
      "cell_type": "markdown",
      "source": [
        "## importing regular expression module"
      ],
      "metadata": {
        "id": "tyX2WY9Ie-Go"
      }
    },
    {
      "cell_type": "code",
      "source": [
        "import re\n"
      ],
      "metadata": {
        "id": "AH5LI6G3e9wg",
        "outputId": "477a86c4-f2cb-474f-9435-8b6915447742",
        "colab": {
          "base_uri": "https://localhost:8080/",
          "height": 17
        }
      },
      "execution_count": 62,
      "outputs": [
        {
          "output_type": "display_data",
          "data": {
            "text/plain": [
              "<IPython.core.display.HTML object>"
            ],
            "text/html": [
              "\n",
              "  <style>\n",
              "    pre {\n",
              "        white-space: pre-wrap;\n",
              "    }\n",
              "  </style>\n",
              "  "
            ]
          },
          "metadata": {}
        },
        {
          "output_type": "display_data",
          "data": {
            "text/plain": [
              "<IPython.core.display.HTML object>"
            ],
            "text/html": [
              "\n",
              "  <style>\n",
              "    pre {\n",
              "        white-space: pre-wrap;\n",
              "    }\n",
              "  </style>\n",
              "  "
            ]
          },
          "metadata": {}
        }
      ]
    },
    {
      "cell_type": "code",
      "source": [
        "import requests\n",
        "from bs4 import BeautifulSoup"
      ],
      "metadata": {
        "id": "1KKxhvPETU1Y",
        "outputId": "f72526e8-4c26-4263-b2ea-733e33529635",
        "colab": {
          "base_uri": "https://localhost:8080/",
          "height": 17
        }
      },
      "execution_count": 63,
      "outputs": [
        {
          "output_type": "display_data",
          "data": {
            "text/plain": [
              "<IPython.core.display.HTML object>"
            ],
            "text/html": [
              "\n",
              "  <style>\n",
              "    pre {\n",
              "        white-space: pre-wrap;\n",
              "    }\n",
              "  </style>\n",
              "  "
            ]
          },
          "metadata": {}
        },
        {
          "output_type": "display_data",
          "data": {
            "text/plain": [
              "<IPython.core.display.HTML object>"
            ],
            "text/html": [
              "\n",
              "  <style>\n",
              "    pre {\n",
              "        white-space: pre-wrap;\n",
              "    }\n",
              "  </style>\n",
              "  "
            ]
          },
          "metadata": {}
        }
      ]
    },
    {
      "cell_type": "markdown",
      "source": [
        "###html_text taken from **Gutenberg** website of a book named **From the heart of a friend**"
      ],
      "metadata": {
        "id": "96ZHnkpdS7Z_"
      }
    },
    {
      "cell_type": "markdown",
      "source": [
        "### html_text taken from gutenberg website using beautiful soup"
      ],
      "metadata": {
        "id": "Po_liYjjS7aA"
      }
    },
    {
      "cell_type": "code",
      "source": [
        "def get_html_text(url):\n",
        "  response = requests.get(url)\n",
        "  response.encoding = \"utf-8\"\n",
        "  html_content=response.text\n",
        "  print(response.text[:1000])\n",
        "  return html_content\n"
      ],
      "metadata": {
        "id": "gDXJv8V8LA14",
        "outputId": "d9bedee6-f6f5-4d8c-c10b-6c00a176fb13",
        "colab": {
          "base_uri": "https://localhost:8080/",
          "height": 17
        }
      },
      "execution_count": 64,
      "outputs": [
        {
          "output_type": "display_data",
          "data": {
            "text/plain": [
              "<IPython.core.display.HTML object>"
            ],
            "text/html": [
              "\n",
              "  <style>\n",
              "    pre {\n",
              "        white-space: pre-wrap;\n",
              "    }\n",
              "  </style>\n",
              "  "
            ]
          },
          "metadata": {}
        },
        {
          "output_type": "display_data",
          "data": {
            "text/plain": [
              "<IPython.core.display.HTML object>"
            ],
            "text/html": [
              "\n",
              "  <style>\n",
              "    pre {\n",
              "        white-space: pre-wrap;\n",
              "    }\n",
              "  </style>\n",
              "  "
            ]
          },
          "metadata": {}
        }
      ]
    },
    {
      "cell_type": "code",
      "source": [
        "url=\"https://www.gutenberg.org/cache/epub/75263/pg75263-images.html\""
      ],
      "metadata": {
        "id": "5RsvfeiJL_Q0",
        "outputId": "dee398e9-bb16-4932-83b5-f2befd3517af",
        "colab": {
          "base_uri": "https://localhost:8080/",
          "height": 17
        }
      },
      "execution_count": 65,
      "outputs": [
        {
          "output_type": "display_data",
          "data": {
            "text/plain": [
              "<IPython.core.display.HTML object>"
            ],
            "text/html": [
              "\n",
              "  <style>\n",
              "    pre {\n",
              "        white-space: pre-wrap;\n",
              "    }\n",
              "  </style>\n",
              "  "
            ]
          },
          "metadata": {}
        },
        {
          "output_type": "display_data",
          "data": {
            "text/plain": [
              "<IPython.core.display.HTML object>"
            ],
            "text/html": [
              "\n",
              "  <style>\n",
              "    pre {\n",
              "        white-space: pre-wrap;\n",
              "    }\n",
              "  </style>\n",
              "  "
            ]
          },
          "metadata": {}
        }
      ]
    },
    {
      "cell_type": "code",
      "source": [
        "text=get_html_text(url)\n"
      ],
      "metadata": {
        "colab": {
          "base_uri": "https://localhost:8080/",
          "height": 892
        },
        "id": "HqveYKmWMEaz",
        "outputId": "41aaa1f3-8305-4c34-c91e-79cba2e03703"
      },
      "execution_count": 66,
      "outputs": [
        {
          "output_type": "display_data",
          "data": {
            "text/plain": [
              "<IPython.core.display.HTML object>"
            ],
            "text/html": [
              "\n",
              "  <style>\n",
              "    pre {\n",
              "        white-space: pre-wrap;\n",
              "    }\n",
              "  </style>\n",
              "  "
            ]
          },
          "metadata": {}
        },
        {
          "output_type": "display_data",
          "data": {
            "text/plain": [
              "<IPython.core.display.HTML object>"
            ],
            "text/html": [
              "\n",
              "  <style>\n",
              "    pre {\n",
              "        white-space: pre-wrap;\n",
              "    }\n",
              "  </style>\n",
              "  "
            ]
          },
          "metadata": {}
        },
        {
          "output_type": "stream",
          "name": "stdout",
          "text": [
            "<!DOCTYPE html>\r\n",
            "<html lang=\"en\"><head>\r\n",
            "    <meta charset=\"utf-8\"><style>\r\n",
            "#pg-header div, #pg-footer div {\r\n",
            "    all: initial;\r\n",
            "    display: block;\r\n",
            "    margin-top: 1em;\r\n",
            "    margin-bottom: 1em;\r\n",
            "    margin-left: 2em;\r\n",
            "}\r\n",
            "#pg-footer div.agate {\r\n",
            "    font-size: 90%;\r\n",
            "    margin-top: 0;\r\n",
            "    margin-bottom: 0;\r\n",
            "    text-align: center;\r\n",
            "}\r\n",
            "#pg-footer li {\r\n",
            "    all: initial;\r\n",
            "    display: block;\r\n",
            "    margin-top: 1em;\r\n",
            "    margin-bottom: 1em;\r\n",
            "    text-indent: -0.6em;\r\n",
            "}\r\n",
            "#pg-footer div.secthead {\r\n",
            "    font-size: 110%;\r\n",
            "    font-weight: bold;\r\n",
            "}\r\n",
            "#pg-footer #project-gutenberg-license {\r\n",
            "    font-size: 110%;\r\n",
            "    margin-top: 0;\r\n",
            "    margin-bottom: 0;\r\n",
            "    text-align: center;\r\n",
            "}\r\n",
            "#pg-header-heading {\r\n",
            "    all: inherit;\r\n",
            "    text-align: center;\r\n",
            "    font-size: 120%;\r\n",
            "    font-weight:bold;\r\n",
            "}\r\n",
            "#pg-footer-heading {\r\n",
            "    all: inherit;\r\n",
            "    text-align: center;\r\n",
            "    font-size: 120%;\r\n",
            "    font-weight: normal;\r\n",
            "    margin-top: 0;\r\n",
            "    margin-bottom: 0;\r\n",
            "}\r\n",
            "#pg-header #pg-machine-header p {\r\n",
            "    text-\n"
          ]
        }
      ]
    },
    {
      "cell_type": "markdown",
      "source": [
        "## Extract content inside <body> to remove extra metadata"
      ],
      "metadata": {
        "id": "Kp8R1qREWPHD"
      }
    },
    {
      "cell_type": "markdown",
      "source": [
        "### Before the **body tag** in the HTML structure , there is important metadata and some CSS (styling) that define how the eBook's page will appear and behave."
      ],
      "metadata": {
        "id": "swJ22iqPXUoP"
      }
    },
    {
      "cell_type": "markdown",
      "source": [
        "* by observing the html ebook page we can see that  all the text is stored in betweeen body tags in html page.\n",
        "* so we only consider the part after body tag and match pattern of opening body tag and ending body tag"
      ],
      "metadata": {
        "id": "sromduVrWSJ9"
      }
    },
    {
      "cell_type": "markdown",
      "source": [
        "# Matching Body Tags"
      ],
      "metadata": {
        "id": "2nHsypr4Ye_R"
      }
    },
    {
      "cell_type": "code",
      "source": [
        "body_pattern = r'<body.*?>(.*?)</body>'\n",
        "body_match = re.search(body_pattern, text, re.DOTALL)"
      ],
      "metadata": {
        "id": "rLr-m9WDWNZ7",
        "outputId": "a3298cb9-f02f-48af-91b9-134d3a0e4247",
        "colab": {
          "base_uri": "https://localhost:8080/",
          "height": 17
        }
      },
      "execution_count": 67,
      "outputs": [
        {
          "output_type": "display_data",
          "data": {
            "text/plain": [
              "<IPython.core.display.HTML object>"
            ],
            "text/html": [
              "\n",
              "  <style>\n",
              "    pre {\n",
              "        white-space: pre-wrap;\n",
              "    }\n",
              "  </style>\n",
              "  "
            ]
          },
          "metadata": {}
        },
        {
          "output_type": "display_data",
          "data": {
            "text/plain": [
              "<IPython.core.display.HTML object>"
            ],
            "text/html": [
              "\n",
              "  <style>\n",
              "    pre {\n",
              "        white-space: pre-wrap;\n",
              "    }\n",
              "  </style>\n",
              "  "
            ]
          },
          "metadata": {}
        }
      ]
    },
    {
      "cell_type": "code",
      "source": [
        "if body_match:\n",
        "    body_content = body_match.group(1).strip()\n",
        "\n",
        "    clean_text = re.sub(r'<[^>]+>', ' ', body_content)\n",
        "    clean_text = re.sub(r'\\s+', ' ', clean_text).strip()\n",
        "    tokens = re.findall(r\"\\w+|[^\\w\\s]\", clean_text)\n",
        "\n",
        "    print(tokens[:200])\n",
        "else:\n",
        "    print(\"Error: Could not extract content from <body> tag.\")\n"
      ],
      "metadata": {
        "colab": {
          "base_uri": "https://localhost:8080/",
          "height": 213
        },
        "id": "8u3ZpE4DOyro",
        "outputId": "4d80d080-c72c-423c-d812-1085e4488f13"
      },
      "execution_count": 68,
      "outputs": [
        {
          "output_type": "display_data",
          "data": {
            "text/plain": [
              "<IPython.core.display.HTML object>"
            ],
            "text/html": [
              "\n",
              "  <style>\n",
              "    pre {\n",
              "        white-space: pre-wrap;\n",
              "    }\n",
              "  </style>\n",
              "  "
            ]
          },
          "metadata": {}
        },
        {
          "output_type": "display_data",
          "data": {
            "text/plain": [
              "<IPython.core.display.HTML object>"
            ],
            "text/html": [
              "\n",
              "  <style>\n",
              "    pre {\n",
              "        white-space: pre-wrap;\n",
              "    }\n",
              "  </style>\n",
              "  "
            ]
          },
          "metadata": {}
        },
        {
          "output_type": "stream",
          "name": "stdout",
          "text": [
            "['The', 'Project', 'Gutenberg', 'eBook', 'of', 'From', 'the', 'heart', 'of', 'a', 'friend', 'This', 'ebook', 'is', 'for', 'the', 'use', 'of', 'anyone', 'anywhere', 'in', 'the', 'United', 'States', 'and', 'most', 'other', 'parts', 'of', 'the', 'world', 'at', 'no', 'cost', 'and', 'with', 'almost', 'no', 'restrictions', 'whatsoever', '.', 'You', 'may', 'copy', 'it', ',', 'give', 'it', 'away', 'or', 're', '-', 'use', 'it', 'under', 'the', 'terms', 'of', 'the', 'Project', 'Gutenberg', 'License', 'included', 'with', 'this', 'ebook', 'or', 'online', 'at', 'www', '.', 'gutenberg', '.', 'org', '.', 'If', 'you', 'are', 'not', 'located', 'in', 'the', 'United', 'States', ',', 'you', 'will', 'have', 'to', 'check', 'the', 'laws', 'of', 'the', 'country', 'where', 'you', 'are', 'located', 'before', 'using', 'this', 'eBook', '.', 'Title', ':', 'From', 'the', 'heart', 'of', 'a', 'friend', 'Compiler', ':', 'Amy', 'Addingley', 'Release', 'date', ':', 'January', '31', ',', '2025', '[', 'eBook', '#', '75263', ']', 'Language', ':', 'English', 'Original', 'publication', ':', 'New', 'York', ':', 'The', 'Platt', '&', 'amp', ';', 'Peck', 'Co', ',', '1910', 'Credits', ':', 'Peter', 'Becker', 'and', 'the', 'Online', 'Distributed', 'Proofreading', 'Team', 'at', 'https', ':', '/', '/', 'www', '.', 'pgdp', '.', 'net', '(', 'This', 'file', 'was', 'produced', 'from', 'images', 'generously', 'made', 'available', 'by', 'The', 'Internet', 'Archive', ')', '*', '*', '*', 'START', 'OF', 'THE', 'PROJECT', 'GUTENBERG', 'EBOOK', 'FROM', 'THE', 'HEART', 'OF', 'A', 'FRIEND', '*', '*', '*', 'From']\n"
          ]
        }
      ]
    },
    {
      "cell_type": "markdown",
      "source": [
        "# number of tokens"
      ],
      "metadata": {
        "id": "RH-ZB4k2ZaEN"
      }
    },
    {
      "cell_type": "code",
      "source": [
        "len(tokens)"
      ],
      "metadata": {
        "colab": {
          "base_uri": "https://localhost:8080/",
          "height": 35
        },
        "id": "Q_yP7lHjRbu7",
        "outputId": "877afd66-b19a-4fb5-c459-879b2edf92d1"
      },
      "execution_count": 69,
      "outputs": [
        {
          "output_type": "display_data",
          "data": {
            "text/plain": [
              "<IPython.core.display.HTML object>"
            ],
            "text/html": [
              "\n",
              "  <style>\n",
              "    pre {\n",
              "        white-space: pre-wrap;\n",
              "    }\n",
              "  </style>\n",
              "  "
            ]
          },
          "metadata": {}
        },
        {
          "output_type": "display_data",
          "data": {
            "text/plain": [
              "<IPython.core.display.HTML object>"
            ],
            "text/html": [
              "\n",
              "  <style>\n",
              "    pre {\n",
              "        white-space: pre-wrap;\n",
              "    }\n",
              "  </style>\n",
              "  "
            ]
          },
          "metadata": {}
        },
        {
          "output_type": "execute_result",
          "data": {
            "text/plain": [
              "18497"
            ]
          },
          "metadata": {},
          "execution_count": 69
        }
      ]
    },
    {
      "cell_type": "markdown",
      "source": [
        "# removing stop words."
      ],
      "metadata": {
        "id": "Lf5UQqebaCLN"
      }
    },
    {
      "cell_type": "markdown",
      "source": [
        "### Define a string of punctuation characters"
      ],
      "metadata": {
        "id": "1My14mKHbnRW"
      }
    },
    {
      "cell_type": "markdown",
      "source": [
        "* remove the punctuation marks as they are of no use in understanding context.\n",
        "* think of all punctuation marks and make a list of them.\n",
        "* after that match them in text and remove them from text."
      ],
      "metadata": {
        "id": "dxTVZjOmbw9I"
      }
    },
    {
      "cell_type": "code",
      "source": [
        "punctuation = '''!\"#$%&'()*+,-./:;<=>?@[\\]^_`{|}~'''"
      ],
      "metadata": {
        "id": "W36pMPaSbl0X",
        "outputId": "4d5172f6-a6f2-43fb-b22c-959e1ce9370c",
        "colab": {
          "base_uri": "https://localhost:8080/",
          "height": 17
        }
      },
      "execution_count": 70,
      "outputs": [
        {
          "output_type": "display_data",
          "data": {
            "text/plain": [
              "<IPython.core.display.HTML object>"
            ],
            "text/html": [
              "\n",
              "  <style>\n",
              "    pre {\n",
              "        white-space: pre-wrap;\n",
              "    }\n",
              "  </style>\n",
              "  "
            ]
          },
          "metadata": {}
        },
        {
          "output_type": "display_data",
          "data": {
            "text/plain": [
              "<IPython.core.display.HTML object>"
            ],
            "text/html": [
              "\n",
              "  <style>\n",
              "    pre {\n",
              "        white-space: pre-wrap;\n",
              "    }\n",
              "  </style>\n",
              "  "
            ]
          },
          "metadata": {}
        }
      ]
    },
    {
      "cell_type": "markdown",
      "source": [
        "\n",
        "\n",
        "### Convert the string into a list of individual punctuation marks"
      ],
      "metadata": {
        "id": "c4IvhgNHbsjm"
      }
    },
    {
      "cell_type": "code",
      "source": [
        "punctuation_list = list(punctuation)"
      ],
      "metadata": {
        "id": "GrlYQHDSbqRP",
        "outputId": "ae85ee81-4458-43eb-ec1a-0bad43466c06",
        "colab": {
          "base_uri": "https://localhost:8080/",
          "height": 17
        }
      },
      "execution_count": 71,
      "outputs": [
        {
          "output_type": "display_data",
          "data": {
            "text/plain": [
              "<IPython.core.display.HTML object>"
            ],
            "text/html": [
              "\n",
              "  <style>\n",
              "    pre {\n",
              "        white-space: pre-wrap;\n",
              "    }\n",
              "  </style>\n",
              "  "
            ]
          },
          "metadata": {}
        },
        {
          "output_type": "display_data",
          "data": {
            "text/plain": [
              "<IPython.core.display.HTML object>"
            ],
            "text/html": [
              "\n",
              "  <style>\n",
              "    pre {\n",
              "        white-space: pre-wrap;\n",
              "    }\n",
              "  </style>\n",
              "  "
            ]
          },
          "metadata": {}
        }
      ]
    },
    {
      "cell_type": "code",
      "source": [
        "print(punctuation_list)"
      ],
      "metadata": {
        "colab": {
          "base_uri": "https://localhost:8080/",
          "height": 53
        },
        "id": "w_JqupzFbkKn",
        "outputId": "3923f97b-790d-4722-bd2d-1d70930e9a05"
      },
      "execution_count": 72,
      "outputs": [
        {
          "output_type": "display_data",
          "data": {
            "text/plain": [
              "<IPython.core.display.HTML object>"
            ],
            "text/html": [
              "\n",
              "  <style>\n",
              "    pre {\n",
              "        white-space: pre-wrap;\n",
              "    }\n",
              "  </style>\n",
              "  "
            ]
          },
          "metadata": {}
        },
        {
          "output_type": "display_data",
          "data": {
            "text/plain": [
              "<IPython.core.display.HTML object>"
            ],
            "text/html": [
              "\n",
              "  <style>\n",
              "    pre {\n",
              "        white-space: pre-wrap;\n",
              "    }\n",
              "  </style>\n",
              "  "
            ]
          },
          "metadata": {}
        },
        {
          "output_type": "stream",
          "name": "stdout",
          "text": [
            "['!', '\"', '#', '$', '%', '&', \"'\", '(', ')', '*', '+', ',', '-', '.', '/', ':', ';', '<', '=', '>', '?', '@', '[', '\\\\', ']', '^', '_', '`', '{', '|', '}', '~']\n"
          ]
        }
      ]
    },
    {
      "cell_type": "code",
      "source": [
        "cleaned_tokens = [token for token in tokens if token not in punctuation_list]\n",
        "print(cleaned_tokens[:100])\n"
      ],
      "metadata": {
        "colab": {
          "base_uri": "https://localhost:8080/",
          "height": 124
        },
        "id": "dgcTL9PicOoN",
        "outputId": "9149c8d7-43b9-4e4f-ce57-c780a673547a"
      },
      "execution_count": 73,
      "outputs": [
        {
          "output_type": "display_data",
          "data": {
            "text/plain": [
              "<IPython.core.display.HTML object>"
            ],
            "text/html": [
              "\n",
              "  <style>\n",
              "    pre {\n",
              "        white-space: pre-wrap;\n",
              "    }\n",
              "  </style>\n",
              "  "
            ]
          },
          "metadata": {}
        },
        {
          "output_type": "display_data",
          "data": {
            "text/plain": [
              "<IPython.core.display.HTML object>"
            ],
            "text/html": [
              "\n",
              "  <style>\n",
              "    pre {\n",
              "        white-space: pre-wrap;\n",
              "    }\n",
              "  </style>\n",
              "  "
            ]
          },
          "metadata": {}
        },
        {
          "output_type": "stream",
          "name": "stdout",
          "text": [
            "['The', 'Project', 'Gutenberg', 'eBook', 'of', 'From', 'the', 'heart', 'of', 'a', 'friend', 'This', 'ebook', 'is', 'for', 'the', 'use', 'of', 'anyone', 'anywhere', 'in', 'the', 'United', 'States', 'and', 'most', 'other', 'parts', 'of', 'the', 'world', 'at', 'no', 'cost', 'and', 'with', 'almost', 'no', 'restrictions', 'whatsoever', 'You', 'may', 'copy', 'it', 'give', 'it', 'away', 'or', 're', 'use', 'it', 'under', 'the', 'terms', 'of', 'the', 'Project', 'Gutenberg', 'License', 'included', 'with', 'this', 'ebook', 'or', 'online', 'at', 'www', 'gutenberg', 'org', 'If', 'you', 'are', 'not', 'located', 'in', 'the', 'United', 'States', 'you', 'will', 'have', 'to', 'check', 'the', 'laws', 'of', 'the', 'country', 'where', 'you', 'are', 'located', 'before', 'using', 'this', 'eBook', 'Title', 'From', 'the', 'heart']\n"
          ]
        }
      ]
    },
    {
      "cell_type": "code",
      "source": [
        "len(cleaned_tokens)"
      ],
      "metadata": {
        "colab": {
          "base_uri": "https://localhost:8080/",
          "height": 35
        },
        "id": "EQQM5xo-chsE",
        "outputId": "5784b67b-3fcc-403f-9fe2-99278f5499bf"
      },
      "execution_count": 74,
      "outputs": [
        {
          "output_type": "display_data",
          "data": {
            "text/plain": [
              "<IPython.core.display.HTML object>"
            ],
            "text/html": [
              "\n",
              "  <style>\n",
              "    pre {\n",
              "        white-space: pre-wrap;\n",
              "    }\n",
              "  </style>\n",
              "  "
            ]
          },
          "metadata": {}
        },
        {
          "output_type": "display_data",
          "data": {
            "text/plain": [
              "<IPython.core.display.HTML object>"
            ],
            "text/html": [
              "\n",
              "  <style>\n",
              "    pre {\n",
              "        white-space: pre-wrap;\n",
              "    }\n",
              "  </style>\n",
              "  "
            ]
          },
          "metadata": {}
        },
        {
          "output_type": "execute_result",
          "data": {
            "text/plain": [
              "15845"
            ]
          },
          "metadata": {},
          "execution_count": 74
        }
      ]
    },
    {
      "cell_type": "markdown",
      "source": [
        "* almost 3000 tokens have been reduced after removing the punctuation marks."
      ],
      "metadata": {
        "id": "tsgU0PPHclPL"
      }
    },
    {
      "cell_type": "code",
      "source": [
        "stop_words = ['a', 'an', 'the', 'and', 'or', 'but', 'is', 'are', 'was', 'were', 'be', 'been', 'being', 'have', 'has', 'had', 'having', 'do', 'does', 'did', 'doing', 'will', 'would', 'should', 'can', 'could', 'may', 'might', 'must', 'in', 'on', 'at', 'to', 'from', 'by', 'for', 'with', 'about', 'against', 'between', 'into', 'through', 'during', 'before', 'after', 'above', 'below', 'under', 'over', 'of', 'i', 'me', 'my', 'mine', 'we', 'us', 'our', 'ours', 'you', 'your', 'yours', 'he', 'him', 'his', 'she', 'her', 'hers', 'it', 'its', 'they', 'them', 'their', 'theirs', 'what', 'which', 'who', 'whom', 'this', 'that', 'these', 'those', 'am', 'as', 'if', 'than', 'then', 'so', 'because', 'while', 'not', 'no', 'nor', 'only', 'own', 'same', 'such', 'very', 'too', 'more', 'most', 'less', 'least', 'just', 'enough', 'other', 'some', 'any', 'all', 'both', 'each', 'few', 'many', 'several', 'every', 'either', 'neither', 'one', 'two', 'three', 'four', 'five', 'six', 'seven', 'eight', 'nine', 'ten']\n",
        "filtered_tokens = [token for token in cleaned_tokens if token.lower() not in stop_words]\n",
        "\n",
        "print(filtered_tokens[:100])"
      ],
      "metadata": {
        "colab": {
          "base_uri": "https://localhost:8080/",
          "height": 142
        },
        "id": "tMztj9eQbLdR",
        "outputId": "26327576-e0a5-45f1-d383-d31a3e9e5016"
      },
      "execution_count": 75,
      "outputs": [
        {
          "output_type": "display_data",
          "data": {
            "text/plain": [
              "<IPython.core.display.HTML object>"
            ],
            "text/html": [
              "\n",
              "  <style>\n",
              "    pre {\n",
              "        white-space: pre-wrap;\n",
              "    }\n",
              "  </style>\n",
              "  "
            ]
          },
          "metadata": {}
        },
        {
          "output_type": "display_data",
          "data": {
            "text/plain": [
              "<IPython.core.display.HTML object>"
            ],
            "text/html": [
              "\n",
              "  <style>\n",
              "    pre {\n",
              "        white-space: pre-wrap;\n",
              "    }\n",
              "  </style>\n",
              "  "
            ]
          },
          "metadata": {}
        },
        {
          "output_type": "stream",
          "name": "stdout",
          "text": [
            "['Project', 'Gutenberg', 'eBook', 'heart', 'friend', 'ebook', 'use', 'anyone', 'anywhere', 'United', 'States', 'parts', 'world', 'cost', 'almost', 'restrictions', 'whatsoever', 'copy', 'give', 'away', 're', 'use', 'terms', 'Project', 'Gutenberg', 'License', 'included', 'ebook', 'online', 'www', 'gutenberg', 'org', 'located', 'United', 'States', 'check', 'laws', 'country', 'where', 'located', 'using', 'eBook', 'Title', 'heart', 'friend', 'Compiler', 'Amy', 'Addingley', 'Release', 'date', 'January', '31', '2025', 'eBook', '75263', 'Language', 'English', 'Original', 'publication', 'New', 'York', 'Platt', 'amp', 'Peck', 'Co', '1910', 'Credits', 'Peter', 'Becker', 'Online', 'Distributed', 'Proofreading', 'Team', 'https', 'www', 'pgdp', 'net', 'file', 'produced', 'images', 'generously', 'made', 'available', 'Internet', 'Archive', 'START', 'PROJECT', 'GUTENBERG', 'EBOOK', 'HEART', 'FRIEND', 'Heart', 'Friend', 'Selected', 'AMY', 'ADDINGLEY', 'New', 'York', 'PLATT', 'amp']\n"
          ]
        }
      ]
    },
    {
      "cell_type": "code",
      "source": [
        "len(filtered_tokens)"
      ],
      "metadata": {
        "colab": {
          "base_uri": "https://localhost:8080/",
          "height": 35
        },
        "id": "mEK7HnzWc_gI",
        "outputId": "c0278fc5-b1af-4619-c44c-433e03d83267"
      },
      "execution_count": 76,
      "outputs": [
        {
          "output_type": "display_data",
          "data": {
            "text/plain": [
              "<IPython.core.display.HTML object>"
            ],
            "text/html": [
              "\n",
              "  <style>\n",
              "    pre {\n",
              "        white-space: pre-wrap;\n",
              "    }\n",
              "  </style>\n",
              "  "
            ]
          },
          "metadata": {}
        },
        {
          "output_type": "display_data",
          "data": {
            "text/plain": [
              "<IPython.core.display.HTML object>"
            ],
            "text/html": [
              "\n",
              "  <style>\n",
              "    pre {\n",
              "        white-space: pre-wrap;\n",
              "    }\n",
              "  </style>\n",
              "  "
            ]
          },
          "metadata": {}
        },
        {
          "output_type": "execute_result",
          "data": {
            "text/plain": [
              "8651"
            ]
          },
          "metadata": {},
          "execution_count": 76
        }
      ]
    },
    {
      "cell_type": "markdown",
      "source": [
        "*  initially there were 18497 tokens after removing punctuations and stopwords it has gotten reduced to half of it."
      ],
      "metadata": {
        "id": "rzG1xXsFdDnr"
      }
    },
    {
      "cell_type": "markdown",
      "source": [
        "* now we have a list of tokens tokenized by re."
      ],
      "metadata": {
        "id": "GPeRjX9lUvPI"
      }
    },
    {
      "cell_type": "markdown",
      "source": [
        "# Tokenization using nltk"
      ],
      "metadata": {
        "id": "PpmMTWo2U2X2"
      }
    },
    {
      "cell_type": "code",
      "source": [
        "import nltk\n",
        "nltk.download('punkt')\n",
        "nltk.download('punkt_tab')\n",
        "nltk.download('stopwords')\n",
        "from nltk.tokenize import word_tokenize"
      ],
      "metadata": {
        "id": "ItjJ9C7TVGjx",
        "outputId": "7defe171-e1a1-437a-8eb6-cfef028db0c4",
        "colab": {
          "base_uri": "https://localhost:8080/",
          "height": 124
        }
      },
      "execution_count": 77,
      "outputs": [
        {
          "output_type": "display_data",
          "data": {
            "text/plain": [
              "<IPython.core.display.HTML object>"
            ],
            "text/html": [
              "\n",
              "  <style>\n",
              "    pre {\n",
              "        white-space: pre-wrap;\n",
              "    }\n",
              "  </style>\n",
              "  "
            ]
          },
          "metadata": {}
        },
        {
          "output_type": "display_data",
          "data": {
            "text/plain": [
              "<IPython.core.display.HTML object>"
            ],
            "text/html": [
              "\n",
              "  <style>\n",
              "    pre {\n",
              "        white-space: pre-wrap;\n",
              "    }\n",
              "  </style>\n",
              "  "
            ]
          },
          "metadata": {}
        },
        {
          "output_type": "stream",
          "name": "stderr",
          "text": [
            "[nltk_data] Downloading package punkt to /root/nltk_data...\n",
            "[nltk_data]   Package punkt is already up-to-date!\n",
            "[nltk_data] Downloading package punkt_tab to /root/nltk_data...\n",
            "[nltk_data]   Package punkt_tab is already up-to-date!\n",
            "[nltk_data] Downloading package stopwords to /root/nltk_data...\n",
            "[nltk_data]   Package stopwords is already up-to-date!\n"
          ]
        }
      ]
    },
    {
      "cell_type": "code",
      "source": [
        "nltk_tokens = word_tokenize(clean_text)\n",
        "print(nltk_tokens[:200])\n"
      ],
      "metadata": {
        "id": "a0VUnLkPU1op",
        "outputId": "8d384599-0c7e-4710-d76d-8a9164324b06",
        "colab": {
          "base_uri": "https://localhost:8080/",
          "height": 213
        }
      },
      "execution_count": 78,
      "outputs": [
        {
          "output_type": "display_data",
          "data": {
            "text/plain": [
              "<IPython.core.display.HTML object>"
            ],
            "text/html": [
              "\n",
              "  <style>\n",
              "    pre {\n",
              "        white-space: pre-wrap;\n",
              "    }\n",
              "  </style>\n",
              "  "
            ]
          },
          "metadata": {}
        },
        {
          "output_type": "display_data",
          "data": {
            "text/plain": [
              "<IPython.core.display.HTML object>"
            ],
            "text/html": [
              "\n",
              "  <style>\n",
              "    pre {\n",
              "        white-space: pre-wrap;\n",
              "    }\n",
              "  </style>\n",
              "  "
            ]
          },
          "metadata": {}
        },
        {
          "output_type": "stream",
          "name": "stdout",
          "text": [
            "['The', 'Project', 'Gutenberg', 'eBook', 'of', 'From', 'the', 'heart', 'of', 'a', 'friend', 'This', 'ebook', 'is', 'for', 'the', 'use', 'of', 'anyone', 'anywhere', 'in', 'the', 'United', 'States', 'and', 'most', 'other', 'parts', 'of', 'the', 'world', 'at', 'no', 'cost', 'and', 'with', 'almost', 'no', 'restrictions', 'whatsoever', '.', 'You', 'may', 'copy', 'it', ',', 'give', 'it', 'away', 'or', 're-use', 'it', 'under', 'the', 'terms', 'of', 'the', 'Project', 'Gutenberg', 'License', 'included', 'with', 'this', 'ebook', 'or', 'online', 'at', 'www.gutenberg.org', '.', 'If', 'you', 'are', 'not', 'located', 'in', 'the', 'United', 'States', ',', 'you', 'will', 'have', 'to', 'check', 'the', 'laws', 'of', 'the', 'country', 'where', 'you', 'are', 'located', 'before', 'using', 'this', 'eBook', '.', 'Title', ':', 'From', 'the', 'heart', 'of', 'a', 'friend', 'Compiler', ':', 'Amy', 'Addingley', 'Release', 'date', ':', 'January', '31', ',', '2025', '[', 'eBook', '#', '75263', ']', 'Language', ':', 'English', 'Original', 'publication', ':', 'New', 'York', ':', 'The', 'Platt', '&', 'amp', ';', 'Peck', 'Co', ',', '1910', 'Credits', ':', 'Peter', 'Becker', 'and', 'the', 'Online', 'Distributed', 'Proofreading', 'Team', 'at', 'https', ':', '//www.pgdp.net', '(', 'This', 'file', 'was', 'produced', 'from', 'images', 'generously', 'made', 'available', 'by', 'The', 'Internet', 'Archive', ')', '*', '*', '*', 'START', 'OF', 'THE', 'PROJECT', 'GUTENBERG', 'EBOOK', 'FROM', 'THE', 'HEART', 'OF', 'A', 'FRIEND', '*', '*', '*', 'From', 'the', 'Heart', 'of', 'a', 'Friend', 'Selected', 'By', 'AMY', 'ADDINGLEY', 'New', 'York', 'THE']\n"
          ]
        }
      ]
    },
    {
      "cell_type": "markdown",
      "source": [
        "## Remove punctuation"
      ],
      "metadata": {
        "id": "4bKgEB_KV9Iv"
      }
    },
    {
      "cell_type": "code",
      "source": [
        "punctuation = '''!\"#$%&'()*+,-./:;<=>?@[\\]^_`{|}~'''\n",
        "punctuation_list = list(punctuation)\n",
        "cleaned_tokens = [token for token in nltk_tokens if token not in punctuation_list]"
      ],
      "metadata": {
        "id": "uQWxAWQRU0Sn",
        "outputId": "709f0224-aee8-4a19-a209-2f079f244de0",
        "colab": {
          "base_uri": "https://localhost:8080/",
          "height": 17
        }
      },
      "execution_count": 79,
      "outputs": [
        {
          "output_type": "display_data",
          "data": {
            "text/plain": [
              "<IPython.core.display.HTML object>"
            ],
            "text/html": [
              "\n",
              "  <style>\n",
              "    pre {\n",
              "        white-space: pre-wrap;\n",
              "    }\n",
              "  </style>\n",
              "  "
            ]
          },
          "metadata": {}
        },
        {
          "output_type": "display_data",
          "data": {
            "text/plain": [
              "<IPython.core.display.HTML object>"
            ],
            "text/html": [
              "\n",
              "  <style>\n",
              "    pre {\n",
              "        white-space: pre-wrap;\n",
              "    }\n",
              "  </style>\n",
              "  "
            ]
          },
          "metadata": {}
        }
      ]
    },
    {
      "cell_type": "code",
      "source": [
        "from nltk.corpus import stopwords"
      ],
      "metadata": {
        "id": "h65ey7iAWdxB",
        "outputId": "bf7cde86-ec2a-48bb-d295-a7a641d4bf1e",
        "colab": {
          "base_uri": "https://localhost:8080/",
          "height": 17
        }
      },
      "execution_count": 80,
      "outputs": [
        {
          "output_type": "display_data",
          "data": {
            "text/plain": [
              "<IPython.core.display.HTML object>"
            ],
            "text/html": [
              "\n",
              "  <style>\n",
              "    pre {\n",
              "        white-space: pre-wrap;\n",
              "    }\n",
              "  </style>\n",
              "  "
            ]
          },
          "metadata": {}
        },
        {
          "output_type": "display_data",
          "data": {
            "text/plain": [
              "<IPython.core.display.HTML object>"
            ],
            "text/html": [
              "\n",
              "  <style>\n",
              "    pre {\n",
              "        white-space: pre-wrap;\n",
              "    }\n",
              "  </style>\n",
              "  "
            ]
          },
          "metadata": {}
        }
      ]
    },
    {
      "cell_type": "code",
      "source": [
        "stop_words = set(stopwords.words('english'))\n",
        "filtered_nltk_tokens = [token for token in cleaned_tokens if token.lower() not in stop_words]"
      ],
      "metadata": {
        "id": "kvNoswGVWCG9",
        "outputId": "60926115-29c3-41c1-f297-8512011cc8a9",
        "colab": {
          "base_uri": "https://localhost:8080/",
          "height": 17
        }
      },
      "execution_count": 81,
      "outputs": [
        {
          "output_type": "display_data",
          "data": {
            "text/plain": [
              "<IPython.core.display.HTML object>"
            ],
            "text/html": [
              "\n",
              "  <style>\n",
              "    pre {\n",
              "        white-space: pre-wrap;\n",
              "    }\n",
              "  </style>\n",
              "  "
            ]
          },
          "metadata": {}
        },
        {
          "output_type": "display_data",
          "data": {
            "text/plain": [
              "<IPython.core.display.HTML object>"
            ],
            "text/html": [
              "\n",
              "  <style>\n",
              "    pre {\n",
              "        white-space: pre-wrap;\n",
              "    }\n",
              "  </style>\n",
              "  "
            ]
          },
          "metadata": {}
        }
      ]
    },
    {
      "cell_type": "code",
      "source": [
        "print(filtered_nltk_tokens[:100])\n"
      ],
      "metadata": {
        "id": "8j6Ldhc6Wftt",
        "outputId": "14fdbd89-51f0-496a-859d-e87f9c1ffd25",
        "colab": {
          "base_uri": "https://localhost:8080/",
          "height": 142
        }
      },
      "execution_count": 82,
      "outputs": [
        {
          "output_type": "display_data",
          "data": {
            "text/plain": [
              "<IPython.core.display.HTML object>"
            ],
            "text/html": [
              "\n",
              "  <style>\n",
              "    pre {\n",
              "        white-space: pre-wrap;\n",
              "    }\n",
              "  </style>\n",
              "  "
            ]
          },
          "metadata": {}
        },
        {
          "output_type": "display_data",
          "data": {
            "text/plain": [
              "<IPython.core.display.HTML object>"
            ],
            "text/html": [
              "\n",
              "  <style>\n",
              "    pre {\n",
              "        white-space: pre-wrap;\n",
              "    }\n",
              "  </style>\n",
              "  "
            ]
          },
          "metadata": {}
        },
        {
          "output_type": "stream",
          "name": "stdout",
          "text": [
            "['Project', 'Gutenberg', 'eBook', 'heart', 'friend', 'ebook', 'use', 'anyone', 'anywhere', 'United', 'States', 'parts', 'world', 'cost', 'almost', 'restrictions', 'whatsoever', 'may', 'copy', 'give', 'away', 're-use', 'terms', 'Project', 'Gutenberg', 'License', 'included', 'ebook', 'online', 'www.gutenberg.org', 'located', 'United', 'States', 'check', 'laws', 'country', 'located', 'using', 'eBook', 'Title', 'heart', 'friend', 'Compiler', 'Amy', 'Addingley', 'Release', 'date', 'January', '31', '2025', 'eBook', '75263', 'Language', 'English', 'Original', 'publication', 'New', 'York', 'Platt', 'amp', 'Peck', 'Co', '1910', 'Credits', 'Peter', 'Becker', 'Online', 'Distributed', 'Proofreading', 'Team', 'https', '//www.pgdp.net', 'file', 'produced', 'images', 'generously', 'made', 'available', 'Internet', 'Archive', 'START', 'PROJECT', 'GUTENBERG', 'EBOOK', 'HEART', 'FRIEND', 'Heart', 'Friend', 'Selected', 'AMY', 'ADDINGLEY', 'New', 'York', 'PLATT', 'amp', 'PECK', 'CO', 'Copyright', '1910', 'PLATT']\n"
          ]
        }
      ]
    },
    {
      "cell_type": "code",
      "source": [
        "len(filtered_nltk_tokens)"
      ],
      "metadata": {
        "id": "I1XsusoZq7bv",
        "outputId": "a9025312-ee08-4986-8e27-f56c59a4f7a8",
        "colab": {
          "base_uri": "https://localhost:8080/",
          "height": 35
        }
      },
      "execution_count": 83,
      "outputs": [
        {
          "output_type": "display_data",
          "data": {
            "text/plain": [
              "<IPython.core.display.HTML object>"
            ],
            "text/html": [
              "\n",
              "  <style>\n",
              "    pre {\n",
              "        white-space: pre-wrap;\n",
              "    }\n",
              "  </style>\n",
              "  "
            ]
          },
          "metadata": {}
        },
        {
          "output_type": "display_data",
          "data": {
            "text/plain": [
              "<IPython.core.display.HTML object>"
            ],
            "text/html": [
              "\n",
              "  <style>\n",
              "    pre {\n",
              "        white-space: pre-wrap;\n",
              "    }\n",
              "  </style>\n",
              "  "
            ]
          },
          "metadata": {}
        },
        {
          "output_type": "execute_result",
          "data": {
            "text/plain": [
              "8079"
            ]
          },
          "metadata": {},
          "execution_count": 83
        }
      ]
    },
    {
      "cell_type": "code",
      "source": [
        "def check_punctuation_in_words(tokens):\n",
        "    pattern = r\"^[^\\w\\s]|[^a-zA-Z0-9\\s]$\"\n",
        "\n",
        "    words_with_punctuation = []\n",
        "    for token in tokens:\n",
        "        if re.search(pattern, token):\n",
        "          words_with_punctuation.append(token)\n",
        "    return words_with_punctuation\n",
        "\n",
        "words_with_punctuation = check_punctuation_in_words(filtered_nltk_tokens)\n",
        "print(words_with_punctuation[:100])\n"
      ],
      "metadata": {
        "id": "DTHYVqigW_1x",
        "outputId": "60f8b9e0-873f-4096-e7a3-deb3e291857f",
        "colab": {
          "base_uri": "https://localhost:8080/",
          "height": 142
        }
      },
      "execution_count": 84,
      "outputs": [
        {
          "output_type": "display_data",
          "data": {
            "text/plain": [
              "<IPython.core.display.HTML object>"
            ],
            "text/html": [
              "\n",
              "  <style>\n",
              "    pre {\n",
              "        white-space: pre-wrap;\n",
              "    }\n",
              "  </style>\n",
              "  "
            ]
          },
          "metadata": {}
        },
        {
          "output_type": "display_data",
          "data": {
            "text/plain": [
              "<IPython.core.display.HTML object>"
            ],
            "text/html": [
              "\n",
              "  <style>\n",
              "    pre {\n",
              "        white-space: pre-wrap;\n",
              "    }\n",
              "  </style>\n",
              "  "
            ]
          },
          "metadata": {}
        },
        {
          "output_type": "stream",
          "name": "stdout",
          "text": [
            "['//www.pgdp.net', '’', '’', '—Quarles', '—Landor', '’', '—Lytton', '—Seneca', '—Emerson', '—Napoleon', '—Jonson', '—Channing', '’', '—Byron', '—Farrar', '—Taylor', '—Alger', '’', '—Unknown', '—Washington', '—Lytton', '’', '—Mulock', '—Gold', '’', '’', '—Byron', '’', '’', '’', '—Holmes', '—Williams', '—Unknown', '—Richter', '’', '’', '—Adams', '—Taylor', '—Thoreau', '—Franklin', '—Lucanus', '—Seneca', '’', '—Philips', '—Stowe', '’', '’', '’', '—Anon', '—Unknown', '—Schiller', '’', '—Holmes', '—Sidney', '—Shakespeare', '’', '’', '’', '—Jonson', '—Bacon', '—Coleridge', '—Jonson', '—St', '—Montaigne', '—Taylor', '—Cicero', '—Addison', '’', '—Morris', '’', '’', '—Unknown', '—Watts', '—Shakespeare', '—Lavater', '’', '—Aeschylus', '—From', '—Cowper', '’', '—Browning', '—Keats', '—Emerson', '—Tennyson', '—Byron', '—Jonson', '—Hunt', '—Browne', '—Thoreau', '—Ouida', '—Lamb', '’', '—Cicero', '’', '—Brooks', '—Cicero', '—Arnold', '—Kingsley', '’', '—Scott']\n"
          ]
        }
      ]
    },
    {
      "cell_type": "code",
      "source": [
        "len(words_with_punctuation)"
      ],
      "metadata": {
        "id": "HYMAXeTfYBIL",
        "outputId": "1dd140be-f1ca-499a-e042-bc89ab0a41d4",
        "colab": {
          "base_uri": "https://localhost:8080/",
          "height": 35
        }
      },
      "execution_count": 85,
      "outputs": [
        {
          "output_type": "display_data",
          "data": {
            "text/plain": [
              "<IPython.core.display.HTML object>"
            ],
            "text/html": [
              "\n",
              "  <style>\n",
              "    pre {\n",
              "        white-space: pre-wrap;\n",
              "    }\n",
              "  </style>\n",
              "  "
            ]
          },
          "metadata": {}
        },
        {
          "output_type": "display_data",
          "data": {
            "text/plain": [
              "<IPython.core.display.HTML object>"
            ],
            "text/html": [
              "\n",
              "  <style>\n",
              "    pre {\n",
              "        white-space: pre-wrap;\n",
              "    }\n",
              "  </style>\n",
              "  "
            ]
          },
          "metadata": {}
        },
        {
          "output_type": "execute_result",
          "data": {
            "text/plain": [
              "562"
            ]
          },
          "metadata": {},
          "execution_count": 85
        }
      ]
    },
    {
      "cell_type": "markdown",
      "source": [
        "* i removed punctuations but i was unable to remove all of them.there are 569 words with punctuations attached with words."
      ],
      "metadata": {
        "id": "DxUYdRBFZL0i"
      }
    },
    {
      "cell_type": "markdown",
      "source": [
        "## stemming using nltk"
      ],
      "metadata": {
        "id": "OPqKPql4fsiR"
      }
    },
    {
      "cell_type": "code",
      "source": [
        "from nltk.stem import PorterStemmer\n",
        "porter = PorterStemmer()\n",
        "stemmed_tokens = [porter.stem(token) for token in filtered_nltk_tokens]\n",
        "print(stemmed_tokens[:50])\n"
      ],
      "metadata": {
        "id": "6mAOLAM3fsTi",
        "outputId": "bdc34526-b7a1-4dcf-ebdd-d3acfcebd71f",
        "colab": {
          "base_uri": "https://localhost:8080/",
          "height": 88
        }
      },
      "execution_count": 86,
      "outputs": [
        {
          "output_type": "display_data",
          "data": {
            "text/plain": [
              "<IPython.core.display.HTML object>"
            ],
            "text/html": [
              "\n",
              "  <style>\n",
              "    pre {\n",
              "        white-space: pre-wrap;\n",
              "    }\n",
              "  </style>\n",
              "  "
            ]
          },
          "metadata": {}
        },
        {
          "output_type": "display_data",
          "data": {
            "text/plain": [
              "<IPython.core.display.HTML object>"
            ],
            "text/html": [
              "\n",
              "  <style>\n",
              "    pre {\n",
              "        white-space: pre-wrap;\n",
              "    }\n",
              "  </style>\n",
              "  "
            ]
          },
          "metadata": {}
        },
        {
          "output_type": "stream",
          "name": "stdout",
          "text": [
            "['project', 'gutenberg', 'ebook', 'heart', 'friend', 'ebook', 'use', 'anyon', 'anywher', 'unit', 'state', 'part', 'world', 'cost', 'almost', 'restrict', 'whatsoev', 'may', 'copi', 'give', 'away', 're-us', 'term', 'project', 'gutenberg', 'licens', 'includ', 'ebook', 'onlin', 'www.gutenberg.org', 'locat', 'unit', 'state', 'check', 'law', 'countri', 'locat', 'use', 'ebook', 'titl', 'heart', 'friend', 'compil', 'ami', 'addingley', 'releas', 'date', 'januari', '31', '2025']\n"
          ]
        }
      ]
    },
    {
      "cell_type": "markdown",
      "source": [
        "## lemmatization using nltk"
      ],
      "metadata": {
        "id": "9AO7lsvkgP5U"
      }
    },
    {
      "cell_type": "code",
      "source": [
        "from nltk.stem import WordNetLemmatizer\n",
        "nltk.download('wordnet')\n",
        "nltk.download('omw-1.4')"
      ],
      "metadata": {
        "id": "3Xk73ckygo1J",
        "outputId": "4cc1d11a-7857-4882-8c99-dc5e48d4b710",
        "colab": {
          "base_uri": "https://localhost:8080/",
          "height": 106
        }
      },
      "execution_count": 87,
      "outputs": [
        {
          "output_type": "display_data",
          "data": {
            "text/plain": [
              "<IPython.core.display.HTML object>"
            ],
            "text/html": [
              "\n",
              "  <style>\n",
              "    pre {\n",
              "        white-space: pre-wrap;\n",
              "    }\n",
              "  </style>\n",
              "  "
            ]
          },
          "metadata": {}
        },
        {
          "output_type": "display_data",
          "data": {
            "text/plain": [
              "<IPython.core.display.HTML object>"
            ],
            "text/html": [
              "\n",
              "  <style>\n",
              "    pre {\n",
              "        white-space: pre-wrap;\n",
              "    }\n",
              "  </style>\n",
              "  "
            ]
          },
          "metadata": {}
        },
        {
          "output_type": "stream",
          "name": "stderr",
          "text": [
            "[nltk_data] Downloading package wordnet to /root/nltk_data...\n",
            "[nltk_data]   Package wordnet is already up-to-date!\n",
            "[nltk_data] Downloading package omw-1.4 to /root/nltk_data...\n",
            "[nltk_data]   Package omw-1.4 is already up-to-date!\n"
          ]
        },
        {
          "output_type": "execute_result",
          "data": {
            "text/plain": [
              "True"
            ]
          },
          "metadata": {},
          "execution_count": 87
        }
      ]
    },
    {
      "cell_type": "code",
      "source": [
        "lemmatizer = WordNetLemmatizer()\n",
        "lemmatized_tokens = [lemmatizer.lemmatize(token) for token in filtered_nltk_tokens]\n",
        "print(lemmatized_tokens[:100])"
      ],
      "metadata": {
        "id": "Tiit6Ap-gaBt",
        "outputId": "67a7c738-aefb-4df6-edc8-18ddc88ec8e7",
        "colab": {
          "base_uri": "https://localhost:8080/",
          "height": 142
        }
      },
      "execution_count": 88,
      "outputs": [
        {
          "output_type": "display_data",
          "data": {
            "text/plain": [
              "<IPython.core.display.HTML object>"
            ],
            "text/html": [
              "\n",
              "  <style>\n",
              "    pre {\n",
              "        white-space: pre-wrap;\n",
              "    }\n",
              "  </style>\n",
              "  "
            ]
          },
          "metadata": {}
        },
        {
          "output_type": "display_data",
          "data": {
            "text/plain": [
              "<IPython.core.display.HTML object>"
            ],
            "text/html": [
              "\n",
              "  <style>\n",
              "    pre {\n",
              "        white-space: pre-wrap;\n",
              "    }\n",
              "  </style>\n",
              "  "
            ]
          },
          "metadata": {}
        },
        {
          "output_type": "stream",
          "name": "stdout",
          "text": [
            "['Project', 'Gutenberg', 'eBook', 'heart', 'friend', 'ebook', 'use', 'anyone', 'anywhere', 'United', 'States', 'part', 'world', 'cost', 'almost', 'restriction', 'whatsoever', 'may', 'copy', 'give', 'away', 're-use', 'term', 'Project', 'Gutenberg', 'License', 'included', 'ebook', 'online', 'www.gutenberg.org', 'located', 'United', 'States', 'check', 'law', 'country', 'located', 'using', 'eBook', 'Title', 'heart', 'friend', 'Compiler', 'Amy', 'Addingley', 'Release', 'date', 'January', '31', '2025', 'eBook', '75263', 'Language', 'English', 'Original', 'publication', 'New', 'York', 'Platt', 'amp', 'Peck', 'Co', '1910', 'Credits', 'Peter', 'Becker', 'Online', 'Distributed', 'Proofreading', 'Team', 'http', '//www.pgdp.net', 'file', 'produced', 'image', 'generously', 'made', 'available', 'Internet', 'Archive', 'START', 'PROJECT', 'GUTENBERG', 'EBOOK', 'HEART', 'FRIEND', 'Heart', 'Friend', 'Selected', 'AMY', 'ADDINGLEY', 'New', 'York', 'PLATT', 'amp', 'PECK', 'CO', 'Copyright', '1910', 'PLATT']\n"
          ]
        }
      ]
    },
    {
      "cell_type": "markdown",
      "source": [
        "# Tokenization using spacy"
      ],
      "metadata": {
        "id": "SJovH3_AZmTW"
      }
    },
    {
      "cell_type": "code",
      "source": [
        "import spacy"
      ],
      "metadata": {
        "id": "FAjQvSZJZkpY",
        "outputId": "b057df6d-9a24-4f8f-d72c-768b06c403f8",
        "colab": {
          "base_uri": "https://localhost:8080/",
          "height": 17
        }
      },
      "execution_count": 89,
      "outputs": [
        {
          "output_type": "display_data",
          "data": {
            "text/plain": [
              "<IPython.core.display.HTML object>"
            ],
            "text/html": [
              "\n",
              "  <style>\n",
              "    pre {\n",
              "        white-space: pre-wrap;\n",
              "    }\n",
              "  </style>\n",
              "  "
            ]
          },
          "metadata": {}
        },
        {
          "output_type": "display_data",
          "data": {
            "text/plain": [
              "<IPython.core.display.HTML object>"
            ],
            "text/html": [
              "\n",
              "  <style>\n",
              "    pre {\n",
              "        white-space: pre-wrap;\n",
              "    }\n",
              "  </style>\n",
              "  "
            ]
          },
          "metadata": {}
        }
      ]
    },
    {
      "cell_type": "code",
      "source": [
        "nlp = spacy.load(\"en_core_web_sm\")\n",
        "doc = nlp(clean_text)\n",
        "doc[:50]"
      ],
      "metadata": {
        "id": "NYZDdIRRZjAp",
        "outputId": "5e7fd598-cfd1-4066-9fe9-1281224c934f",
        "colab": {
          "base_uri": "https://localhost:8080/",
          "height": 124
        }
      },
      "execution_count": 90,
      "outputs": [
        {
          "output_type": "display_data",
          "data": {
            "text/plain": [
              "<IPython.core.display.HTML object>"
            ],
            "text/html": [
              "\n",
              "  <style>\n",
              "    pre {\n",
              "        white-space: pre-wrap;\n",
              "    }\n",
              "  </style>\n",
              "  "
            ]
          },
          "metadata": {}
        },
        {
          "output_type": "display_data",
          "data": {
            "text/plain": [
              "<IPython.core.display.HTML object>"
            ],
            "text/html": [
              "\n",
              "  <style>\n",
              "    pre {\n",
              "        white-space: pre-wrap;\n",
              "    }\n",
              "  </style>\n",
              "  "
            ]
          },
          "metadata": {}
        },
        {
          "output_type": "stream",
          "name": "stderr",
          "text": [
            "/usr/local/lib/python3.11/dist-packages/spacy/util.py:1740: UserWarning: [W111] Jupyter notebook detected: if using `prefer_gpu()` or `require_gpu()`, include it in the same cell right before `spacy.load()` to ensure that the model is loaded on the correct device. More information: http://spacy.io/usage/v3#jupyter-notebook-gpu\n",
            "  warnings.warn(Warnings.W111)\n"
          ]
        },
        {
          "output_type": "execute_result",
          "data": {
            "text/plain": [
              "The Project Gutenberg eBook of From the heart of a friend This ebook is for the use of anyone anywhere in the United States and most other parts of the world at no cost and with almost no restrictions whatsoever. You may copy it, give it away or"
            ]
          },
          "metadata": {},
          "execution_count": 90
        }
      ]
    },
    {
      "cell_type": "code",
      "source": [
        "tokens_spacy = [token.text for token in doc if token.is_alpha and not token.is_stop]"
      ],
      "metadata": {
        "id": "FkrCcoXta3jS",
        "outputId": "9acbacea-9be6-4fa9-e5ce-0eaed91db0d2",
        "colab": {
          "base_uri": "https://localhost:8080/",
          "height": 17
        }
      },
      "execution_count": 91,
      "outputs": [
        {
          "output_type": "display_data",
          "data": {
            "text/plain": [
              "<IPython.core.display.HTML object>"
            ],
            "text/html": [
              "\n",
              "  <style>\n",
              "    pre {\n",
              "        white-space: pre-wrap;\n",
              "    }\n",
              "  </style>\n",
              "  "
            ]
          },
          "metadata": {}
        },
        {
          "output_type": "display_data",
          "data": {
            "text/plain": [
              "<IPython.core.display.HTML object>"
            ],
            "text/html": [
              "\n",
              "  <style>\n",
              "    pre {\n",
              "        white-space: pre-wrap;\n",
              "    }\n",
              "  </style>\n",
              "  "
            ]
          },
          "metadata": {}
        }
      ]
    },
    {
      "cell_type": "code",
      "source": [
        "tokens_spacy[:30]"
      ],
      "metadata": {
        "id": "b8hZ92tla5vq",
        "outputId": "21a48dcc-2892-47a7-a7fa-4174b1404f2a",
        "colab": {
          "base_uri": "https://localhost:8080/",
          "height": 553
        }
      },
      "execution_count": 92,
      "outputs": [
        {
          "output_type": "display_data",
          "data": {
            "text/plain": [
              "<IPython.core.display.HTML object>"
            ],
            "text/html": [
              "\n",
              "  <style>\n",
              "    pre {\n",
              "        white-space: pre-wrap;\n",
              "    }\n",
              "  </style>\n",
              "  "
            ]
          },
          "metadata": {}
        },
        {
          "output_type": "display_data",
          "data": {
            "text/plain": [
              "<IPython.core.display.HTML object>"
            ],
            "text/html": [
              "\n",
              "  <style>\n",
              "    pre {\n",
              "        white-space: pre-wrap;\n",
              "    }\n",
              "  </style>\n",
              "  "
            ]
          },
          "metadata": {}
        },
        {
          "output_type": "execute_result",
          "data": {
            "text/plain": [
              "['Project',\n",
              " 'Gutenberg',\n",
              " 'eBook',\n",
              " 'heart',\n",
              " 'friend',\n",
              " 'ebook',\n",
              " 'use',\n",
              " 'United',\n",
              " 'States',\n",
              " 'parts',\n",
              " 'world',\n",
              " 'cost',\n",
              " 'restrictions',\n",
              " 'whatsoever',\n",
              " 'copy',\n",
              " 'away',\n",
              " 'use',\n",
              " 'terms',\n",
              " 'Project',\n",
              " 'Gutenberg',\n",
              " 'License',\n",
              " 'included',\n",
              " 'ebook',\n",
              " 'online',\n",
              " 'located',\n",
              " 'United',\n",
              " 'States',\n",
              " 'check',\n",
              " 'laws',\n",
              " 'country']"
            ]
          },
          "metadata": {},
          "execution_count": 92
        }
      ]
    },
    {
      "cell_type": "code",
      "source": [
        "words_with_punctuation_spacy = check_punctuation_in_words(tokens_spacy)\n",
        "words_with_punctuation_spacy[:50]"
      ],
      "metadata": {
        "id": "xONBwSH0a7q4",
        "outputId": "5a81bdcb-a2a0-4b93-a732-431559f85de0",
        "colab": {
          "base_uri": "https://localhost:8080/",
          "height": 35
        }
      },
      "execution_count": 93,
      "outputs": [
        {
          "output_type": "display_data",
          "data": {
            "text/plain": [
              "<IPython.core.display.HTML object>"
            ],
            "text/html": [
              "\n",
              "  <style>\n",
              "    pre {\n",
              "        white-space: pre-wrap;\n",
              "    }\n",
              "  </style>\n",
              "  "
            ]
          },
          "metadata": {}
        },
        {
          "output_type": "display_data",
          "data": {
            "text/plain": [
              "<IPython.core.display.HTML object>"
            ],
            "text/html": [
              "\n",
              "  <style>\n",
              "    pre {\n",
              "        white-space: pre-wrap;\n",
              "    }\n",
              "  </style>\n",
              "  "
            ]
          },
          "metadata": {}
        },
        {
          "output_type": "execute_result",
          "data": {
            "text/plain": [
              "[]"
            ]
          },
          "metadata": {},
          "execution_count": 93
        }
      ]
    },
    {
      "cell_type": "code",
      "source": [
        "len(words_with_punctuation_spacy)"
      ],
      "metadata": {
        "id": "v5ZEpiD7bX0F",
        "outputId": "35c7c1e4-bfd4-49e6-9f5b-fe0e0938fc74",
        "colab": {
          "base_uri": "https://localhost:8080/",
          "height": 35
        }
      },
      "execution_count": 94,
      "outputs": [
        {
          "output_type": "display_data",
          "data": {
            "text/plain": [
              "<IPython.core.display.HTML object>"
            ],
            "text/html": [
              "\n",
              "  <style>\n",
              "    pre {\n",
              "        white-space: pre-wrap;\n",
              "    }\n",
              "  </style>\n",
              "  "
            ]
          },
          "metadata": {}
        },
        {
          "output_type": "display_data",
          "data": {
            "text/plain": [
              "<IPython.core.display.HTML object>"
            ],
            "text/html": [
              "\n",
              "  <style>\n",
              "    pre {\n",
              "        white-space: pre-wrap;\n",
              "    }\n",
              "  </style>\n",
              "  "
            ]
          },
          "metadata": {}
        },
        {
          "output_type": "execute_result",
          "data": {
            "text/plain": [
              "0"
            ]
          },
          "metadata": {},
          "execution_count": 94
        }
      ]
    },
    {
      "cell_type": "markdown",
      "source": [
        "## stemimng using spacy"
      ],
      "metadata": {
        "id": "8rFWjltxhJFM"
      }
    },
    {
      "cell_type": "code",
      "source": [
        "stemmed_tokens_spacy = [token.lemma_ for token in doc if token.is_alpha and not token.is_stop]\n",
        "print(stemmed_tokens_spacy[:100])\n"
      ],
      "metadata": {
        "id": "MHj4IH3Og1TU",
        "outputId": "562d4c86-adf7-4388-ea28-e95e08d51e19",
        "colab": {
          "base_uri": "https://localhost:8080/",
          "height": 142
        }
      },
      "execution_count": 95,
      "outputs": [
        {
          "output_type": "display_data",
          "data": {
            "text/plain": [
              "<IPython.core.display.HTML object>"
            ],
            "text/html": [
              "\n",
              "  <style>\n",
              "    pre {\n",
              "        white-space: pre-wrap;\n",
              "    }\n",
              "  </style>\n",
              "  "
            ]
          },
          "metadata": {}
        },
        {
          "output_type": "display_data",
          "data": {
            "text/plain": [
              "<IPython.core.display.HTML object>"
            ],
            "text/html": [
              "\n",
              "  <style>\n",
              "    pre {\n",
              "        white-space: pre-wrap;\n",
              "    }\n",
              "  </style>\n",
              "  "
            ]
          },
          "metadata": {}
        },
        {
          "output_type": "stream",
          "name": "stdout",
          "text": [
            "['Project', 'Gutenberg', 'eBook', 'heart', 'friend', 'ebook', 'use', 'United', 'States', 'part', 'world', 'cost', 'restriction', 'whatsoever', 'copy', 'away', 'use', 'term', 'Project', 'Gutenberg', 'License', 'include', 'ebook', 'online', 'locate', 'United', 'States', 'check', 'law', 'country', 'locate', 'eBook', 'title', 'heart', 'friend', 'Compiler', 'Amy', 'Addingley', 'Release', 'date', 'January', 'ebook', 'language', 'English', 'original', 'publication', 'New', 'York', 'Platt', 'amp', 'Peck', 'Co', 'credit', 'Peter', 'Becker', 'Online', 'distribute', 'Proofreading', 'Team', 'file', 'produce', 'image', 'generously', 'available', 'Internet', 'Archive', 'start', 'PROJECT', 'GUTENBERG', 'EBOOK', 'heart', 'FRIEND', 'Heart', 'Friend', 'select', 'AMY', 'ADDINGLEY', 'New', 'York', 'PLATT', 'amp', 'peck', 'CO', 'Copyright', 'PLATT', 'amp', 'peck', 'COMPANY', 'PREFACE', 'FRIEND', 'quicken', 'pulse', 'warm', 'heart', 'beautiful', 'relationship', 'human', 'intercourse', 'friendship', 'easy']\n"
          ]
        }
      ]
    },
    {
      "cell_type": "markdown",
      "source": [
        "## lemmatization using spacy"
      ],
      "metadata": {
        "id": "keYAIaYeimp0"
      }
    },
    {
      "cell_type": "code",
      "source": [
        "text = \" \".join(tokens_spacy)\n",
        "doc = nlp(text)\n",
        "lemmatized_tokens = [token.lemma_ for token in doc]\n",
        "print(lemmatized_tokens[:100])\n"
      ],
      "metadata": {
        "id": "LE73R7hDhHQ7",
        "outputId": "e71648c3-b7a6-4292-f002-f9a9cecc2366",
        "colab": {
          "base_uri": "https://localhost:8080/",
          "height": 142
        }
      },
      "execution_count": 96,
      "outputs": [
        {
          "output_type": "display_data",
          "data": {
            "text/plain": [
              "<IPython.core.display.HTML object>"
            ],
            "text/html": [
              "\n",
              "  <style>\n",
              "    pre {\n",
              "        white-space: pre-wrap;\n",
              "    }\n",
              "  </style>\n",
              "  "
            ]
          },
          "metadata": {}
        },
        {
          "output_type": "display_data",
          "data": {
            "text/plain": [
              "<IPython.core.display.HTML object>"
            ],
            "text/html": [
              "\n",
              "  <style>\n",
              "    pre {\n",
              "        white-space: pre-wrap;\n",
              "    }\n",
              "  </style>\n",
              "  "
            ]
          },
          "metadata": {}
        },
        {
          "output_type": "stream",
          "name": "stdout",
          "text": [
            "['Project', 'Gutenberg', 'eBook', 'heart', 'friend', 'ebook', 'use', 'United', 'States', 'part', 'world', 'cost', 'restriction', 'whatsoever', 'copy', 'away', 'use', 'term', 'Project', 'Gutenberg', 'License', 'include', 'ebook', 'online', 'locate', 'United', 'States', 'check', 'law', 'country', 'locate', 'eBook', 'Title', 'heart', 'friend', 'Compiler', 'Amy', 'Addingley', 'Release', 'date', 'January', 'eBook', 'Language', 'English', 'Original', 'publication', 'New', 'York', 'Platt', 'amp', 'Peck', 'Co', 'Credits', 'Peter', 'Becker', 'Online', 'distribute', 'Proofreading', 'Team', 'file', 'produce', 'image', 'generously', 'available', 'Internet', 'Archive', 'START', 'PROJECT', 'GUTENBERG', 'EBOOK', 'HEART', 'FRIEND', 'Heart', 'Friend', 'Selected', 'AMY', 'ADDINGLEY', 'New', 'York', 'PLATT', 'amp', 'peck', 'CO', 'Copyright', 'PLATT', 'amp', 'peck', 'COMPANY', 'PREFACE', 'FRIEND', 'quicken', 'pulse', 'warm', 'heart', 'beautiful', 'relationship', 'human', 'intercourse', 'friendship', 'easiest']\n"
          ]
        }
      ]
    },
    {
      "cell_type": "markdown",
      "source": [
        "## tokenization using keras"
      ],
      "metadata": {
        "id": "-uPVSezjgxkR"
      }
    },
    {
      "cell_type": "code",
      "source": [
        "import tensorflow as tf\n",
        "from tensorflow import keras\n",
        "from tensorflow.keras.preprocessing.text import Tokenizer"
      ],
      "metadata": {
        "id": "LkdTmRSTb5Q5",
        "outputId": "693d05f7-5c7e-4a65-821b-a1689a38baf1",
        "colab": {
          "base_uri": "https://localhost:8080/",
          "height": 17
        }
      },
      "execution_count": 97,
      "outputs": [
        {
          "output_type": "display_data",
          "data": {
            "text/plain": [
              "<IPython.core.display.HTML object>"
            ],
            "text/html": [
              "\n",
              "  <style>\n",
              "    pre {\n",
              "        white-space: pre-wrap;\n",
              "    }\n",
              "  </style>\n",
              "  "
            ]
          },
          "metadata": {}
        },
        {
          "output_type": "display_data",
          "data": {
            "text/plain": [
              "<IPython.core.display.HTML object>"
            ],
            "text/html": [
              "\n",
              "  <style>\n",
              "    pre {\n",
              "        white-space: pre-wrap;\n",
              "    }\n",
              "  </style>\n",
              "  "
            ]
          },
          "metadata": {}
        }
      ]
    },
    {
      "cell_type": "code",
      "source": [
        "tokenizer = Tokenizer(oov_token=\"<OOV>\")\n",
        "tokenizer.fit_on_texts([clean_text])\n",
        "word_index = tokenizer.word_index\n",
        "sequences = tokenizer.texts_to_sequences([clean_text])[0]\n",
        "print(\"First 20 tokens (as integers):\", sequences[:20])\n",
        "print(\"\\nWord index (first 10 words):\", list(word_index.items())[:10])"
      ],
      "metadata": {
        "id": "jwkd5UrAcOZu",
        "outputId": "35e39ad7-7f48-4861-cdac-4aa9f313d247",
        "colab": {
          "base_uri": "https://localhost:8080/",
          "height": 71
        }
      },
      "execution_count": 98,
      "outputs": [
        {
          "output_type": "display_data",
          "data": {
            "text/plain": [
              "<IPython.core.display.HTML object>"
            ],
            "text/html": [
              "\n",
              "  <style>\n",
              "    pre {\n",
              "        white-space: pre-wrap;\n",
              "    }\n",
              "  </style>\n",
              "  "
            ]
          },
          "metadata": {}
        },
        {
          "output_type": "display_data",
          "data": {
            "text/plain": [
              "<IPython.core.display.HTML object>"
            ],
            "text/html": [
              "\n",
              "  <style>\n",
              "    pre {\n",
              "        white-space: pre-wrap;\n",
              "    }\n",
              "  </style>\n",
              "  "
            ]
          },
          "metadata": {}
        },
        {
          "output_type": "stream",
          "name": "stdout",
          "text": [
            "First 20 tokens (as integers): [2, 28, 66, 151, 3, 33, 2, 58, 3, 6, 9, 30, 151, 7, 16, 2, 107, 3, 349, 776]\n",
            "\n",
            "Word index (first 10 words): [('<OOV>', 1), ('the', 2), ('of', 3), ('and', 4), ('to', 5), ('a', 6), ('is', 7), ('in', 8), ('friend', 9), ('with', 10)]\n"
          ]
        }
      ]
    },
    {
      "cell_type": "code",
      "source": [
        "words_list = list(tokenizer.word_index.keys())"
      ],
      "metadata": {
        "id": "Ch2W-of1ctOA",
        "outputId": "917f82f9-20f1-4df4-8a5c-43426d6324b8",
        "colab": {
          "base_uri": "https://localhost:8080/",
          "height": 17
        }
      },
      "execution_count": 99,
      "outputs": [
        {
          "output_type": "display_data",
          "data": {
            "text/plain": [
              "<IPython.core.display.HTML object>"
            ],
            "text/html": [
              "\n",
              "  <style>\n",
              "    pre {\n",
              "        white-space: pre-wrap;\n",
              "    }\n",
              "  </style>\n",
              "  "
            ]
          },
          "metadata": {}
        },
        {
          "output_type": "display_data",
          "data": {
            "text/plain": [
              "<IPython.core.display.HTML object>"
            ],
            "text/html": [
              "\n",
              "  <style>\n",
              "    pre {\n",
              "        white-space: pre-wrap;\n",
              "    }\n",
              "  </style>\n",
              "  "
            ]
          },
          "metadata": {}
        }
      ]
    },
    {
      "cell_type": "code",
      "source": [
        "len(words_list)"
      ],
      "metadata": {
        "id": "EKKWKMrkptA5",
        "outputId": "7c614a78-b22e-47f6-f9b6-11b3b0a065d0",
        "colab": {
          "base_uri": "https://localhost:8080/",
          "height": 35
        }
      },
      "execution_count": 100,
      "outputs": [
        {
          "output_type": "display_data",
          "data": {
            "text/plain": [
              "<IPython.core.display.HTML object>"
            ],
            "text/html": [
              "\n",
              "  <style>\n",
              "    pre {\n",
              "        white-space: pre-wrap;\n",
              "    }\n",
              "  </style>\n",
              "  "
            ]
          },
          "metadata": {}
        },
        {
          "output_type": "display_data",
          "data": {
            "text/plain": [
              "<IPython.core.display.HTML object>"
            ],
            "text/html": [
              "\n",
              "  <style>\n",
              "    pre {\n",
              "        white-space: pre-wrap;\n",
              "    }\n",
              "  </style>\n",
              "  "
            ]
          },
          "metadata": {}
        },
        {
          "output_type": "execute_result",
          "data": {
            "text/plain": [
              "3237"
            ]
          },
          "metadata": {},
          "execution_count": 100
        }
      ]
    },
    {
      "cell_type": "markdown",
      "source": [
        "## remove stopwords"
      ],
      "metadata": {
        "id": "E2LAxlBXp5pA"
      }
    },
    {
      "cell_type": "code",
      "source": [
        "words_list = [word for word in words_list if word.lower() not in stop_words]"
      ],
      "metadata": {
        "id": "jXWx9gIzpvEh",
        "outputId": "b06c603f-38fd-4225-d996-fb105ae2139e",
        "colab": {
          "base_uri": "https://localhost:8080/",
          "height": 17
        }
      },
      "execution_count": 101,
      "outputs": [
        {
          "output_type": "display_data",
          "data": {
            "text/plain": [
              "<IPython.core.display.HTML object>"
            ],
            "text/html": [
              "\n",
              "  <style>\n",
              "    pre {\n",
              "        white-space: pre-wrap;\n",
              "    }\n",
              "  </style>\n",
              "  "
            ]
          },
          "metadata": {}
        },
        {
          "output_type": "display_data",
          "data": {
            "text/plain": [
              "<IPython.core.display.HTML object>"
            ],
            "text/html": [
              "\n",
              "  <style>\n",
              "    pre {\n",
              "        white-space: pre-wrap;\n",
              "    }\n",
              "  </style>\n",
              "  "
            ]
          },
          "metadata": {}
        }
      ]
    },
    {
      "cell_type": "code",
      "source": [
        "len(words_list)"
      ],
      "metadata": {
        "id": "yxAEo6CEp3Da",
        "outputId": "6eb941fd-be8b-4814-c18d-637747535bc9",
        "colab": {
          "base_uri": "https://localhost:8080/",
          "height": 35
        }
      },
      "execution_count": 102,
      "outputs": [
        {
          "output_type": "display_data",
          "data": {
            "text/plain": [
              "<IPython.core.display.HTML object>"
            ],
            "text/html": [
              "\n",
              "  <style>\n",
              "    pre {\n",
              "        white-space: pre-wrap;\n",
              "    }\n",
              "  </style>\n",
              "  "
            ]
          },
          "metadata": {}
        },
        {
          "output_type": "display_data",
          "data": {
            "text/plain": [
              "<IPython.core.display.HTML object>"
            ],
            "text/html": [
              "\n",
              "  <style>\n",
              "    pre {\n",
              "        white-space: pre-wrap;\n",
              "    }\n",
              "  </style>\n",
              "  "
            ]
          },
          "metadata": {}
        },
        {
          "output_type": "execute_result",
          "data": {
            "text/plain": [
              "3114"
            ]
          },
          "metadata": {},
          "execution_count": 102
        }
      ]
    },
    {
      "cell_type": "markdown",
      "source": [
        "## keras handles puntuations by default"
      ],
      "metadata": {
        "id": "pe_VSpUNdB1m"
      }
    },
    {
      "cell_type": "code",
      "source": [
        "print(words_list[:50])"
      ],
      "metadata": {
        "id": "93neV6hMcwrf",
        "outputId": "8b596675-86ce-44ee-f038-ede6e6cf4de3",
        "colab": {
          "base_uri": "https://localhost:8080/",
          "height": 88
        }
      },
      "execution_count": 103,
      "outputs": [
        {
          "output_type": "display_data",
          "data": {
            "text/plain": [
              "<IPython.core.display.HTML object>"
            ],
            "text/html": [
              "\n",
              "  <style>\n",
              "    pre {\n",
              "        white-space: pre-wrap;\n",
              "    }\n",
              "  </style>\n",
              "  "
            ]
          },
          "metadata": {}
        },
        {
          "output_type": "display_data",
          "data": {
            "text/plain": [
              "<IPython.core.display.HTML object>"
            ],
            "text/html": [
              "\n",
              "  <style>\n",
              "    pre {\n",
              "        white-space: pre-wrap;\n",
              "    }\n",
              "  </style>\n",
              "  "
            ]
          },
          "metadata": {}
        },
        {
          "output_type": "stream",
          "name": "stdout",
          "text": [
            "['<OOV>', 'friend', 'friendship', 'love', 'friends', 'project', 'one', 'gutenberg™', 'may', '1', 'work', 'heart', 'thy', 'man', 'old', 'like', 'gutenberg', 'true', 'works', 'good', 'us', 'never', 'must', 'thee', 'life', 'electronic', 'every', 'make', 'shall', 'without', 'e', 'world', 'terms', 'sweet', 'thou', 'copyright', 'foundation', 'new', 'many', 'best', 'whose', 'use', 'states', 'would', 'say', '—shakespeare', 'agreement', 'license', 'come', 'full']\n"
          ]
        }
      ]
    },
    {
      "cell_type": "code",
      "source": [
        "words_with_punctuation_keras=check_punctuation_in_words(words_list)\n",
        "print(words_with_punctuation_keras[:50])"
      ],
      "metadata": {
        "id": "yaw7bkLScyuJ",
        "outputId": "c41a33ba-fb68-4552-97eb-c16d71aa2c16",
        "colab": {
          "base_uri": "https://localhost:8080/",
          "height": 88
        }
      },
      "execution_count": 104,
      "outputs": [
        {
          "output_type": "display_data",
          "data": {
            "text/plain": [
              "<IPython.core.display.HTML object>"
            ],
            "text/html": [
              "\n",
              "  <style>\n",
              "    pre {\n",
              "        white-space: pre-wrap;\n",
              "    }\n",
              "  </style>\n",
              "  "
            ]
          },
          "metadata": {}
        },
        {
          "output_type": "display_data",
          "data": {
            "text/plain": [
              "<IPython.core.display.HTML object>"
            ],
            "text/html": [
              "\n",
              "  <style>\n",
              "    pre {\n",
              "        white-space: pre-wrap;\n",
              "    }\n",
              "  </style>\n",
              "  "
            ]
          },
          "metadata": {}
        },
        {
          "output_type": "stream",
          "name": "stdout",
          "text": [
            "['<OOV>', 'gutenberg™', '—shakespeare', '—unknown', '”', '—emerson', '—tennyson', '—jonson', '—thoreau', '’tis', '—longfellow', '—lytton', '—seneca', '—cicero', '“project', 'gutenberg”', '—byron', '—taylor', '—holmes', '—arnold', '—eliot', '—a', '—', 'together—', '•', '—philips', '—schiller', '—coleridge', '—ouida', '—landor', '—alger', '—anon', '—st', '—montaigne', '—lavater', '—brooks', '—macdonald', '—stevenson', 'blue—', '—smith', '—hale', '—lowell', '—wycherley', '“we', '—robertson', '—holland', '—drummond', 'it—', '—meredith', '—pollok']\n"
          ]
        }
      ]
    },
    {
      "cell_type": "code",
      "source": [
        "len(words_with_punctuation_keras)"
      ],
      "metadata": {
        "id": "FY0H_ceXdKkz",
        "outputId": "969cd70c-1933-44b7-9287-eb1438bcfef3",
        "colab": {
          "base_uri": "https://localhost:8080/",
          "height": 35
        }
      },
      "execution_count": 105,
      "outputs": [
        {
          "output_type": "display_data",
          "data": {
            "text/plain": [
              "<IPython.core.display.HTML object>"
            ],
            "text/html": [
              "\n",
              "  <style>\n",
              "    pre {\n",
              "        white-space: pre-wrap;\n",
              "    }\n",
              "  </style>\n",
              "  "
            ]
          },
          "metadata": {}
        },
        {
          "output_type": "display_data",
          "data": {
            "text/plain": [
              "<IPython.core.display.HTML object>"
            ],
            "text/html": [
              "\n",
              "  <style>\n",
              "    pre {\n",
              "        white-space: pre-wrap;\n",
              "    }\n",
              "  </style>\n",
              "  "
            ]
          },
          "metadata": {}
        },
        {
          "output_type": "execute_result",
          "data": {
            "text/plain": [
              "202"
            ]
          },
          "metadata": {},
          "execution_count": 105
        }
      ]
    },
    {
      "cell_type": "markdown",
      "source": [
        "## keras tokenizer has succesfully reduced words with punctuation better than spacy,nltk."
      ],
      "metadata": {
        "id": "hoUyJT6AdSA9"
      }
    },
    {
      "cell_type": "markdown",
      "source": [
        "## stemmming after tokenization using keras"
      ],
      "metadata": {
        "id": "nYoHG0IyjrJs"
      }
    },
    {
      "cell_type": "code",
      "source": [
        "porter = PorterStemmer()\n",
        "stemmed_tokens = [porter.stem(token) for token in words_list]\n",
        "print(stemmed_tokens[:50])"
      ],
      "metadata": {
        "id": "qsKtVVtsjQaO",
        "outputId": "ed8f55cf-a503-455f-acf5-5b7c9acf5fb4",
        "colab": {
          "base_uri": "https://localhost:8080/",
          "height": 88
        }
      },
      "execution_count": 106,
      "outputs": [
        {
          "output_type": "display_data",
          "data": {
            "text/plain": [
              "<IPython.core.display.HTML object>"
            ],
            "text/html": [
              "\n",
              "  <style>\n",
              "    pre {\n",
              "        white-space: pre-wrap;\n",
              "    }\n",
              "  </style>\n",
              "  "
            ]
          },
          "metadata": {}
        },
        {
          "output_type": "display_data",
          "data": {
            "text/plain": [
              "<IPython.core.display.HTML object>"
            ],
            "text/html": [
              "\n",
              "  <style>\n",
              "    pre {\n",
              "        white-space: pre-wrap;\n",
              "    }\n",
              "  </style>\n",
              "  "
            ]
          },
          "metadata": {}
        },
        {
          "output_type": "stream",
          "name": "stdout",
          "text": [
            "['<oov>', 'friend', 'friendship', 'love', 'friend', 'project', 'one', 'gutenberg™', 'may', '1', 'work', 'heart', 'thi', 'man', 'old', 'like', 'gutenberg', 'true', 'work', 'good', 'us', 'never', 'must', 'thee', 'life', 'electron', 'everi', 'make', 'shall', 'without', 'e', 'world', 'term', 'sweet', 'thou', 'copyright', 'foundat', 'new', 'mani', 'best', 'whose', 'use', 'state', 'would', 'say', '—shakespear', 'agreement', 'licens', 'come', 'full']\n"
          ]
        }
      ]
    },
    {
      "cell_type": "markdown",
      "source": [
        "## lemmatization"
      ],
      "metadata": {
        "id": "F0DrZq6PjxHW"
      }
    },
    {
      "cell_type": "code",
      "source": [
        "lemmatizer = WordNetLemmatizer()\n",
        "lemmatized_tokens = [lemmatizer.lemmatize(token) for token in words_list]\n",
        "print(lemmatized_tokens[:100])"
      ],
      "metadata": {
        "id": "CAxE7c0ij9HT",
        "outputId": "807d26b8-9b66-4c6b-b983-52253bd9eb2a",
        "colab": {
          "base_uri": "https://localhost:8080/",
          "height": 142
        }
      },
      "execution_count": 107,
      "outputs": [
        {
          "output_type": "display_data",
          "data": {
            "text/plain": [
              "<IPython.core.display.HTML object>"
            ],
            "text/html": [
              "\n",
              "  <style>\n",
              "    pre {\n",
              "        white-space: pre-wrap;\n",
              "    }\n",
              "  </style>\n",
              "  "
            ]
          },
          "metadata": {}
        },
        {
          "output_type": "display_data",
          "data": {
            "text/plain": [
              "<IPython.core.display.HTML object>"
            ],
            "text/html": [
              "\n",
              "  <style>\n",
              "    pre {\n",
              "        white-space: pre-wrap;\n",
              "    }\n",
              "  </style>\n",
              "  "
            ]
          },
          "metadata": {}
        },
        {
          "output_type": "stream",
          "name": "stdout",
          "text": [
            "['<OOV>', 'friend', 'friendship', 'love', 'friend', 'project', 'one', 'gutenberg™', 'may', '1', 'work', 'heart', 'thy', 'man', 'old', 'like', 'gutenberg', 'true', 'work', 'good', 'u', 'never', 'must', 'thee', 'life', 'electronic', 'every', 'make', 'shall', 'without', 'e', 'world', 'term', 'sweet', 'thou', 'copyright', 'foundation', 'new', 'many', 'best', 'whose', 'use', 'state', 'would', 'say', '—shakespeare', 'agreement', 'license', 'come', 'full', 'time', 'two', 'united', 'cannot', '—unknown', 'still', 'people', 'friendship', 'give', 'found', 'soul', 'yet', 'word', 'sun', 'mine', 'donation', 'away', 'archive', 'faithful', 'word', 'though', 'thing', 'day', 'let', 'loved', 'trademark', 'ebook', 'much', 'upon', 'ever', 'nothing', 'set', 'part', '”', 'literary', 'copy', 'year', 'hour', 'long', '—emerson', 'thing', 'might', 'know', 'men', 'place', 'alone', 'law', 'think', '3', 'always']\n"
          ]
        }
      ]
    },
    {
      "cell_type": "code",
      "source": [
        "import matplotlib.pyplot as plt\n",
        "\n",
        "categories = ['Spacy', 'NLTK', 'Keras']\n",
        "values = [len(words_with_punctuation_spacy), len(words_with_punctuation), len(words_with_punctuation_keras)]\n",
        "\n",
        "plt.figure(figsize=(8, 6))\n",
        "plt.bar(categories, values, color=['skyblue', 'lightcoral', 'lightgreen'])\n",
        "plt.xlabel(\"Tokenization Method\")\n",
        "plt.ylabel(\"Number of Words with Punctuation\")\n",
        "plt.title(\"Comparison of Words with Punctuation across Different Tokenizers\")\n",
        "\n",
        "for i, v in enumerate(values):\n",
        "    plt.text(i, v + 10, str(v), ha='center', va='bottom')\n",
        "\n",
        "plt.show()"
      ],
      "metadata": {
        "id": "gjDUPqv_diKp",
        "outputId": "4d25f72d-7772-45ed-8b61-7f8e37c27349",
        "colab": {
          "base_uri": "https://localhost:8080/",
          "height": 564
        }
      },
      "execution_count": 108,
      "outputs": [
        {
          "output_type": "display_data",
          "data": {
            "text/plain": [
              "<IPython.core.display.HTML object>"
            ],
            "text/html": [
              "\n",
              "  <style>\n",
              "    pre {\n",
              "        white-space: pre-wrap;\n",
              "    }\n",
              "  </style>\n",
              "  "
            ]
          },
          "metadata": {}
        },
        {
          "output_type": "display_data",
          "data": {
            "text/plain": [
              "<IPython.core.display.HTML object>"
            ],
            "text/html": [
              "\n",
              "  <style>\n",
              "    pre {\n",
              "        white-space: pre-wrap;\n",
              "    }\n",
              "  </style>\n",
              "  "
            ]
          },
          "metadata": {}
        },
        {
          "output_type": "display_data",
          "data": {
            "text/plain": [
              "<Figure size 800x600 with 1 Axes>"
            ],
            "image/png": "[encoded data removed]"
          },
          "metadata": {}
        }
      ]
    },
    {
      "cell_type": "code",
      "source": [
        "print(\"\\nToken counts after processing:\")\n",
        "print(f\"  - Regular Expressions: {len(filtered_tokens)}\")\n",
        "print(f\"  - NLTK: {len(filtered_nltk_tokens)}\")\n",
        "print(f\"  - spaCy: {len(tokens_spacy)}\")\n",
        "print(f\"  - Keras: {len(words_list)}\")\n",
        "\n",
        "categories = ['Regex', 'NLTK', 'spaCy', 'Keras']\n",
        "values = [len(filtered_tokens), len(filtered_nltk_tokens), len(tokens_spacy), len(words_list)]\n",
        "\n",
        "plt.figure(figsize=(10, 6))\n",
        "plt.bar(categories, values, color=['skyblue', 'lightcoral', 'lightgreen', 'lightblue'])\n",
        "plt.xlabel(\"Tokenization Method\")\n",
        "plt.ylabel(\"Number of Tokens\")\n",
        "plt.title(\"Comparison of Token Counts after Processing\")\n",
        "\n",
        "for i, v in enumerate(values):\n",
        "    plt.text(i, v + 10, str(v), ha='center', va='bottom')\n",
        "\n",
        "plt.show()"
      ],
      "metadata": {
        "id": "hXwjN5yrkm7m",
        "outputId": "4c94d037-2010-457e-81b4-523e946a07cb",
        "colab": {
          "base_uri": "https://localhost:8080/",
          "height": 671
        }
      },
      "execution_count": 109,
      "outputs": [
        {
          "output_type": "display_data",
          "data": {
            "text/plain": [
              "<IPython.core.display.HTML object>"
            ],
            "text/html": [
              "\n",
              "  <style>\n",
              "    pre {\n",
              "        white-space: pre-wrap;\n",
              "    }\n",
              "  </style>\n",
              "  "
            ]
          },
          "metadata": {}
        },
        {
          "output_type": "display_data",
          "data": {
            "text/plain": [
              "<IPython.core.display.HTML object>"
            ],
            "text/html": [
              "\n",
              "  <style>\n",
              "    pre {\n",
              "        white-space: pre-wrap;\n",
              "    }\n",
              "  </style>\n",
              "  "
            ]
          },
          "metadata": {}
        },
        {
          "output_type": "stream",
          "name": "stdout",
          "text": [
            "\n",
            "Token counts after processing:\n",
            "  - Regular Expressions: 8651\n",
            "  - NLTK: 8079\n",
            "  - spaCy: 6765\n",
            "  - Keras: 3114\n"
          ]
        },
        {
          "output_type": "display_data",
          "data": {
            "text/plain": [
              "<Figure size 1000x600 with 1 Axes>"
            ],
            "image/png": "[encoded data removed]"
          },
          "metadata": {}
        }
      ]
    },
    {
      "cell_type": "markdown",
      "source": [
        "## This bar chart shows a comparison of token counts obtained after processing the same text using different tokenization methods:\n",
        "\n",
        "* Regex (Regular Expressions):\n",
        "\n",
        "* Tokenized the most, with 8651 tokens.\n",
        "Regex tokenization splits text based on specific patterns, often resulting in a higher number of tokens.\n",
        "* NLTK (Natural Language Toolkit):\n",
        "\n",
        "* Produced 8079 tokens, slightly fewer than Regex.\n",
        "NLTK provides a more linguistically accurate tokenization compared to simple\n",
        "regex patterns.\n",
        "\n",
        "* spaCy:\n",
        "\n",
        "* Generated 6765 tokens, significantly fewer than Regex and NLTK.\n",
        "spaCy's tokenizer is optimized for speed and accuracy, focusing on meaningful word units.\n",
        "\n",
        "* Keras Tokenizer:\n",
        "\n",
        "* Produced the least number of tokens, 3114 tokens.\n",
        "Keras tokenizer often reduces the token count because it might filter out special characters or lowercase everything by default."
      ],
      "metadata": {
        "id": "GykKZriRqcjH"
      }
    },
    {
      "cell_type": "code",
      "source": [
        "def compare_tokenization_sets(filtered_tokens, filtered_nltk_tokens, tokens_spacy, words_list):\n",
        "    sets = {\n",
        "        \"Regex\": set(filtered_tokens),\n",
        "        \"NLTK\": set(filtered_nltk_tokens),\n",
        "        \"spaCy\": set(tokens_spacy),\n",
        "        \"Keras\": set(words_list)\n",
        "    }\n",
        "\n",
        "    methods = list(sets.keys())\n",
        "\n",
        "    for i in range(len(methods)):\n",
        "        for j in range(i + 1, len(methods)):\n",
        "            method1, method2 = methods[i], methods[j]\n",
        "            common_tokens = sets[method1] & sets[method2]\n",
        "            different_tokens = sets[method1] ^ sets[method2]\n",
        "\n",
        "            print(f\"\\nComparison: {method1} vs {method2}\")\n",
        "            print(f\"  - Common tokens: {len(common_tokens)}\")\n",
        "            print(f\"  - Different tokens: {len(different_tokens)}\")"
      ],
      "metadata": {
        "id": "Dnb1JthACDIM",
        "outputId": "f43600dc-095e-460b-f708-110fa7112812",
        "colab": {
          "base_uri": "https://localhost:8080/",
          "height": 17
        }
      },
      "execution_count": 110,
      "outputs": [
        {
          "output_type": "display_data",
          "data": {
            "text/plain": [
              "<IPython.core.display.HTML object>"
            ],
            "text/html": [
              "\n",
              "  <style>\n",
              "    pre {\n",
              "        white-space: pre-wrap;\n",
              "    }\n",
              "  </style>\n",
              "  "
            ]
          },
          "metadata": {}
        },
        {
          "output_type": "display_data",
          "data": {
            "text/plain": [
              "<IPython.core.display.HTML object>"
            ],
            "text/html": [
              "\n",
              "  <style>\n",
              "    pre {\n",
              "        white-space: pre-wrap;\n",
              "    }\n",
              "  </style>\n",
              "  "
            ]
          },
          "metadata": {}
        }
      ]
    },
    {
      "cell_type": "code",
      "source": [
        "compare_tokenization_sets(filtered_tokens,filtered_nltk_tokens,tokens_spacy,words_list)"
      ],
      "metadata": {
        "id": "zvRNoEqMCErU",
        "outputId": "7f4eb956-dbfe-4284-d610-77b7ed3b0c2c",
        "colab": {
          "base_uri": "https://localhost:8080/",
          "height": 446
        }
      },
      "execution_count": 111,
      "outputs": [
        {
          "output_type": "display_data",
          "data": {
            "text/plain": [
              "<IPython.core.display.HTML object>"
            ],
            "text/html": [
              "\n",
              "  <style>\n",
              "    pre {\n",
              "        white-space: pre-wrap;\n",
              "    }\n",
              "  </style>\n",
              "  "
            ]
          },
          "metadata": {}
        },
        {
          "output_type": "display_data",
          "data": {
            "text/plain": [
              "<IPython.core.display.HTML object>"
            ],
            "text/html": [
              "\n",
              "  <style>\n",
              "    pre {\n",
              "        white-space: pre-wrap;\n",
              "    }\n",
              "  </style>\n",
              "  "
            ]
          },
          "metadata": {}
        },
        {
          "output_type": "stream",
          "name": "stdout",
          "text": [
            "\n",
            "Comparison: Regex vs NLTK\n",
            "  - Common tokens: 3051\n",
            "  - Different tokens: 551\n",
            "\n",
            "Comparison: Regex vs spaCy\n",
            "  - Common tokens: 2973\n",
            "  - Different tokens: 320\n",
            "\n",
            "Comparison: Regex vs Keras\n",
            "  - Common tokens: 2645\n",
            "  - Different tokens: 1115\n",
            "\n",
            "Comparison: NLTK vs spaCy\n",
            "  - Common tokens: 2795\n",
            "  - Different tokens: 747\n",
            "\n",
            "Comparison: NLTK vs Keras\n",
            "  - Common tokens: 2664\n",
            "  - Different tokens: 1148\n",
            "\n",
            "Comparison: spaCy vs Keras\n",
            "  - Common tokens: 2444\n",
            "  - Different tokens: 1201\n"
          ]
        }
      ]
    },
    {
      "cell_type": "markdown",
      "source": [
        "* Regex and NLTK share the most tokens, meaning they tokenize in a similar way with high coverage of all possible words.\n",
        "* spaCy strikes a balance between linguistic accuracy and compact tokenization.\n",
        "* Keras tokenization is the most simplified and different, making it ideal for neural network models where excessive vocabulary can hurt performance."
      ],
      "metadata": {
        "id": "2xvuqBFbC1fI"
      }
    }
  ]
}